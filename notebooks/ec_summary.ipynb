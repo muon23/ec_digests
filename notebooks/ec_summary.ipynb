{
 "cells": [
  {
   "cell_type": "markdown",
   "source": [
    "# Earnings Call Summary POC\n",
    "\n",
    "POC for summarizing the transcripts of an earnings call\n",
    "\n",
    "## Requirements\n",
    "#### Package Requirements\n",
    "This notebook was created with the following packages\n",
    "- python                    3.11\n",
    "- llama-index               0.12.25\n",
    "- ragas                     0.2.14\n",
    "\n",
    "#### Other Requirements\n",
    "- Environment variable `OPENAI_API_KEY`.  This is needed for LLaMA Index to use its default GPT-3.5 to provide an answer to the query.\n",
    "- Environment variable `DEEPINFRA_API_KEY`.  This is needed for REST API access LLM models in DeepInfra."
   ],
   "metadata": {
    "collapsed": false
   }
  },
  {
   "cell_type": "code",
   "execution_count": 29,
   "outputs": [],
   "source": [
    "import pandas as pd"
   ],
   "metadata": {
    "collapsed": false
   }
  },
  {
   "cell_type": "markdown",
   "source": [
    "## Set up Environment\n",
    "\n",
    "Setting up environment specific parameters.  Modify these to suit your local environment."
   ],
   "metadata": {
    "collapsed": false
   }
  },
  {
   "cell_type": "code",
   "execution_count": 30,
   "outputs": [],
   "source": [
    "#\n",
    "# Locations of the data sources\n",
    "#\n",
    "\n",
    "data_root = \"../data\"         # Directory to the data\n",
    "ec_dir = \"earning_calls\"\n",
    "working_dir = \"working\"\n",
    "reports_dir = \"reports\"\n"
   ],
   "metadata": {
    "collapsed": false
   }
  },
  {
   "cell_type": "code",
   "execution_count": 31,
   "outputs": [],
   "source": [
    "import os\n",
    "\n",
    "# Keys for LLM access\n",
    "openai_key = os.environ.get(\"OPENAI_API_KEY\")\n",
    "# hf_key = os.environ.get(\"HUGGINGFACEHUB_API_TOKEN\")\n",
    "di_key = os.environ.get(\"DEEPINFRA_API_KEY\")\n",
    "\n",
    "if not openai_key:\n",
    "    raise EnvironmentError(f\"OPENAI_API_KEY must be provided for this notebook to work.  Needed by LLaMA index.\")\n",
    "\n",
    "# if not hf_key:\n",
    "#     raise EnvironmentError(f\"Need HuggingFace token for this notebook to work.  Needed for query extension with DeepSeek-R1\"  )\n",
    "\n",
    "if not di_key:\n",
    "    raise  EnvironmentError(f\"DEEPINFRA_API_KEY is needed to run models in DeepInfra\")"
   ],
   "metadata": {
    "collapsed": false
   }
  },
  {
   "cell_type": "code",
   "execution_count": 32,
   "outputs": [],
   "source": [
    "#\n",
    "# Tweak these values\n",
    "#\n",
    "\n",
    "# Chunking size\n",
    "chunk_size = 1000\n",
    "chunk_overlap = 200\n",
    "\n",
    "# Type of article\n",
    "article_type = \"transcript of the earnings call\"\n",
    "article_name = \"MSFT_EC_2Q25\"\n",
    "article_file = \"msft/MSFT_FY2Q25__1__m4a_Good_Tape_2025-03-19.txt\"\n",
    "\n",
    "# Summarization scopes\n",
    "scope = \"Microsoft financial and operational reports\"\n",
    "\n",
    "# Sections that shall be in the report\n",
    "report_sections = \"\"\"\n",
    "1. Conclusion\n",
    "2. Key Points\n",
    "3. Contents\n",
    "3.1. Analysis\n",
    "3.2. Future Outlook\n",
    "3.3. Operation Highlights\n",
    "\"\"\"\n",
    "\n",
    "# LLM models\n",
    "# llm_model_name = \"gpt-4\"\n",
    "# llm_model_name = \"gpt-4.5\"\n",
    "llm_model_name = \"llama-3\"\n",
    "# llm_model_name = \"gemini-2\"\n",
    "\n",
    "# Generation temperature\n",
    "temperature = 0.4"
   ],
   "metadata": {
    "collapsed": false
   }
  },
  {
   "cell_type": "code",
   "execution_count": 33,
   "outputs": [],
   "source": [
    "# These are steps in this notebook that we want to force refreshing.\n",
    "# Many of the steps are time-consuming, so I save their results in the data directory.\n",
    "# If the saved results exists, I will reload them instead of recalculating them.\n",
    "# Setting any of the steps to True forces the code to recalculate the result for that step.\n",
    "steps = {\n",
    "    \"chunking\": False,                       # Input the article and do chunking\n",
    "    \"chunk_summaries\": False,                # Per chunk summarization\n",
    "    \"final_summary\": True                   # Summarize the chunk summaries\n",
    "}"
   ],
   "metadata": {
    "collapsed": false
   }
  },
  {
   "cell_type": "markdown",
   "source": [
    "## Reading and Chunking\n",
    "\n",
    "Read the transcript and chunk it."
   ],
   "metadata": {
    "collapsed": false
   }
  },
  {
   "cell_type": "code",
   "execution_count": 34,
   "outputs": [],
   "source": [
    "from llama_index.core.node_parser import SentenceSplitter\n",
    "\n",
    "article_path = os.path.join(data_root, ec_dir, article_file)\n",
    "chunk_path = os.path.join(data_root, working_dir, f\"{article_name}_chunks.parquet\")\n",
    "\n",
    "if steps[\"chunking\"] or not os.path.exists(chunk_path):\n",
    "\n",
    "    # Input\n",
    "    with open(article_path, \"r\", encoding=\"utf-8\") as tfd:\n",
    "        transcript_content = tfd.read()\n",
    "\n",
    "    # Initialize the SentenceSplitter\n",
    "    sentence_splitter = SentenceSplitter(chunk_size=chunk_size, chunk_overlap=chunk_overlap)\n",
    "\n",
    "    # Split the text into chunks\n",
    "    chunks = sentence_splitter.split_text(transcript_content)\n",
    "\n",
    "    # Put into Pandas\n",
    "    chunk_ids = [f\"{article_name}_{i:04d}\" for i in range(len(chunks))]\n",
    "    chunk_df = pd.DataFrame(zip(chunk_ids, chunks), columns=[\"chunk_id\", \"content\"])\n",
    "\n",
    "    # Save the results\n",
    "    chunk_df.to_parquet(chunk_path)\n",
    "else:\n",
    "    chunk_df = pd.read_parquet(chunk_path)"
   ],
   "metadata": {
    "collapsed": false
   }
  },
  {
   "cell_type": "code",
   "execution_count": 35,
   "outputs": [
    {
     "data": {
      "text/plain": "             chunk_id                                            content  \\\n0   MSFT_EC_2Q25_0000  MSFT_FY2Q25 (1).m4a\\n\\noperator assistance, pl...   \n1   MSFT_EC_2Q25_0001  From now on, it's a more\\ncontinuous cycle gov...   \n2   MSFT_EC_2Q25_0002  When you look at customers who purchased Copil...   \n3   MSFT_EC_2Q25_0003  More professionals than ever are engaging in h...   \n4   MSFT_EC_2Q25_0004  Microsoft Cloud gross margin percentage was 70...   \n5   MSFT_EC_2Q25_0005  Segment gross margin dollars increased 12% and...   \n6   MSFT_EC_2Q25_0006  We expect consistent execution\\nacross our cor...   \n7   MSFT_EC_2Q25_0007  We expect Xbox content services revenue growth...   \n8   MSFT_EC_2Q25_0008  Please proceed. Thank you guys for taking the ...   \n9   MSFT_EC_2Q25_0009  But what we're seeing is waiting to see just h...   \n10  MSFT_EC_2Q25_0010  Then on top of that, there is the AI scaling l...   \n11  MSFT_EC_2Q25_0011  And so that's the fleet physics we're managing...   \n12  MSFT_EC_2Q25_0012  So that's sort of one. And the other thing is ...   \n13  MSFT_EC_2Q25_0013  But then what's happening, very much like what...   \n\n                                        summary_gpt-4  \\\n0   Microsoft's Q2 FY25 earnings call included com...   \n1   Microsoft is enhancing its presence in every l...   \n2   During the first quarter of availability, cust...   \n3   Microsoft reported an increase in LinkedIn eng...   \n4   Microsoft reported that Cloud gross margin per...   \n5   Microsoft reported a 12-13% increase in segmen...   \n6   Microsoft expects consistent performance in it...   \n7   Microsoft predicts Xbox content services reven...   \n8   Microsoft had a strong quarter in terms of com...   \n9   On the earnings call, Microsoft discussed the ...   \n10  Microsoft is leveraging AI scaling laws to mak...   \n11  Microsoft is managing investments in their tec...   \n12  Microsoft recently launched O1, a feature on C...   \n13  Microsoft has seen enhanced collaboration acro...   \n\n                                      summary_gpt-4.5  \\\n0   Microsoft reported strong financial performanc...   \n1   Microsoft significantly expanded Azure data ce...   \n2   Microsoft reported robust financial and operat...   \n3   Microsoft reported strong financial and operat...   \n4   Microsoft reported a gross margin percentage o...   \n5   Microsoft's quarterly financial and operationa...   \n6   Microsoft provided forward financial guidance ...   \n7   Microsoft expects modest growth in Xbox conten...   \n8   Microsoft reported solid commercial bookings f...   \n9   Microsoft's AI revenue significantly exceeded ...   \n10  Microsoft reported significant progress in opt...   \n11  Microsoft emphasized its strategic management ...   \n12  Microsoft reported ongoing improvements in inf...   \n13  Microsoft reported strong quarterly results, h...   \n\n                                     summary_gemini-2  \\\n0   Microsoft's FY2Q25 earnings call discussed fin...   \n1   Microsoft is expanding data center capacity to...   \n2   Microsoft is seeing strong customer adoption a...   \n3   Key Microsoft financial and operational highli...   \n4   Microsoft's Cloud gross margin was 70%, decrea...   \n5   Here's a concise summary of the Microsoft fina...   \n6   Microsoft anticipates its Q3 financial perform...   \n7   Microsoft expects:\\n\\n*   **Xbox content and s...   \n8   Microsoft's commercial bookings were solid, bu...   \n9   Microsoft is seeing strong growth in its AI in...   \n10  Microsoft is seeing significant improvements i...   \n11  Microsoft's capital expenditures (CapEx) are g...   \n12  Microsoft is seeing inference optimization and...   \n13  Microsoft's commercial Remaining Performance O...   \n\n                                      summary_llama-3  \n0   Here is a concise summary of the Microsoft fin...  \n1   Here is a concise summary of the Microsoft fin...  \n2   Here is a concise summary of the Microsoft ear...  \n3   Here is a concise summary of the Microsoft fin...  \n4   Here is a concise summary of the Microsoft fin...  \n5   Here is a concise summary of the transcript se...  \n6   Here is a concise summary of Microsoft's finan...  \n7   Here is a concise summary of the transcript se...  \n8   Here is a concise summary of the transcript se...  \n9   Here is a concise summary of the section withi...  \n10  Here is a concise summary of the section withi...  \n11  Here is a concise summary of the section withi...  \n12  Here is a concise summary of the section withi...  \n13  Here is a concise summary of the section withi...  ",
      "text/html": "<div>\n<style scoped>\n    .dataframe tbody tr th:only-of-type {\n        vertical-align: middle;\n    }\n\n    .dataframe tbody tr th {\n        vertical-align: top;\n    }\n\n    .dataframe thead th {\n        text-align: right;\n    }\n</style>\n<table border=\"1\" class=\"dataframe\">\n  <thead>\n    <tr style=\"text-align: right;\">\n      <th></th>\n      <th>chunk_id</th>\n      <th>content</th>\n      <th>summary_gpt-4</th>\n      <th>summary_gpt-4.5</th>\n      <th>summary_gemini-2</th>\n      <th>summary_llama-3</th>\n    </tr>\n  </thead>\n  <tbody>\n    <tr>\n      <th>0</th>\n      <td>MSFT_EC_2Q25_0000</td>\n      <td>MSFT_FY2Q25 (1).m4a\\n\\noperator assistance, pl...</td>\n      <td>Microsoft's Q2 FY25 earnings call included com...</td>\n      <td>Microsoft reported strong financial performanc...</td>\n      <td>Microsoft's FY2Q25 earnings call discussed fin...</td>\n      <td>Here is a concise summary of the Microsoft fin...</td>\n    </tr>\n    <tr>\n      <th>1</th>\n      <td>MSFT_EC_2Q25_0001</td>\n      <td>From now on, it's a more\\ncontinuous cycle gov...</td>\n      <td>Microsoft is enhancing its presence in every l...</td>\n      <td>Microsoft significantly expanded Azure data ce...</td>\n      <td>Microsoft is expanding data center capacity to...</td>\n      <td>Here is a concise summary of the Microsoft fin...</td>\n    </tr>\n    <tr>\n      <th>2</th>\n      <td>MSFT_EC_2Q25_0002</td>\n      <td>When you look at customers who purchased Copil...</td>\n      <td>During the first quarter of availability, cust...</td>\n      <td>Microsoft reported robust financial and operat...</td>\n      <td>Microsoft is seeing strong customer adoption a...</td>\n      <td>Here is a concise summary of the Microsoft ear...</td>\n    </tr>\n    <tr>\n      <th>3</th>\n      <td>MSFT_EC_2Q25_0003</td>\n      <td>More professionals than ever are engaging in h...</td>\n      <td>Microsoft reported an increase in LinkedIn eng...</td>\n      <td>Microsoft reported strong financial and operat...</td>\n      <td>Key Microsoft financial and operational highli...</td>\n      <td>Here is a concise summary of the Microsoft fin...</td>\n    </tr>\n    <tr>\n      <th>4</th>\n      <td>MSFT_EC_2Q25_0004</td>\n      <td>Microsoft Cloud gross margin percentage was 70...</td>\n      <td>Microsoft reported that Cloud gross margin per...</td>\n      <td>Microsoft reported a gross margin percentage o...</td>\n      <td>Microsoft's Cloud gross margin was 70%, decrea...</td>\n      <td>Here is a concise summary of the Microsoft fin...</td>\n    </tr>\n    <tr>\n      <th>5</th>\n      <td>MSFT_EC_2Q25_0005</td>\n      <td>Segment gross margin dollars increased 12% and...</td>\n      <td>Microsoft reported a 12-13% increase in segmen...</td>\n      <td>Microsoft's quarterly financial and operationa...</td>\n      <td>Here's a concise summary of the Microsoft fina...</td>\n      <td>Here is a concise summary of the transcript se...</td>\n    </tr>\n    <tr>\n      <th>6</th>\n      <td>MSFT_EC_2Q25_0006</td>\n      <td>We expect consistent execution\\nacross our cor...</td>\n      <td>Microsoft expects consistent performance in it...</td>\n      <td>Microsoft provided forward financial guidance ...</td>\n      <td>Microsoft anticipates its Q3 financial perform...</td>\n      <td>Here is a concise summary of Microsoft's finan...</td>\n    </tr>\n    <tr>\n      <th>7</th>\n      <td>MSFT_EC_2Q25_0007</td>\n      <td>We expect Xbox content services revenue growth...</td>\n      <td>Microsoft predicts Xbox content services reven...</td>\n      <td>Microsoft expects modest growth in Xbox conten...</td>\n      <td>Microsoft expects:\\n\\n*   **Xbox content and s...</td>\n      <td>Here is a concise summary of the transcript se...</td>\n    </tr>\n    <tr>\n      <th>8</th>\n      <td>MSFT_EC_2Q25_0008</td>\n      <td>Please proceed. Thank you guys for taking the ...</td>\n      <td>Microsoft had a strong quarter in terms of com...</td>\n      <td>Microsoft reported solid commercial bookings f...</td>\n      <td>Microsoft's commercial bookings were solid, bu...</td>\n      <td>Here is a concise summary of the transcript se...</td>\n    </tr>\n    <tr>\n      <th>9</th>\n      <td>MSFT_EC_2Q25_0009</td>\n      <td>But what we're seeing is waiting to see just h...</td>\n      <td>On the earnings call, Microsoft discussed the ...</td>\n      <td>Microsoft's AI revenue significantly exceeded ...</td>\n      <td>Microsoft is seeing strong growth in its AI in...</td>\n      <td>Here is a concise summary of the section withi...</td>\n    </tr>\n    <tr>\n      <th>10</th>\n      <td>MSFT_EC_2Q25_0010</td>\n      <td>Then on top of that, there is the AI scaling l...</td>\n      <td>Microsoft is leveraging AI scaling laws to mak...</td>\n      <td>Microsoft reported significant progress in opt...</td>\n      <td>Microsoft is seeing significant improvements i...</td>\n      <td>Here is a concise summary of the section withi...</td>\n    </tr>\n    <tr>\n      <th>11</th>\n      <td>MSFT_EC_2Q25_0011</td>\n      <td>And so that's the fleet physics we're managing...</td>\n      <td>Microsoft is managing investments in their tec...</td>\n      <td>Microsoft emphasized its strategic management ...</td>\n      <td>Microsoft's capital expenditures (CapEx) are g...</td>\n      <td>Here is a concise summary of the section withi...</td>\n    </tr>\n    <tr>\n      <th>12</th>\n      <td>MSFT_EC_2Q25_0012</td>\n      <td>So that's sort of one. And the other thing is ...</td>\n      <td>Microsoft recently launched O1, a feature on C...</td>\n      <td>Microsoft reported ongoing improvements in inf...</td>\n      <td>Microsoft is seeing inference optimization and...</td>\n      <td>Here is a concise summary of the section withi...</td>\n    </tr>\n    <tr>\n      <th>13</th>\n      <td>MSFT_EC_2Q25_0013</td>\n      <td>But then what's happening, very much like what...</td>\n      <td>Microsoft has seen enhanced collaboration acro...</td>\n      <td>Microsoft reported strong quarterly results, h...</td>\n      <td>Microsoft's commercial Remaining Performance O...</td>\n      <td>Here is a concise summary of the section withi...</td>\n    </tr>\n  </tbody>\n</table>\n</div>"
     },
     "execution_count": 35,
     "metadata": {},
     "output_type": "execute_result"
    }
   ],
   "source": [
    "chunk_df"
   ],
   "metadata": {
    "collapsed": false
   }
  },
  {
   "cell_type": "markdown",
   "source": [
    "## Summarizing the Chunks"
   ],
   "metadata": {
    "collapsed": false
   }
  },
  {
   "cell_type": "code",
   "execution_count": 36,
   "outputs": [],
   "source": [
    "import bots\n",
    "\n",
    "llm = bots.of(llm_model_name)\n"
   ],
   "metadata": {
    "collapsed": false
   }
  },
  {
   "cell_type": "code",
   "execution_count": 37,
   "outputs": [],
   "source": [
    "from tqdm.notebook import tqdm\n",
    "\n",
    "summary_field = f\"summary_{llm_model_name}\"\n",
    "\n",
    "if steps[\"chunk_summaries\"] or summary_field not in chunk_df.columns:\n",
    "\n",
    "\n",
    "    # Ask LLM to summarize per chunk\n",
    "    chunk_summary_prompt = \"\"\"\n",
    "    Concisely summarize the following section of a {article_type}.\n",
    "    Only summarize within the scope of {scope}.\n",
    "    ===\n",
    "    {text}\n",
    "    \"\"\"\n",
    "\n",
    "    chunk_summaries = []\n",
    "    for chunk_content in tqdm(chunk_df[\"content\"], desc=\"Summarize chunks\"):\n",
    "        result = llm.react(\n",
    "            chunk_summary_prompt,\n",
    "            arguments={\n",
    "                \"article_type\": article_type,\n",
    "                \"text\": chunk_content,\n",
    "                \"scope\": scope,\n",
    "            },\n",
    "            temperature=temperature,\n",
    "        )\n",
    "        chunk_summaries.append(result[\"content\"])\n",
    "\n",
    "    chunk_df[summary_field] = chunk_summaries\n",
    "\n",
    "    # Save the results\n",
    "    chunk_df.to_parquet(chunk_path)\n",
    "else:\n",
    "    chunk_df = pd.read_parquet(chunk_path)"
   ],
   "metadata": {
    "collapsed": false
   }
  },
  {
   "cell_type": "code",
   "execution_count": 38,
   "outputs": [
    {
     "data": {
      "text/plain": "             chunk_id                                            content  \\\n0   MSFT_EC_2Q25_0000  MSFT_FY2Q25 (1).m4a\\n\\noperator assistance, pl...   \n1   MSFT_EC_2Q25_0001  From now on, it's a more\\ncontinuous cycle gov...   \n2   MSFT_EC_2Q25_0002  When you look at customers who purchased Copil...   \n3   MSFT_EC_2Q25_0003  More professionals than ever are engaging in h...   \n4   MSFT_EC_2Q25_0004  Microsoft Cloud gross margin percentage was 70...   \n5   MSFT_EC_2Q25_0005  Segment gross margin dollars increased 12% and...   \n6   MSFT_EC_2Q25_0006  We expect consistent execution\\nacross our cor...   \n7   MSFT_EC_2Q25_0007  We expect Xbox content services revenue growth...   \n8   MSFT_EC_2Q25_0008  Please proceed. Thank you guys for taking the ...   \n9   MSFT_EC_2Q25_0009  But what we're seeing is waiting to see just h...   \n10  MSFT_EC_2Q25_0010  Then on top of that, there is the AI scaling l...   \n11  MSFT_EC_2Q25_0011  And so that's the fleet physics we're managing...   \n12  MSFT_EC_2Q25_0012  So that's sort of one. And the other thing is ...   \n13  MSFT_EC_2Q25_0013  But then what's happening, very much like what...   \n\n                                        summary_gpt-4  \\\n0   Microsoft's Q2 FY25 earnings call included com...   \n1   Microsoft is enhancing its presence in every l...   \n2   During the first quarter of availability, cust...   \n3   Microsoft reported an increase in LinkedIn eng...   \n4   Microsoft reported that Cloud gross margin per...   \n5   Microsoft reported a 12-13% increase in segmen...   \n6   Microsoft expects consistent performance in it...   \n7   Microsoft predicts Xbox content services reven...   \n8   Microsoft had a strong quarter in terms of com...   \n9   On the earnings call, Microsoft discussed the ...   \n10  Microsoft is leveraging AI scaling laws to mak...   \n11  Microsoft is managing investments in their tec...   \n12  Microsoft recently launched O1, a feature on C...   \n13  Microsoft has seen enhanced collaboration acro...   \n\n                                      summary_gpt-4.5  \\\n0   Microsoft reported strong financial performanc...   \n1   Microsoft significantly expanded Azure data ce...   \n2   Microsoft reported robust financial and operat...   \n3   Microsoft reported strong financial and operat...   \n4   Microsoft reported a gross margin percentage o...   \n5   Microsoft's quarterly financial and operationa...   \n6   Microsoft provided forward financial guidance ...   \n7   Microsoft expects modest growth in Xbox conten...   \n8   Microsoft reported solid commercial bookings f...   \n9   Microsoft's AI revenue significantly exceeded ...   \n10  Microsoft reported significant progress in opt...   \n11  Microsoft emphasized its strategic management ...   \n12  Microsoft reported ongoing improvements in inf...   \n13  Microsoft reported strong quarterly results, h...   \n\n                                     summary_gemini-2  \\\n0   Microsoft's FY2Q25 earnings call discussed fin...   \n1   Microsoft is expanding data center capacity to...   \n2   Microsoft is seeing strong customer adoption a...   \n3   Key Microsoft financial and operational highli...   \n4   Microsoft's Cloud gross margin was 70%, decrea...   \n5   Here's a concise summary of the Microsoft fina...   \n6   Microsoft anticipates its Q3 financial perform...   \n7   Microsoft expects:\\n\\n*   **Xbox content and s...   \n8   Microsoft's commercial bookings were solid, bu...   \n9   Microsoft is seeing strong growth in its AI in...   \n10  Microsoft is seeing significant improvements i...   \n11  Microsoft's capital expenditures (CapEx) are g...   \n12  Microsoft is seeing inference optimization and...   \n13  Microsoft's commercial Remaining Performance O...   \n\n                                      summary_llama-3  \n0   Here is a concise summary of the Microsoft fin...  \n1   Here is a concise summary of the Microsoft fin...  \n2   Here is a concise summary of the Microsoft ear...  \n3   Here is a concise summary of the Microsoft fin...  \n4   Here is a concise summary of the Microsoft fin...  \n5   Here is a concise summary of the transcript se...  \n6   Here is a concise summary of Microsoft's finan...  \n7   Here is a concise summary of the transcript se...  \n8   Here is a concise summary of the transcript se...  \n9   Here is a concise summary of the section withi...  \n10  Here is a concise summary of the section withi...  \n11  Here is a concise summary of the section withi...  \n12  Here is a concise summary of the section withi...  \n13  Here is a concise summary of the section withi...  ",
      "text/html": "<div>\n<style scoped>\n    .dataframe tbody tr th:only-of-type {\n        vertical-align: middle;\n    }\n\n    .dataframe tbody tr th {\n        vertical-align: top;\n    }\n\n    .dataframe thead th {\n        text-align: right;\n    }\n</style>\n<table border=\"1\" class=\"dataframe\">\n  <thead>\n    <tr style=\"text-align: right;\">\n      <th></th>\n      <th>chunk_id</th>\n      <th>content</th>\n      <th>summary_gpt-4</th>\n      <th>summary_gpt-4.5</th>\n      <th>summary_gemini-2</th>\n      <th>summary_llama-3</th>\n    </tr>\n  </thead>\n  <tbody>\n    <tr>\n      <th>0</th>\n      <td>MSFT_EC_2Q25_0000</td>\n      <td>MSFT_FY2Q25 (1).m4a\\n\\noperator assistance, pl...</td>\n      <td>Microsoft's Q2 FY25 earnings call included com...</td>\n      <td>Microsoft reported strong financial performanc...</td>\n      <td>Microsoft's FY2Q25 earnings call discussed fin...</td>\n      <td>Here is a concise summary of the Microsoft fin...</td>\n    </tr>\n    <tr>\n      <th>1</th>\n      <td>MSFT_EC_2Q25_0001</td>\n      <td>From now on, it's a more\\ncontinuous cycle gov...</td>\n      <td>Microsoft is enhancing its presence in every l...</td>\n      <td>Microsoft significantly expanded Azure data ce...</td>\n      <td>Microsoft is expanding data center capacity to...</td>\n      <td>Here is a concise summary of the Microsoft fin...</td>\n    </tr>\n    <tr>\n      <th>2</th>\n      <td>MSFT_EC_2Q25_0002</td>\n      <td>When you look at customers who purchased Copil...</td>\n      <td>During the first quarter of availability, cust...</td>\n      <td>Microsoft reported robust financial and operat...</td>\n      <td>Microsoft is seeing strong customer adoption a...</td>\n      <td>Here is a concise summary of the Microsoft ear...</td>\n    </tr>\n    <tr>\n      <th>3</th>\n      <td>MSFT_EC_2Q25_0003</td>\n      <td>More professionals than ever are engaging in h...</td>\n      <td>Microsoft reported an increase in LinkedIn eng...</td>\n      <td>Microsoft reported strong financial and operat...</td>\n      <td>Key Microsoft financial and operational highli...</td>\n      <td>Here is a concise summary of the Microsoft fin...</td>\n    </tr>\n    <tr>\n      <th>4</th>\n      <td>MSFT_EC_2Q25_0004</td>\n      <td>Microsoft Cloud gross margin percentage was 70...</td>\n      <td>Microsoft reported that Cloud gross margin per...</td>\n      <td>Microsoft reported a gross margin percentage o...</td>\n      <td>Microsoft's Cloud gross margin was 70%, decrea...</td>\n      <td>Here is a concise summary of the Microsoft fin...</td>\n    </tr>\n    <tr>\n      <th>5</th>\n      <td>MSFT_EC_2Q25_0005</td>\n      <td>Segment gross margin dollars increased 12% and...</td>\n      <td>Microsoft reported a 12-13% increase in segmen...</td>\n      <td>Microsoft's quarterly financial and operationa...</td>\n      <td>Here's a concise summary of the Microsoft fina...</td>\n      <td>Here is a concise summary of the transcript se...</td>\n    </tr>\n    <tr>\n      <th>6</th>\n      <td>MSFT_EC_2Q25_0006</td>\n      <td>We expect consistent execution\\nacross our cor...</td>\n      <td>Microsoft expects consistent performance in it...</td>\n      <td>Microsoft provided forward financial guidance ...</td>\n      <td>Microsoft anticipates its Q3 financial perform...</td>\n      <td>Here is a concise summary of Microsoft's finan...</td>\n    </tr>\n    <tr>\n      <th>7</th>\n      <td>MSFT_EC_2Q25_0007</td>\n      <td>We expect Xbox content services revenue growth...</td>\n      <td>Microsoft predicts Xbox content services reven...</td>\n      <td>Microsoft expects modest growth in Xbox conten...</td>\n      <td>Microsoft expects:\\n\\n*   **Xbox content and s...</td>\n      <td>Here is a concise summary of the transcript se...</td>\n    </tr>\n    <tr>\n      <th>8</th>\n      <td>MSFT_EC_2Q25_0008</td>\n      <td>Please proceed. Thank you guys for taking the ...</td>\n      <td>Microsoft had a strong quarter in terms of com...</td>\n      <td>Microsoft reported solid commercial bookings f...</td>\n      <td>Microsoft's commercial bookings were solid, bu...</td>\n      <td>Here is a concise summary of the transcript se...</td>\n    </tr>\n    <tr>\n      <th>9</th>\n      <td>MSFT_EC_2Q25_0009</td>\n      <td>But what we're seeing is waiting to see just h...</td>\n      <td>On the earnings call, Microsoft discussed the ...</td>\n      <td>Microsoft's AI revenue significantly exceeded ...</td>\n      <td>Microsoft is seeing strong growth in its AI in...</td>\n      <td>Here is a concise summary of the section withi...</td>\n    </tr>\n    <tr>\n      <th>10</th>\n      <td>MSFT_EC_2Q25_0010</td>\n      <td>Then on top of that, there is the AI scaling l...</td>\n      <td>Microsoft is leveraging AI scaling laws to mak...</td>\n      <td>Microsoft reported significant progress in opt...</td>\n      <td>Microsoft is seeing significant improvements i...</td>\n      <td>Here is a concise summary of the section withi...</td>\n    </tr>\n    <tr>\n      <th>11</th>\n      <td>MSFT_EC_2Q25_0011</td>\n      <td>And so that's the fleet physics we're managing...</td>\n      <td>Microsoft is managing investments in their tec...</td>\n      <td>Microsoft emphasized its strategic management ...</td>\n      <td>Microsoft's capital expenditures (CapEx) are g...</td>\n      <td>Here is a concise summary of the section withi...</td>\n    </tr>\n    <tr>\n      <th>12</th>\n      <td>MSFT_EC_2Q25_0012</td>\n      <td>So that's sort of one. And the other thing is ...</td>\n      <td>Microsoft recently launched O1, a feature on C...</td>\n      <td>Microsoft reported ongoing improvements in inf...</td>\n      <td>Microsoft is seeing inference optimization and...</td>\n      <td>Here is a concise summary of the section withi...</td>\n    </tr>\n    <tr>\n      <th>13</th>\n      <td>MSFT_EC_2Q25_0013</td>\n      <td>But then what's happening, very much like what...</td>\n      <td>Microsoft has seen enhanced collaboration acro...</td>\n      <td>Microsoft reported strong quarterly results, h...</td>\n      <td>Microsoft's commercial Remaining Performance O...</td>\n      <td>Here is a concise summary of the section withi...</td>\n    </tr>\n  </tbody>\n</table>\n</div>"
     },
     "execution_count": 38,
     "metadata": {},
     "output_type": "execute_result"
    }
   ],
   "source": [
    "chunk_df"
   ],
   "metadata": {
    "collapsed": false
   }
  },
  {
   "cell_type": "code",
   "execution_count": 39,
   "outputs": [
    {
     "name": "stdout",
     "output_type": "stream",
     "text": [
      "===MSFT_EC_2Q25_0000===\n",
      "Here is a concise summary of the Microsoft financial and operational reports:\n",
      "\n",
      "* Microsoft Cloud revenue surpassed $40 billion for the first time, up 21% year-over-year.\n",
      "* AI business revenue has surpassed an annual revenue run rate of $13 billion, up 175% year-over-year.\n",
      "* The company has more than doubled its data center capacity in the last three years and added more capacity last year than any other year in its history.\n",
      "* Azure continues to expand its infrastructure layer for AI, with investments in data center capacity, networks, and silicon innovation.\n",
      "===MSFT_EC_2Q25_0001===\n",
      "Here is a concise summary of the Microsoft financial and operational reports:\n",
      "\n",
      "* Azure data center capacity has more than doubled in the last three years, with the most capacity added last year.\n",
      "* Microsoft Fabric has over 19,000 paid customers and is the fastest-growing analytics product in company history.\n",
      "* Power BI has over 30 million monthly active users, up 40% year-over-year.\n",
      "* Azure OpenAI apps have more than doubled year-over-year, driving growth in SQL Hyperscale and Cosmos DB.\n",
      "* GitHub has 150 million developers, up 50% over the past two years, and GitHub Copilot has seen over 1 million signups in its first week.\n",
      "* Microsoft 365 Copilot has seen accelerated customer adoption, with customers expanding their seats by over 10x in 18 months, and daily usage intensity increasing by over 60% quarter-over-quarter.\n",
      "===MSFT_EC_2Q25_0002===\n",
      "Here is a concise summary of the Microsoft earnings call transcript, focused on financial and operational reports:\n",
      "\n",
      "* Copilot adoption has grown significantly, with customers expanding their seats by over 10x in 18 months and daily usage more than doubling quarter over quarter.\n",
      "* Several large customers, including Novartis, Barclays, and University of Miami, have purchased 10,000+ seats.\n",
      "* The company has seen a 25% year-over-year growth in its data cloud, with billions of emails, documents, and chats added daily.\n",
      "* Dynamics 365 has taken share from legacy providers, with organizations like Ecolab and Lenovo switching to Microsoft's AI-powered apps.\n",
      "* Windows 11 momentum is building, with 15% of premium laptops sold in the US holiday season being Copilot Plus PCs.\n",
      "* LinkedIn premium revenue surpassed $2 billion in annual revenue, with subscriber growth increasing nearly 50% over the past two years.\n",
      "* Microsoft's search advertising business, including Bing and Edge, has taken share for 15 consecutive quarters, with Edge surpassing 30% market share in the US on Windows.\n",
      "===MSFT_EC_2Q25_0003===\n",
      "Here is a concise summary of the Microsoft financial and operational reports:\n",
      "\n",
      "* Revenue: $69.6 billion, up 12% year-over-year\n",
      "* Gross margin dollars: up 13% year-over-year\n",
      "* Operating income: up 17% year-over-year\n",
      "* Earnings per share: $3.23, up 10% year-over-year\n",
      "* Cloud revenue: $40.9 billion, up 21% year-over-year\n",
      "* Commercial bookings: up 67% year-over-year (75% in constant currency)\n",
      "* Commercial remaining performance obligation: $298 billion, up 34% year-over-year\n",
      "* Operating margins: 45%, up 2 points year-over-year\n",
      "* Headcount: 2% higher than a year ago, relatively unchanged from last quarter.\n",
      "===MSFT_EC_2Q25_0004===\n",
      "Here is a concise summary of the Microsoft financial and operational reports:\n",
      "\n",
      "**Financial Highlights:**\n",
      "\n",
      "* Microsoft Cloud gross margin percentage was 70%, down 2 points year-over-year\n",
      "* Company gross margin percentage increased to 69%, driven by sales mix shift to higher margin businesses\n",
      "* Operating expenses increased 5% lower than expected, and operating margins increased 2 points year-over-year to 45%\n",
      "* Revenue grew in several segments, including:\n",
      "\t+ Productivity and Business Processes: $29.4 billion, up 14% year-over-year\n",
      "\t+ Intelligent Cloud: $25.5 billion, up 19% year-over-year\n",
      "\t+ Personal Computing: $14.7 billion, relatively unchanged year-over-year\n",
      "\n",
      "**Operational Highlights:**\n",
      "\n",
      "* Headcount increased 2% year-over-year\n",
      "* Microsoft 365 commercial cloud revenue grew 16% year-over-year, driven by E5 and Microsoft 365 Copilot\n",
      "* Paid M365 commercial seats grew 7% year-over-year\n",
      "* Azure and other cloud services revenue grew 31% year-over-year, with Azure AI services growing 157% year-over-year\n",
      "* LinkedIn revenue increased 9% year-over-year, and Dynamics 365 revenue increased 19% year-over-year.\n",
      "===MSFT_EC_2Q25_0005===\n",
      "Here is a concise summary of the transcript section within the scope of Microsoft's financial and operational reports:\n",
      "\n",
      "**Q2 Results:**\n",
      "\n",
      "* Revenue in Personal Computing segment was $14.7 billion, relatively unchanged year-over-year\n",
      "* Gross margin percentage increased 6 points year-over-year, driven by sales mix shift to higher margin businesses\n",
      "* Operating income increased 32% year-over-year\n",
      "* Cash flow from operations was $22.3 billion, up 18% year-over-year\n",
      "* Free cash flow was $6.5 billion, down 29% year-over-year\n",
      "\n",
      "**Q3 Outlook:**\n",
      "\n",
      "* Foreign exchange expected to decrease total revenue growth by 2 points\n",
      "* Microsoft Cloud gross margin percentage expected to be around 69%, down year-over-year\n",
      "* Productivity and Business Processes revenue expected to grow 11-12% in constant currency\n",
      "* Microsoft 365 commercial cloud revenue growth expected to be 14-15% in constant currency\n",
      "===MSFT_EC_2Q25_0006===\n",
      "Here is a concise summary of Microsoft's financial and operational reports:\n",
      "\n",
      "* Revenue guidance:\n",
      "\t+ Productivity and Business Processes: 11-12% growth (constant currency)\n",
      "\t+ Intelligent Cloud: 19-20% growth (constant currency)\n",
      "\t+ More Personal Computing: $12.4-12.8 billion\n",
      "* Segment growth expectations:\n",
      "\t+ Microsoft 365 commercial cloud: 14-15% growth\n",
      "\t+ Azure: 31-32% growth\n",
      "\t+ Dynamics 365: mid-teens growth\n",
      "\t+ LinkedIn: low to mid single-digit growth\n",
      "\t+ Gaming: low single-digit growth\n",
      "* Margin and expense guidance:\n",
      "\t+ Microsoft Cloud gross margin: approximately 69% (down year-over-year)\n",
      "\t+ COGS: 19-20% growth (constant currency)\n",
      "\t+ Operating expense: 5-6% growth (constant currency)\n",
      "* Tax rate: approximately 18% effective tax rate for Q3\n",
      "===MSFT_EC_2Q25_0007===\n",
      "Here is a concise summary of the transcript section within the scope of Microsoft's financial and operational reports:\n",
      "\n",
      "* Xbox content services revenue is expected to grow in the low-to-mid single digits, while hardware revenue will decline year over year.\n",
      "* Company guidance includes:\n",
      "\t+ COGS growth of 19-20% in constant currency, totaling $21.65-21.85 billion.\n",
      "\t+ Operating expense growth of 5-6% in constant currency, totaling $16.4-16.5 billion.\n",
      "\t+ Other income and expense expected to be roughly negative $1 billion.\n",
      "\t+ Q3 effective tax rate of approximately 18%.\n",
      "* FY25 expectations include:\n",
      "\t+ Double-digit revenue and operating income growth.\n",
      "\t+ Operating margins up slightly year over year.\n",
      "\t+ Full-year effective tax rate of 18-19%.\n",
      "* Capital expenditures are expected to remain at similar levels in Q3 and Q4, with growth rate slowing in FY26.\n",
      "===MSFT_EC_2Q25_0008===\n",
      "Here is a concise summary of the transcript section within the scope of Microsoft's financial and operational reports:\n",
      "\n",
      "Microsoft reported solid commercial bookings, but Azure growth came in at the bottom end of the guidance range due to execution issues in non-AI areas, specifically in \"scale motions\" such as indirect sales through partners. The company is making adjustments to balance investments and sales motions. Despite this, Azure AI growth was better than expected, and the company remains confident in its ability to accelerate growth in the second half of the year, particularly as capacity constraints are addressed through ongoing investments. Guidance for Q3 remains largely unchanged, with a continued focus on managing capacity constraints.\n",
      "===MSFT_EC_2Q25_0009===\n",
      "Here is a concise summary of the section within the scope of Microsoft financial and operational reports:\n",
      "\n",
      "* Microsoft's AI growth rate exceeded expectations, driven by strength in Azure AI and Microsoft Co-Pilot.\n",
      "* Co-Pilot saw growth in new and expansion seats, usage, and price per seat.\n",
      "* The company is optimistic about the scaling of AI workloads, citing improvements in software optimizations and innovations like DeepSeq.\n",
      "* Enterprise workloads, such as SAP and VMware migrations, are also in good shape.\n",
      "* Microsoft is focused on balancing incentives and go-to-market strategies to lean into new design wins and platform shifts, rather than just protecting existing business.\n",
      "===MSFT_EC_2Q25_0010===\n",
      "Here is a concise summary of the section within the scope of Microsoft's financial and operational reports:\n",
      "\n",
      "Microsoft's CEO Satya Nadella discussed the company's approach to AI investments, noting that software optimizations have led to 10x improvements in inference computing. He also mentioned that the company is building a flexible, geo-distributed fleet to balance training and inference needs, with a focus on reducing costs and increasing demand. Regarding capital expenditures (CapEx), Nadella emphasized the importance of continuous upgrading and modernizing the fleet to achieve the right ratio of monetization to training expense, and stated that the company's investments are fungible, allowing for long-term scalability.\n",
      "===MSFT_EC_2Q25_0011===\n",
      "Here is a concise summary of the section within the scope of Microsoft's financial and operational reports:\n",
      "\n",
      "* Microsoft has a large backlog of committed customer contracts, with $300 billion in Remaining Performance Obligations (RPO), which the company is working to deliver on efficiently.\n",
      "* The company's capital expenditures (CapEx) are focused on building out its AI infrastructure, including data centers and commercial cloud capabilities, to support customer demand.\n",
      "* The investment in CapEx is expected to pivot from infrastructure build-out to more CPU and GPU spending, which will be more directly correlated to revenue and contracted with customers.\n",
      "* Microsoft is seeing benefits from inference optimization and cost reductions, which will enable the company to make premium features more ubiquitous across its portfolio, including M365 Copilot, GitHub Copilot, and Security Copilot.\n",
      "===MSFT_EC_2Q25_0012===\n",
      "Here is a concise summary of the section within the scope of Microsoft's financial and operational reports:\n",
      "\n",
      "* Microsoft has launched new features, such as O1 and Copilot, which are powered by optimized models, reducing costs and enabling more widespread adoption.\n",
      "* The company expects to see a combination of proprietary and open models used on Azure, with a focus on optimizing for latency and cost.\n",
      "* Microsoft is investing in foundry and app server technologies to help developers keep pace with new models and reduce development and operational costs.\n",
      "* The company is seeing strength in Copilot, with initial adoption in departments such as sales, finance, and supply chain, and expects this to ramp up to larger enterprise deployments as collaboration and network effects drive demand.\n",
      "===MSFT_EC_2Q25_0013===\n",
      "Here is a concise summary of the section within the scope of Microsoft financial and operational reports:\n",
      "\n",
      "* Commercial bookings growth was 75% in constant currency, with Commercial RPO increasing $39 billion sequentially, the largest increase ever.\n",
      "* The growth was driven by a broad base, including:\n",
      "\t+ An Azure commitment from OpenAI, which is an ongoing relationship that will grow over time.\n",
      "\t+ Core motions such as renewals and add-ons to existing contracts.\n",
      "\t+ A strong quarter for E5 (M365) sales.\n",
      "\t+ Large Azure commitments from both existing and new customers.\n",
      "* The company saw good execution across various workloads, with a mix of existing customers increasing their commitments and new customers making commitments.\n"
     ]
    }
   ],
   "source": [
    "# Print the chunk summaries to read them better\n",
    "for _, row in chunk_df.iterrows():\n",
    "    print(f\"==={row['chunk_id']}===\\n{row[summary_field]}\")"
   ],
   "metadata": {
    "collapsed": false
   }
  },
  {
   "cell_type": "markdown",
   "source": [
    "## Summarize the Summaries"
   ],
   "metadata": {
    "collapsed": false
   }
  },
  {
   "cell_type": "markdown",
   "source": [],
   "metadata": {
    "collapsed": false
   }
  },
  {
   "cell_type": "code",
   "execution_count": 40,
   "outputs": [
    {
     "name": "stdout",
     "output_type": "stream",
     "text": [
      "**Conclusion**\n",
      "Microsoft's earnings call transcript highlights the company's strong financial and operational performance, with significant growth in cloud revenue, AI business, and commercial bookings. The company's investments in AI infrastructure, data center capacity, and software optimizations have driven revenue growth and improved efficiency. Microsoft's focus on innovation, customer adoption, and partnerships has positioned the company for long-term success.\n",
      "\n",
      "**Key Points**\n",
      "- Cloud revenue surpassed $40 billion, up 21% year-over-year.\n",
      "- AI business revenue reached an annual run rate of $13 billion, up 175% year-over-year.\n",
      "- Commercial bookings grew 67% year-over-year, with a 34% increase in commercial remaining performance obligation.\n",
      "- Azure data center capacity more than doubled in the last three years.\n",
      "- Microsoft 365 commercial cloud revenue grew 16% year-over-year.\n",
      "- LinkedIn revenue increased 9% year-over-year.\n",
      "\n",
      "**Contents**\n",
      "### Analysis\n",
      "Microsoft's financial performance was strong, with revenue growing 12% year-over-year to $69.6 billion. The company's gross margin dollars increased 13% year-over-year, and operating income rose 17% year-over-year. Earnings per share were $3.23, up 10% year-over-year. The company's cloud revenue growth was driven by Azure, which expanded its infrastructure layer for AI, and Microsoft 365, which saw accelerated customer adoption.\n",
      "\n",
      "### Future Outlook\n",
      "Microsoft's guidance for Q3 includes revenue growth in several segments, including Productivity and Business Processes, Intelligent Cloud, and Personal Computing. The company expects operating margins to increase, driven by a sales mix shift to higher-margin businesses. Microsoft also expects to see double-digit revenue and operating income growth in FY25, with operating margins up slightly year-over-year.\n",
      "\n",
      "### Operation Highlights\n",
      "- Azure and other cloud services revenue grew 31% year-over-year, with Azure AI services growing 157% year-over-year.\n",
      "- Microsoft 365 commercial cloud revenue grew 16% year-over-year, driven by E5 and Microsoft 365 Copilot.\n",
      "- LinkedIn revenue increased 9% year-over-year, and Dynamics 365 revenue increased 19% year-over-year.\n",
      "- GitHub has 150 million developers, up 50% over the past two years, and GitHub Copilot has seen over 1 million signups in its first week.\n",
      "- Power BI has over 30 million monthly active users, up 40% year-over-year.\n"
     ]
    }
   ],
   "source": [
    "report_en_path = os.path.join(data_root, reports_dir, f\"{article_name}_report_en_{llm_model_name}.txt\")\n",
    "\n",
    "if steps[\"final_summary\"] or not os.path.exists(report_en_path):\n",
    "    final_summary_prompt = \"\"\"\n",
    "    You are to generate a report from {article_type}.\n",
    "    Organize related points in sections, with the following formats:\n",
    "    {sections}\n",
    "    Report quantitatively if values are provided.\n",
    "    ===\n",
    "    {text}\n",
    "    \"\"\"\n",
    "\n",
    "    chunk_summaries = \"\\n\\n\".join(list(chunk_df[summary_field]))\n",
    "\n",
    "    result = llm.react(\n",
    "        final_summary_prompt,\n",
    "        arguments={\n",
    "            \"article_type\": article_type,\n",
    "            \"text\": chunk_summaries,\n",
    "            \"scope\": scope,\n",
    "            \"sections\": report_sections,\n",
    "        },\n",
    "        temperature=temperature,\n",
    "    )\n",
    "    report_en = result[\"content\"]\n",
    "\n",
    "    with open(report_en_path, \"w\", encoding=\"utf-8\") as fd:\n",
    "        fd.write(report_en)\n",
    "\n",
    "else:\n",
    "    with open(report_en_path, \"r\", encoding=\"utf-8\") as fd:\n",
    "        report_en = fd.read()\n",
    "\n",
    "print(report_en)"
   ],
   "metadata": {
    "collapsed": false
   }
  },
  {
   "cell_type": "code",
   "execution_count": 42,
   "outputs": [
    {
     "name": "stdout",
     "output_type": "stream",
     "text": [
      "**結論**\n",
      "Microsoft 的財報電話會議紀錄凸顯了公司優異的財務和營運表現，尤其是在雲端收入、AI 商業和商業訂單方面取得顯著成長。公司在 AI 基礎設施、數據中心容量和軟體最佳化方面的投資推動了收入增長和效率改善。Microsoft 對創新的重視、客戶採用和合作夥伴關係使公司順利邁向長期成功。\n",
      "\n",
      "**重點**\n",
      "- 雲端收入超過 40 億美元，同比增長 21%。\n",
      "- AI 商業收入達到年增率 13 億美元，同比增長 175%。\n",
      "- 商業訂單增長 67%，商業剩餘貢獻額增加 34%。\n",
      "- Azure 數據中心容量在過去三年內增加了一倍以上。\n",
      "- Microsoft 365 商業雲端收入增長 16%。\n",
      "- LinkedIn 收入增加 9%。\n",
      "\n",
      "**內容**\n",
      "### 分析\n",
      "Microsoft 的財務表現優異，收入同比增長 12% 至 696 億美元。公司的毛利金額同比增長 13%，營運收入增加 17%。每股收益為 3.23 美元，同比增長 10%。公司的雲端收入增長由 Azure 驅動，Azure 擴展了其基礎設施層以支援 AI，而 Microsoft 365 則加速了客戶採用。\n",
      "\n",
      "### 未來展望\n",
      "Microsoft 對 Q3 的預測包括多個分部的收入增長，包括生產力和商業流程、Intelligent Cloud 和個人電腦。公司預期營運利潤率會增加，推動因素是銷售結構向高利潤率商業的轉變。Microsoft 還預期在 FY25 中看到兩位數的收入和營運收入增長，營運利潤率也會同比增加。\n",
      "\n",
      "### 營運亮點\n",
      "- Azure 和其他雲端服務收入同比增長 31%，Azure AI 服務增長 157%。\n",
      "- Microsoft 365 商業雲端收入同比增長 16%，由 E5 和 Microsoft 365 Copilot 驅動。\n",
      "- LinkedIn 收入增加 9%，Dynamics 365 收入增加 19%。\n",
      "- GitHub 擁有 1.5 億開發人員，與過去兩年相比增長 50%，GitHub Copilot 在第一周內有超過 100 萬人的註冊。\n",
      "- Power BI 擁有超過 3000 萬月活躍用戶，同比增長 40%。\n"
     ]
    }
   ],
   "source": [
    "report_zh_path = os.path.join(data_root, reports_dir, f\"{article_name}_report_zh_{llm_model_name}.txt\")\n",
    "\n",
    "if steps[\"final_summary\"] or not os.path.exists(report_en_path):\n",
    "    translation_prompt = \"\"\"\n",
    "    Translate the following text in traditional Chinese.\n",
    "    Do not translate technical terminologies.\n",
    "    ===\n",
    "    {text}\n",
    "    \"\"\"\n",
    "\n",
    "    result = llm.react(translation_prompt, arguments={\n",
    "        \"text\": report_en,\n",
    "    })\n",
    "    report_zh = result[\"content\"]\n",
    "\n",
    "    with open(report_zh_path, \"w\", encoding=\"utf-8\") as fd:\n",
    "        fd.write(report_zh)\n",
    "\n",
    "else:\n",
    "    with open(report_zh_path, \"r\", encoding=\"utf-8\") as fd:\n",
    "        report_zh = fd.read()\n",
    "\n",
    "print(report_zh)"
   ],
   "metadata": {
    "collapsed": false
   }
  }
 ],
 "metadata": {
  "kernelspec": {
   "name": "python311",
   "language": "python",
   "display_name": "Python 3.11"
  },
  "language_info": {
   "codemirror_mode": {
    "name": "ipython",
    "version": 2
   },
   "file_extension": ".py",
   "mimetype": "text/x-python",
   "name": "python",
   "nbconvert_exporter": "python",
   "pygments_lexer": "ipython2",
   "version": "2.7.6"
  }
 },
 "nbformat": 4,
 "nbformat_minor": 0
}
