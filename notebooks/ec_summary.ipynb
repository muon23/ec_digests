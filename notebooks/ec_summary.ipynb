{
 "cells": [
  {
   "cell_type": "markdown",
   "source": [
    "# Earnings Call Summary POC\n",
    "\n",
    "POC for summarizing the transcripts of an earnings call\n",
    "\n",
    "## Requirements\n",
    "#### Package Requirements\n",
    "This notebook was created with the following packages\n",
    "- python                    3.11\n",
    "- llama-index               0.12.25\n",
    "- ragas                     0.2.14\n",
    "\n",
    "#### Other Requirements\n",
    "- Environment variable `OPENAI_API_KEY`.  This is needed for LLaMA Index to use its default GPT-3.5 to provide an answer to the query.\n",
    "- Environment variable `DEEPINFRA_API_KEY`.  This is needed for REST API access LLM models in DeepInfra."
   ],
   "metadata": {
    "collapsed": false
   }
  },
  {
   "cell_type": "code",
   "execution_count": 1,
   "outputs": [],
   "source": [
    "import pandas as pd"
   ],
   "metadata": {
    "collapsed": false
   }
  },
  {
   "cell_type": "markdown",
   "source": [
    "## Set up Environment\n",
    "\n",
    "Setting up environment specific parameters.  Modify these to suit your local environment."
   ],
   "metadata": {
    "collapsed": false
   }
  },
  {
   "cell_type": "code",
   "execution_count": 2,
   "outputs": [],
   "source": [
    "#\n",
    "# Locations of the data sources\n",
    "#\n",
    "\n",
    "data_root = \"../data\"         # Directory to the data\n",
    "ec_dir = \"earning_calls\"\n",
    "working_dir = \"working\"\n",
    "reports_dir = \"reports\"\n"
   ],
   "metadata": {
    "collapsed": false
   }
  },
  {
   "cell_type": "code",
   "execution_count": 3,
   "outputs": [],
   "source": [
    "import os\n",
    "\n",
    "# Keys for LLM access\n",
    "openai_key = os.environ.get(\"OPENAI_API_KEY\")\n",
    "# hf_key = os.environ.get(\"HUGGINGFACEHUB_API_TOKEN\")\n",
    "di_key = os.environ.get(\"DEEPINFRA_API_KEY\")\n",
    "\n",
    "if not openai_key:\n",
    "    raise EnvironmentError(f\"OPENAI_API_KEY must be provided for this notebook to work.  Needed by LLaMA index.\")\n",
    "\n",
    "# if not hf_key:\n",
    "#     raise EnvironmentError(f\"Need HuggingFace token for this notebook to work.  Needed for query extension with DeepSeek-R1\"  )\n",
    "\n",
    "if not di_key:\n",
    "    raise  EnvironmentError(f\"DEEPINFRA_API_KEY is needed to run models in DeepInfra\")"
   ],
   "metadata": {
    "collapsed": false
   }
  },
  {
   "cell_type": "code",
   "execution_count": 4,
   "outputs": [],
   "source": [
    "#\n",
    "# Tweak these values\n",
    "#\n",
    "\n",
    "# Chunking size\n",
    "chunk_size = 1000\n",
    "chunk_overlap = 200\n",
    "\n",
    "# Type of article\n",
    "article_type = \"transcript of the earnings call\"\n",
    "article_name = \"MSFT_EC_2Q25\"\n",
    "article_file = \"msft/MSFT_FY2Q25__1__m4a_Good_Tape_2025-03-19.txt\"\n",
    "\n",
    "# Summarization scopes\n",
    "scope = \"Microsoft financial and operational reports\"\n",
    "\n",
    "# Sections that shall be in the report\n",
    "report_sections = \"\"\"\n",
    "1. Conclusion\n",
    "2. Key Points\n",
    "3. Contents\n",
    "3.1. Situation Analysis\n",
    "3.2. Future Outlook\n",
    "3.3. Operation Highlights\n",
    "\"\"\"\n",
    "\n",
    "# LLM models\n",
    "# llm_model_name = \"gpt-4\"\n",
    "# llm_model_name = \"gpt-4.5\"\n",
    "llm_model_name = \"llama-3\"\n",
    "# llm_model_name = \"gemini-2\""
   ],
   "metadata": {
    "collapsed": false
   }
  },
  {
   "cell_type": "code",
   "execution_count": 5,
   "outputs": [],
   "source": [
    "# These are steps in this notebook that we want to force refreshing.\n",
    "# Many of the steps are time-consuming, so I save their results in the data directory.\n",
    "# If the saved results exists, I will reload them instead of recalculating them.\n",
    "# Setting any of the steps to True forces the code to recalculate the result for that step.\n",
    "steps = {\n",
    "    \"chunking\": False,                       # Input the article and do chunking\n",
    "    \"chunk_summaries\": False,                # Per chunk summarization\n",
    "    \"final_summary\": True                   # Summarize the chunk summaries\n",
    "}"
   ],
   "metadata": {
    "collapsed": false
   }
  },
  {
   "cell_type": "markdown",
   "source": [
    "## Reading and Chunking\n",
    "\n",
    "Read the transcript and chunk it."
   ],
   "metadata": {
    "collapsed": false
   }
  },
  {
   "cell_type": "code",
   "execution_count": 6,
   "outputs": [],
   "source": [
    "from llama_index.core.node_parser import SentenceSplitter\n",
    "\n",
    "article_path = os.path.join(data_root, ec_dir, article_file)\n",
    "chunk_path = os.path.join(data_root, working_dir, f\"{article_name}_chunks.parquet\")\n",
    "\n",
    "if steps[\"chunking\"] or not os.path.exists(chunk_path):\n",
    "\n",
    "    # Input\n",
    "    with open(article_path, \"r\", encoding=\"utf-8\") as tfd:\n",
    "        transcript_content = tfd.read()\n",
    "\n",
    "    # Initialize the SentenceSplitter\n",
    "    sentence_splitter = SentenceSplitter(chunk_size=chunk_size, chunk_overlap=chunk_overlap)\n",
    "\n",
    "    # Split the text into chunks\n",
    "    chunks = sentence_splitter.split_text(transcript_content)\n",
    "\n",
    "    # Put into Pandas\n",
    "    chunk_ids = [f\"{article_name}_{i:04d}\" for i in range(len(chunks))]\n",
    "    chunk_df = pd.DataFrame(zip(chunk_ids, chunks), columns=[\"chunk_id\", \"content\"])\n",
    "\n",
    "    # Save the results\n",
    "    chunk_df.to_parquet(chunk_path)\n",
    "else:\n",
    "    chunk_df = pd.read_parquet(chunk_path)"
   ],
   "metadata": {
    "collapsed": false
   }
  },
  {
   "cell_type": "code",
   "execution_count": 7,
   "outputs": [
    {
     "data": {
      "text/plain": "             chunk_id                                            content  \\\n0   MSFT_EC_2Q25_0000  MSFT_FY2Q25 (1).m4a\\n\\noperator assistance, pl...   \n1   MSFT_EC_2Q25_0001  From now on, it's a more\\ncontinuous cycle gov...   \n2   MSFT_EC_2Q25_0002  When you look at customers who purchased Copil...   \n3   MSFT_EC_2Q25_0003  More professionals than ever are engaging in h...   \n4   MSFT_EC_2Q25_0004  Microsoft Cloud gross margin percentage was 70...   \n5   MSFT_EC_2Q25_0005  Segment gross margin dollars increased 12% and...   \n6   MSFT_EC_2Q25_0006  We expect consistent execution\\nacross our cor...   \n7   MSFT_EC_2Q25_0007  We expect Xbox content services revenue growth...   \n8   MSFT_EC_2Q25_0008  Please proceed. Thank you guys for taking the ...   \n9   MSFT_EC_2Q25_0009  But what we're seeing is waiting to see just h...   \n10  MSFT_EC_2Q25_0010  Then on top of that, there is the AI scaling l...   \n11  MSFT_EC_2Q25_0011  And so that's the fleet physics we're managing...   \n12  MSFT_EC_2Q25_0012  So that's sort of one. And the other thing is ...   \n13  MSFT_EC_2Q25_0013  But then what's happening, very much like what...   \n\n                                              summary  \\\n0   Here is a concise summary of the section withi...   \n1   Here is a concise summary of the transcript se...   \n2   Here is a concise summary of the Microsoft ear...   \n3   Here is a concise summary of the section withi...   \n4   Here is a concise summary of Microsoft's finan...   \n5   Here is a concise summary of the Microsoft fin...   \n6   Here is a concise summary of Microsoft's finan...   \n7   Here is a concise summary of the transcript wi...   \n8   Here is a concise summary of the section withi...   \n9   Here is a concise summary of the section withi...   \n10  Here is a concise summary of the transcript se...   \n11  Here is a concise summary of the section of th...   \n12  Here is a concise summary of the section withi...   \n13  Here is a concise summary of the section withi...   \n\n                                        summary_gpt-4  \\\n0   Microsoft's Q2 FY25 earnings call included com...   \n1   Microsoft is enhancing its presence in every l...   \n2   During the first quarter of availability, cust...   \n3   Microsoft reported an increase in LinkedIn eng...   \n4   Microsoft reported that Cloud gross margin per...   \n5   Microsoft reported a 12-13% increase in segmen...   \n6   Microsoft expects consistent performance in it...   \n7   Microsoft predicts Xbox content services reven...   \n8   Microsoft had a strong quarter in terms of com...   \n9   On the earnings call, Microsoft discussed the ...   \n10  Microsoft is leveraging AI scaling laws to mak...   \n11  Microsoft is managing investments in their tec...   \n12  Microsoft recently launched O1, a feature on C...   \n13  Microsoft has seen enhanced collaboration acro...   \n\n                                      summary_gpt-4.5  \\\n0   Microsoft reported strong financial performanc...   \n1   Microsoft significantly expanded Azure data ce...   \n2   Microsoft reported robust financial and operat...   \n3   Microsoft reported strong financial and operat...   \n4   Microsoft reported a gross margin percentage o...   \n5   Microsoft's quarterly financial and operationa...   \n6   Microsoft provided forward financial guidance ...   \n7   Microsoft expects modest growth in Xbox conten...   \n8   Microsoft reported solid commercial bookings f...   \n9   Microsoft's AI revenue significantly exceeded ...   \n10  Microsoft reported significant progress in opt...   \n11  Microsoft emphasized its strategic management ...   \n12  Microsoft reported ongoing improvements in inf...   \n13  Microsoft reported strong quarterly results, h...   \n\n                                     summary_gemini-2  \n0   Microsoft's FY2Q25 earnings call discussed fin...  \n1   Microsoft is expanding data center capacity to...  \n2   Microsoft is seeing strong customer adoption a...  \n3   Key Microsoft financial and operational highli...  \n4   Microsoft's Cloud gross margin was 70%, decrea...  \n5   Here's a concise summary of the Microsoft fina...  \n6   Microsoft anticipates its Q3 financial perform...  \n7   Microsoft expects:\\n\\n*   **Xbox content and s...  \n8   Microsoft's commercial bookings were solid, bu...  \n9   Microsoft is seeing strong growth in its AI in...  \n10  Microsoft is seeing significant improvements i...  \n11  Microsoft's capital expenditures (CapEx) are g...  \n12  Microsoft is seeing inference optimization and...  \n13  Microsoft's commercial Remaining Performance O...  ",
      "text/html": "<div>\n<style scoped>\n    .dataframe tbody tr th:only-of-type {\n        vertical-align: middle;\n    }\n\n    .dataframe tbody tr th {\n        vertical-align: top;\n    }\n\n    .dataframe thead th {\n        text-align: right;\n    }\n</style>\n<table border=\"1\" class=\"dataframe\">\n  <thead>\n    <tr style=\"text-align: right;\">\n      <th></th>\n      <th>chunk_id</th>\n      <th>content</th>\n      <th>summary</th>\n      <th>summary_gpt-4</th>\n      <th>summary_gpt-4.5</th>\n      <th>summary_gemini-2</th>\n    </tr>\n  </thead>\n  <tbody>\n    <tr>\n      <th>0</th>\n      <td>MSFT_EC_2Q25_0000</td>\n      <td>MSFT_FY2Q25 (1).m4a\\n\\noperator assistance, pl...</td>\n      <td>Here is a concise summary of the section withi...</td>\n      <td>Microsoft's Q2 FY25 earnings call included com...</td>\n      <td>Microsoft reported strong financial performanc...</td>\n      <td>Microsoft's FY2Q25 earnings call discussed fin...</td>\n    </tr>\n    <tr>\n      <th>1</th>\n      <td>MSFT_EC_2Q25_0001</td>\n      <td>From now on, it's a more\\ncontinuous cycle gov...</td>\n      <td>Here is a concise summary of the transcript se...</td>\n      <td>Microsoft is enhancing its presence in every l...</td>\n      <td>Microsoft significantly expanded Azure data ce...</td>\n      <td>Microsoft is expanding data center capacity to...</td>\n    </tr>\n    <tr>\n      <th>2</th>\n      <td>MSFT_EC_2Q25_0002</td>\n      <td>When you look at customers who purchased Copil...</td>\n      <td>Here is a concise summary of the Microsoft ear...</td>\n      <td>During the first quarter of availability, cust...</td>\n      <td>Microsoft reported robust financial and operat...</td>\n      <td>Microsoft is seeing strong customer adoption a...</td>\n    </tr>\n    <tr>\n      <th>3</th>\n      <td>MSFT_EC_2Q25_0003</td>\n      <td>More professionals than ever are engaging in h...</td>\n      <td>Here is a concise summary of the section withi...</td>\n      <td>Microsoft reported an increase in LinkedIn eng...</td>\n      <td>Microsoft reported strong financial and operat...</td>\n      <td>Key Microsoft financial and operational highli...</td>\n    </tr>\n    <tr>\n      <th>4</th>\n      <td>MSFT_EC_2Q25_0004</td>\n      <td>Microsoft Cloud gross margin percentage was 70...</td>\n      <td>Here is a concise summary of Microsoft's finan...</td>\n      <td>Microsoft reported that Cloud gross margin per...</td>\n      <td>Microsoft reported a gross margin percentage o...</td>\n      <td>Microsoft's Cloud gross margin was 70%, decrea...</td>\n    </tr>\n    <tr>\n      <th>5</th>\n      <td>MSFT_EC_2Q25_0005</td>\n      <td>Segment gross margin dollars increased 12% and...</td>\n      <td>Here is a concise summary of the Microsoft fin...</td>\n      <td>Microsoft reported a 12-13% increase in segmen...</td>\n      <td>Microsoft's quarterly financial and operationa...</td>\n      <td>Here's a concise summary of the Microsoft fina...</td>\n    </tr>\n    <tr>\n      <th>6</th>\n      <td>MSFT_EC_2Q25_0006</td>\n      <td>We expect consistent execution\\nacross our cor...</td>\n      <td>Here is a concise summary of Microsoft's finan...</td>\n      <td>Microsoft expects consistent performance in it...</td>\n      <td>Microsoft provided forward financial guidance ...</td>\n      <td>Microsoft anticipates its Q3 financial perform...</td>\n    </tr>\n    <tr>\n      <th>7</th>\n      <td>MSFT_EC_2Q25_0007</td>\n      <td>We expect Xbox content services revenue growth...</td>\n      <td>Here is a concise summary of the transcript wi...</td>\n      <td>Microsoft predicts Xbox content services reven...</td>\n      <td>Microsoft expects modest growth in Xbox conten...</td>\n      <td>Microsoft expects:\\n\\n*   **Xbox content and s...</td>\n    </tr>\n    <tr>\n      <th>8</th>\n      <td>MSFT_EC_2Q25_0008</td>\n      <td>Please proceed. Thank you guys for taking the ...</td>\n      <td>Here is a concise summary of the section withi...</td>\n      <td>Microsoft had a strong quarter in terms of com...</td>\n      <td>Microsoft reported solid commercial bookings f...</td>\n      <td>Microsoft's commercial bookings were solid, bu...</td>\n    </tr>\n    <tr>\n      <th>9</th>\n      <td>MSFT_EC_2Q25_0009</td>\n      <td>But what we're seeing is waiting to see just h...</td>\n      <td>Here is a concise summary of the section withi...</td>\n      <td>On the earnings call, Microsoft discussed the ...</td>\n      <td>Microsoft's AI revenue significantly exceeded ...</td>\n      <td>Microsoft is seeing strong growth in its AI in...</td>\n    </tr>\n    <tr>\n      <th>10</th>\n      <td>MSFT_EC_2Q25_0010</td>\n      <td>Then on top of that, there is the AI scaling l...</td>\n      <td>Here is a concise summary of the transcript se...</td>\n      <td>Microsoft is leveraging AI scaling laws to mak...</td>\n      <td>Microsoft reported significant progress in opt...</td>\n      <td>Microsoft is seeing significant improvements i...</td>\n    </tr>\n    <tr>\n      <th>11</th>\n      <td>MSFT_EC_2Q25_0011</td>\n      <td>And so that's the fleet physics we're managing...</td>\n      <td>Here is a concise summary of the section of th...</td>\n      <td>Microsoft is managing investments in their tec...</td>\n      <td>Microsoft emphasized its strategic management ...</td>\n      <td>Microsoft's capital expenditures (CapEx) are g...</td>\n    </tr>\n    <tr>\n      <th>12</th>\n      <td>MSFT_EC_2Q25_0012</td>\n      <td>So that's sort of one. And the other thing is ...</td>\n      <td>Here is a concise summary of the section withi...</td>\n      <td>Microsoft recently launched O1, a feature on C...</td>\n      <td>Microsoft reported ongoing improvements in inf...</td>\n      <td>Microsoft is seeing inference optimization and...</td>\n    </tr>\n    <tr>\n      <th>13</th>\n      <td>MSFT_EC_2Q25_0013</td>\n      <td>But then what's happening, very much like what...</td>\n      <td>Here is a concise summary of the section withi...</td>\n      <td>Microsoft has seen enhanced collaboration acro...</td>\n      <td>Microsoft reported strong quarterly results, h...</td>\n      <td>Microsoft's commercial Remaining Performance O...</td>\n    </tr>\n  </tbody>\n</table>\n</div>"
     },
     "execution_count": 7,
     "metadata": {},
     "output_type": "execute_result"
    }
   ],
   "source": [
    "chunk_df"
   ],
   "metadata": {
    "collapsed": false
   }
  },
  {
   "cell_type": "markdown",
   "source": [
    "## Summarizing the Chunks"
   ],
   "metadata": {
    "collapsed": false
   }
  },
  {
   "cell_type": "code",
   "execution_count": 8,
   "outputs": [],
   "source": [
    "import bots\n",
    "\n",
    "llm = bots.of(llm_model_name)\n"
   ],
   "metadata": {
    "collapsed": false
   }
  },
  {
   "cell_type": "code",
   "execution_count": 9,
   "outputs": [
    {
     "data": {
      "text/plain": "Summarize chunks:   0%|          | 0/14 [00:00<?, ?it/s]",
      "application/vnd.jupyter.widget-view+json": {
       "version_major": 2,
       "version_minor": 0,
       "model_id": "4f8f035200d34311a9f9b3bdf66d13b5"
      }
     },
     "metadata": {},
     "output_type": "display_data"
    }
   ],
   "source": [
    "from tqdm.notebook import tqdm\n",
    "\n",
    "summary_field = f\"summary_{llm_model_name}\"\n",
    "\n",
    "if steps[\"chunk_summaries\"] or summary_field not in chunk_df.columns:\n",
    "\n",
    "\n",
    "    # Ask LLM to summarize per chunk\n",
    "    chunk_summary_prompt = \"\"\"\n",
    "    Concisely summarize the following section of a {article_type}.\n",
    "    Only summarize within the scope of {scope}.\n",
    "    ===\n",
    "    {text}\n",
    "    \"\"\"\n",
    "\n",
    "    chunk_summaries = []\n",
    "    for chunk_content in tqdm(chunk_df[\"content\"], desc=\"Summarize chunks\"):\n",
    "        result = llm.react(\n",
    "            chunk_summary_prompt,\n",
    "            arguments={\n",
    "                \"article_type\": article_type,\n",
    "                \"text\": chunk_content,\n",
    "                \"scope\": scope,\n",
    "            })\n",
    "        chunk_summaries.append(result[\"content\"])\n",
    "\n",
    "    chunk_df[summary_field] = chunk_summaries\n",
    "\n",
    "    # Save the results\n",
    "    chunk_df.to_parquet(chunk_path)\n",
    "else:\n",
    "    chunk_df = pd.read_parquet(chunk_path)"
   ],
   "metadata": {
    "collapsed": false
   }
  },
  {
   "cell_type": "code",
   "execution_count": 10,
   "outputs": [
    {
     "data": {
      "text/plain": "             chunk_id                                            content  \\\n0   MSFT_EC_2Q25_0000  MSFT_FY2Q25 (1).m4a\\n\\noperator assistance, pl...   \n1   MSFT_EC_2Q25_0001  From now on, it's a more\\ncontinuous cycle gov...   \n2   MSFT_EC_2Q25_0002  When you look at customers who purchased Copil...   \n3   MSFT_EC_2Q25_0003  More professionals than ever are engaging in h...   \n4   MSFT_EC_2Q25_0004  Microsoft Cloud gross margin percentage was 70...   \n5   MSFT_EC_2Q25_0005  Segment gross margin dollars increased 12% and...   \n6   MSFT_EC_2Q25_0006  We expect consistent execution\\nacross our cor...   \n7   MSFT_EC_2Q25_0007  We expect Xbox content services revenue growth...   \n8   MSFT_EC_2Q25_0008  Please proceed. Thank you guys for taking the ...   \n9   MSFT_EC_2Q25_0009  But what we're seeing is waiting to see just h...   \n10  MSFT_EC_2Q25_0010  Then on top of that, there is the AI scaling l...   \n11  MSFT_EC_2Q25_0011  And so that's the fleet physics we're managing...   \n12  MSFT_EC_2Q25_0012  So that's sort of one. And the other thing is ...   \n13  MSFT_EC_2Q25_0013  But then what's happening, very much like what...   \n\n                                              summary  \\\n0   Here is a concise summary of the section withi...   \n1   Here is a concise summary of the transcript se...   \n2   Here is a concise summary of the Microsoft ear...   \n3   Here is a concise summary of the section withi...   \n4   Here is a concise summary of Microsoft's finan...   \n5   Here is a concise summary of the Microsoft fin...   \n6   Here is a concise summary of Microsoft's finan...   \n7   Here is a concise summary of the transcript wi...   \n8   Here is a concise summary of the section withi...   \n9   Here is a concise summary of the section withi...   \n10  Here is a concise summary of the transcript se...   \n11  Here is a concise summary of the section of th...   \n12  Here is a concise summary of the section withi...   \n13  Here is a concise summary of the section withi...   \n\n                                        summary_gpt-4  \\\n0   Microsoft's Q2 FY25 earnings call included com...   \n1   Microsoft is enhancing its presence in every l...   \n2   During the first quarter of availability, cust...   \n3   Microsoft reported an increase in LinkedIn eng...   \n4   Microsoft reported that Cloud gross margin per...   \n5   Microsoft reported a 12-13% increase in segmen...   \n6   Microsoft expects consistent performance in it...   \n7   Microsoft predicts Xbox content services reven...   \n8   Microsoft had a strong quarter in terms of com...   \n9   On the earnings call, Microsoft discussed the ...   \n10  Microsoft is leveraging AI scaling laws to mak...   \n11  Microsoft is managing investments in their tec...   \n12  Microsoft recently launched O1, a feature on C...   \n13  Microsoft has seen enhanced collaboration acro...   \n\n                                      summary_gpt-4.5  \\\n0   Microsoft reported strong financial performanc...   \n1   Microsoft significantly expanded Azure data ce...   \n2   Microsoft reported robust financial and operat...   \n3   Microsoft reported strong financial and operat...   \n4   Microsoft reported a gross margin percentage o...   \n5   Microsoft's quarterly financial and operationa...   \n6   Microsoft provided forward financial guidance ...   \n7   Microsoft expects modest growth in Xbox conten...   \n8   Microsoft reported solid commercial bookings f...   \n9   Microsoft's AI revenue significantly exceeded ...   \n10  Microsoft reported significant progress in opt...   \n11  Microsoft emphasized its strategic management ...   \n12  Microsoft reported ongoing improvements in inf...   \n13  Microsoft reported strong quarterly results, h...   \n\n                                     summary_gemini-2  \\\n0   Microsoft's FY2Q25 earnings call discussed fin...   \n1   Microsoft is expanding data center capacity to...   \n2   Microsoft is seeing strong customer adoption a...   \n3   Key Microsoft financial and operational highli...   \n4   Microsoft's Cloud gross margin was 70%, decrea...   \n5   Here's a concise summary of the Microsoft fina...   \n6   Microsoft anticipates its Q3 financial perform...   \n7   Microsoft expects:\\n\\n*   **Xbox content and s...   \n8   Microsoft's commercial bookings were solid, bu...   \n9   Microsoft is seeing strong growth in its AI in...   \n10  Microsoft is seeing significant improvements i...   \n11  Microsoft's capital expenditures (CapEx) are g...   \n12  Microsoft is seeing inference optimization and...   \n13  Microsoft's commercial Remaining Performance O...   \n\n                                      summary_llama-3  \n0   Here is a concise summary of the transcript se...  \n1   Here is a concise summary of the transcript se...  \n2   Here is a concise summary of the earnings call...  \n3   Here is a concise summary of the Microsoft fin...  \n4   Here is a concise summary of Microsoft's finan...  \n5   Here is a concise summary of the Microsoft fin...  \n6   Here is a concise summary of Microsoft's finan...  \n7   Here is a concise summary of the Microsoft fin...  \n8   Here is a concise summary of the section withi...  \n9   Here is a concise summary of the section withi...  \n10  Here is a concise summary of the section withi...  \n11  Here is a concise summary of the section withi...  \n12  Here is a concise summary of the section withi...  \n13  Here is a concise summary of the section withi...  ",
      "text/html": "<div>\n<style scoped>\n    .dataframe tbody tr th:only-of-type {\n        vertical-align: middle;\n    }\n\n    .dataframe tbody tr th {\n        vertical-align: top;\n    }\n\n    .dataframe thead th {\n        text-align: right;\n    }\n</style>\n<table border=\"1\" class=\"dataframe\">\n  <thead>\n    <tr style=\"text-align: right;\">\n      <th></th>\n      <th>chunk_id</th>\n      <th>content</th>\n      <th>summary</th>\n      <th>summary_gpt-4</th>\n      <th>summary_gpt-4.5</th>\n      <th>summary_gemini-2</th>\n      <th>summary_llama-3</th>\n    </tr>\n  </thead>\n  <tbody>\n    <tr>\n      <th>0</th>\n      <td>MSFT_EC_2Q25_0000</td>\n      <td>MSFT_FY2Q25 (1).m4a\\n\\noperator assistance, pl...</td>\n      <td>Here is a concise summary of the section withi...</td>\n      <td>Microsoft's Q2 FY25 earnings call included com...</td>\n      <td>Microsoft reported strong financial performanc...</td>\n      <td>Microsoft's FY2Q25 earnings call discussed fin...</td>\n      <td>Here is a concise summary of the transcript se...</td>\n    </tr>\n    <tr>\n      <th>1</th>\n      <td>MSFT_EC_2Q25_0001</td>\n      <td>From now on, it's a more\\ncontinuous cycle gov...</td>\n      <td>Here is a concise summary of the transcript se...</td>\n      <td>Microsoft is enhancing its presence in every l...</td>\n      <td>Microsoft significantly expanded Azure data ce...</td>\n      <td>Microsoft is expanding data center capacity to...</td>\n      <td>Here is a concise summary of the transcript se...</td>\n    </tr>\n    <tr>\n      <th>2</th>\n      <td>MSFT_EC_2Q25_0002</td>\n      <td>When you look at customers who purchased Copil...</td>\n      <td>Here is a concise summary of the Microsoft ear...</td>\n      <td>During the first quarter of availability, cust...</td>\n      <td>Microsoft reported robust financial and operat...</td>\n      <td>Microsoft is seeing strong customer adoption a...</td>\n      <td>Here is a concise summary of the earnings call...</td>\n    </tr>\n    <tr>\n      <th>3</th>\n      <td>MSFT_EC_2Q25_0003</td>\n      <td>More professionals than ever are engaging in h...</td>\n      <td>Here is a concise summary of the section withi...</td>\n      <td>Microsoft reported an increase in LinkedIn eng...</td>\n      <td>Microsoft reported strong financial and operat...</td>\n      <td>Key Microsoft financial and operational highli...</td>\n      <td>Here is a concise summary of the Microsoft fin...</td>\n    </tr>\n    <tr>\n      <th>4</th>\n      <td>MSFT_EC_2Q25_0004</td>\n      <td>Microsoft Cloud gross margin percentage was 70...</td>\n      <td>Here is a concise summary of Microsoft's finan...</td>\n      <td>Microsoft reported that Cloud gross margin per...</td>\n      <td>Microsoft reported a gross margin percentage o...</td>\n      <td>Microsoft's Cloud gross margin was 70%, decrea...</td>\n      <td>Here is a concise summary of Microsoft's finan...</td>\n    </tr>\n    <tr>\n      <th>5</th>\n      <td>MSFT_EC_2Q25_0005</td>\n      <td>Segment gross margin dollars increased 12% and...</td>\n      <td>Here is a concise summary of the Microsoft fin...</td>\n      <td>Microsoft reported a 12-13% increase in segmen...</td>\n      <td>Microsoft's quarterly financial and operationa...</td>\n      <td>Here's a concise summary of the Microsoft fina...</td>\n      <td>Here is a concise summary of the Microsoft fin...</td>\n    </tr>\n    <tr>\n      <th>6</th>\n      <td>MSFT_EC_2Q25_0006</td>\n      <td>We expect consistent execution\\nacross our cor...</td>\n      <td>Here is a concise summary of Microsoft's finan...</td>\n      <td>Microsoft expects consistent performance in it...</td>\n      <td>Microsoft provided forward financial guidance ...</td>\n      <td>Microsoft anticipates its Q3 financial perform...</td>\n      <td>Here is a concise summary of Microsoft's finan...</td>\n    </tr>\n    <tr>\n      <th>7</th>\n      <td>MSFT_EC_2Q25_0007</td>\n      <td>We expect Xbox content services revenue growth...</td>\n      <td>Here is a concise summary of the transcript wi...</td>\n      <td>Microsoft predicts Xbox content services reven...</td>\n      <td>Microsoft expects modest growth in Xbox conten...</td>\n      <td>Microsoft expects:\\n\\n*   **Xbox content and s...</td>\n      <td>Here is a concise summary of the Microsoft fin...</td>\n    </tr>\n    <tr>\n      <th>8</th>\n      <td>MSFT_EC_2Q25_0008</td>\n      <td>Please proceed. Thank you guys for taking the ...</td>\n      <td>Here is a concise summary of the section withi...</td>\n      <td>Microsoft had a strong quarter in terms of com...</td>\n      <td>Microsoft reported solid commercial bookings f...</td>\n      <td>Microsoft's commercial bookings were solid, bu...</td>\n      <td>Here is a concise summary of the section withi...</td>\n    </tr>\n    <tr>\n      <th>9</th>\n      <td>MSFT_EC_2Q25_0009</td>\n      <td>But what we're seeing is waiting to see just h...</td>\n      <td>Here is a concise summary of the section withi...</td>\n      <td>On the earnings call, Microsoft discussed the ...</td>\n      <td>Microsoft's AI revenue significantly exceeded ...</td>\n      <td>Microsoft is seeing strong growth in its AI in...</td>\n      <td>Here is a concise summary of the section withi...</td>\n    </tr>\n    <tr>\n      <th>10</th>\n      <td>MSFT_EC_2Q25_0010</td>\n      <td>Then on top of that, there is the AI scaling l...</td>\n      <td>Here is a concise summary of the transcript se...</td>\n      <td>Microsoft is leveraging AI scaling laws to mak...</td>\n      <td>Microsoft reported significant progress in opt...</td>\n      <td>Microsoft is seeing significant improvements i...</td>\n      <td>Here is a concise summary of the section withi...</td>\n    </tr>\n    <tr>\n      <th>11</th>\n      <td>MSFT_EC_2Q25_0011</td>\n      <td>And so that's the fleet physics we're managing...</td>\n      <td>Here is a concise summary of the section of th...</td>\n      <td>Microsoft is managing investments in their tec...</td>\n      <td>Microsoft emphasized its strategic management ...</td>\n      <td>Microsoft's capital expenditures (CapEx) are g...</td>\n      <td>Here is a concise summary of the section withi...</td>\n    </tr>\n    <tr>\n      <th>12</th>\n      <td>MSFT_EC_2Q25_0012</td>\n      <td>So that's sort of one. And the other thing is ...</td>\n      <td>Here is a concise summary of the section withi...</td>\n      <td>Microsoft recently launched O1, a feature on C...</td>\n      <td>Microsoft reported ongoing improvements in inf...</td>\n      <td>Microsoft is seeing inference optimization and...</td>\n      <td>Here is a concise summary of the section withi...</td>\n    </tr>\n    <tr>\n      <th>13</th>\n      <td>MSFT_EC_2Q25_0013</td>\n      <td>But then what's happening, very much like what...</td>\n      <td>Here is a concise summary of the section withi...</td>\n      <td>Microsoft has seen enhanced collaboration acro...</td>\n      <td>Microsoft reported strong quarterly results, h...</td>\n      <td>Microsoft's commercial Remaining Performance O...</td>\n      <td>Here is a concise summary of the section withi...</td>\n    </tr>\n  </tbody>\n</table>\n</div>"
     },
     "execution_count": 10,
     "metadata": {},
     "output_type": "execute_result"
    }
   ],
   "source": [
    "chunk_df"
   ],
   "metadata": {
    "collapsed": false
   }
  },
  {
   "cell_type": "code",
   "execution_count": 11,
   "outputs": [
    {
     "name": "stdout",
     "output_type": "stream",
     "text": [
      "===MSFT_EC_2Q25_0000===\n",
      "Here is a concise summary of the transcript section within the scope of Microsoft's financial and operational reports:\n",
      "\n",
      "* Microsoft Cloud revenue surpassed $40 billion for the first time, up 21% year-over-year.\n",
      "* AI business revenue has surpassed an annual run rate of $13 billion, up 175% year-over-year.\n",
      "* The company has more than doubled its data center capacity in the last three years, with significant additions in the last year.\n",
      "* Azure continues to expand, with customers like UBS migrating workloads to the platform.\n",
      "===MSFT_EC_2Q25_0001===\n",
      "Here is a concise summary of the transcript section within the scope of Microsoft financial and operational reports:\n",
      "\n",
      "* Azure data center capacity has more than doubled in the last three years, with the most capacity added last year.\n",
      "* Microsoft Fabric has over 19,000 paid customers and is the fastest-growing analytics product in Microsoft's history.\n",
      "* Power BI has over 30 million monthly active users, up 40% year-over-year.\n",
      "* Azure OpenAI apps running on Azure databases and app services more than doubled year-over-year.\n",
      "* GitHub has 150 million developers, up 50% over the past two years, and GitHub Copilot has seen over 1 million signups in its first week.\n",
      "* Microsoft 365 Copilot has seen accelerated customer adoption, with customers who purchased it in the first quarter expanding their seats by over 10x in 18 months.\n",
      "===MSFT_EC_2Q25_0002===\n",
      "Here is a concise summary of the earnings call transcript within the scope of Microsoft's financial and operational reports:\n",
      "\n",
      "* Copilot adoption has expanded significantly, with customers increasing their seats by over 10x in 18 months and daily usage more than doubling quarter over quarter.\n",
      "* Major customers such as Novartis, Barclays, and Pearson have purchased 10,000+ seats, and over 400,000 custom agents have been built in the last three months.\n",
      "* Microsoft's data cloud is growing 25% year over year, fueling Copilot's momentum.\n",
      "* Dynamics 365 is gaining share, with organizations switching from legacy providers, and Daxco pilots have surpassed 2 million monthly physician-patient encounters.\n",
      "* Windows 11 adoption is increasing, with 15% of premium laptops sold in the US being Copilot Plus PCs.\n",
      "* LinkedIn revenue has surpassed $2 billion annually, with subscriber growth increasing nearly 50% over the past two years, and Edge has taken share for 15 consecutive quarters, surpassing 30% market share in the US on Windows.\n",
      "===MSFT_EC_2Q25_0003===\n",
      "Here is a concise summary of the Microsoft financial and operational reports from the transcript:\n",
      "\n",
      "**Revenue and Growth:** \n",
      "- Revenue: $69.6 billion, up 12% \n",
      "- Gross margin dollars: up 13% \n",
      "- Operating income: up 17% \n",
      "- Earnings per share: $3.23, up 10% \n",
      "\n",
      "**Segment Performance:**\n",
      "- Microsoft Cloud revenue: $40.9 billion, up 21% \n",
      "- Microsoft Cloud gross margin percentage: 70%, down 2 points year-over-year\n",
      "- Company gross margin percentage: 69%, up slightly year-over-year \n",
      "\n",
      "**Operational Highlights:**\n",
      "- Commercial bookings: up 67% \n",
      "- Commercial remaining performance obligation: $298 billion, up 34% \n",
      "- Annuity mix: 97% \n",
      "- Operating expenses: up 5%, lower than expected \n",
      "- Operating margins: up 2 points year-over-year to 45% \n",
      "- Headcount: 2% higher than a year ago \n",
      "\n",
      "**Business Unit Performance:**\n",
      "- LinkedIn: premium revenue surpassed $2 billion annually, subscriber growth up nearly 50% over two years \n",
      "- Search and News: took share across Bing and Edge, Edge surpassed 30% market share in the US on Windows \n",
      "- Gaming: focused on improving profitability, strong momentum for Xbox cloud gaming, record hours streamed, and Game Pass revenue set a new quarterly record.\n",
      "===MSFT_EC_2Q25_0004===\n",
      "Here is a concise summary of Microsoft's financial and operational reports:\n",
      "\n",
      "**Financial Highlights:**\n",
      "\n",
      "* Microsoft Cloud gross margin percentage was 70%, down 2 points year-over-year\n",
      "* Company gross margin percentage increased to 69%, driven by sales mix shift to higher-margin businesses\n",
      "* Operating expenses increased 5% lower than expected, with operating margins increasing 2 points year-over-year to 45%\n",
      "\n",
      "**Segment Results:**\n",
      "\n",
      "* Productivity and Business Processes revenue grew 14% to $29.4 billion, driven by Microsoft 365 commercial\n",
      "* Intelligent Cloud revenue grew 19% to $25.5 billion, driven by Azure and AI services\n",
      "* Personal Computing revenue was relatively unchanged at $14.7 billion, with growth in Windows OEM and devices, and Search and news advertising\n",
      "\n",
      "**Key Metrics:**\n",
      "\n",
      "* Microsoft 365 commercial cloud revenue increased 16%\n",
      "* Paid M365 commercial seats grew 7% year-over-year\n",
      "* M365 consumer subscriptions grew 10% to 86.3 million\n",
      "* Azure and other cloud services revenue grew 31%\n",
      "* Azure AI services grew 157% year-over-year\n",
      "===MSFT_EC_2Q25_0005===\n",
      "Here is a concise summary of the Microsoft financial and operational reports:\n",
      "\n",
      "**Q2 Results:**\n",
      "\n",
      "* Revenue in Personal Computing segment was $14.7 billion, relatively unchanged year over year\n",
      "* Gross margin percentage decreased 4 points year over year due to AI infrastructure scaling\n",
      "* Operating income grew 14%\n",
      "* Segment gross margin dollars increased 12-13% in constant currency\n",
      "* Cash flow from operations was $22.3 billion, up 18%\n",
      "* Free cash flow was $6.5 billion, down 29% year over year\n",
      "\n",
      "**Q3 Outlook:**\n",
      "\n",
      "* Foreign exchange expected to decrease total revenue growth by 2 points\n",
      "* Microsoft Cloud gross margin percentage expected to be around 69%, down year over year\n",
      "* Productivity and Business Processes revenue expected to grow 11-12% in constant currency\n",
      "* Microsoft 365 commercial cloud revenue growth expected to be 14-15% in constant currency\n",
      "* Commercial bookings growth expected to be roughly flat year over year due to strong prior year comparable.\n",
      "===MSFT_EC_2Q25_0006===\n",
      "Here is a concise summary of Microsoft's financial and operational reports:\n",
      "\n",
      "**Guidance:**\n",
      "\n",
      "* Productivity and Business Processes: 11-12% revenue growth (constant currency)\n",
      "* Microsoft 365 commercial cloud: 14-15% revenue growth (constant currency)\n",
      "* Intelligent Cloud: 19-20% revenue growth (constant currency)\n",
      "* Azure: 31-32% revenue growth (constant currency)\n",
      "* More Personal Computing: $12.4-12.8 billion revenue\n",
      "\n",
      "**Key Metrics:**\n",
      "\n",
      "* Microsoft Cloud gross margin percentage: approximately 69% (down year-over-year)\n",
      "* COGS: 19-20% growth (constant currency)\n",
      "* Operating expense: 5-6% growth (constant currency)\n",
      "* Effective tax rate: approximately 18%\n",
      "\n",
      "**Segment Expectations:**\n",
      "\n",
      "* Dynamics 365: mid-teens revenue growth\n",
      "* LinkedIn: low to mid single-digit revenue growth\n",
      "* Gaming: low single-digit revenue growth\n",
      "* Windows OEM and devices: low to mid single-digit decline\n",
      "* Search and news advertising: mid-teens revenue growth (ex-TAC)\n",
      "===MSFT_EC_2Q25_0007===\n",
      "Here is a concise summary of the Microsoft financial and operational reports from the transcript:\n",
      "\n",
      "* Xbox content services revenue is expected to grow in the low-to-mid single digits, while hardware revenue will decline year over year.\n",
      "* COGS is expected to grow 19-20% in constant currency to $21.65-21.85 billion.\n",
      "* Operating expenses are expected to grow 5-6% in constant currency to $16.4-16.5 billion.\n",
      "* Other income and expense is expected to be approximately negative $1 billion.\n",
      "* The effective tax rate for Q3 is expected to be approximately 18%.\n",
      "* Full-year revenue and operating income are expected to grow double-digits, with operating margins expected to be up slightly year over year.\n",
      "* Capital expenditures are expected to remain at similar levels in Q3 and Q4, with growth rate slowing in FY26.\n",
      "* The full-year effective tax rate is expected to be between 18-19%.\n",
      "===MSFT_EC_2Q25_0008===\n",
      "Here is a concise summary of the section within the scope of Microsoft's financial and operational reports:\n",
      "\n",
      "Microsoft reported a solid quarter with strong commercial bookings, but Azure revenue came in at the bottom end of the guidance range due to execution issues on the non-AI side. The issues were related to \"scale motions\" involving customers reached through partners and indirect sales methods, and the company is making adjustments to balance its sales approach. Despite this, Azure AI performed better than expected, and the company remains confident in its ability to accelerate growth in the second half of the year, driven by strong AI demand and investments in capacity expansion.\n",
      "===MSFT_EC_2Q25_0009===\n",
      "Here is a concise summary of the section within the scope of Microsoft's financial and operational reports:\n",
      "\n",
      "* Microsoft's AI revenue growth rate was better than expected, driven by Azure AI and Microsoft Co-Pilot.\n",
      "* Co-Pilot saw strength in new and expansion seats, usage, and price per seat, with a good signal for value.\n",
      "* The company is working to scale AI workloads, with a focus on bending the curve and putting more points up the curve through software optimizations and innovations like DeepSeq.\n",
      "* Microsoft is seeing improvements in AI scaling laws, including 10x improvements per cycle due to software optimizations on inference.\n",
      "===MSFT_EC_2Q25_0010===\n",
      "Here is a concise summary of the section within the scope of Microsoft's financial and operational reports:\n",
      "\n",
      "Microsoft's CEO discussed the company's AI strategy and its partnership with OpenAI. He highlighted the importance of software optimizations in reducing inference computing prices, making AI more ubiquitous. The CEO also mentioned that Microsoft is building a flexible and geo-distributed fleet, balancing training and inference capabilities, and working to reduce costs, such as inferencing costs for GPT models. Additionally, he noted that the company's investments in AI are fungible, allowing for scalability and modernization of the fleet over the long term, and that the right balance is being struck between monetization and training expenses.\n",
      "===MSFT_EC_2Q25_0011===\n",
      "Here is a concise summary of the section within the scope of Microsoft's financial and operational reports:\n",
      "\n",
      "* Microsoft has a large backlog of committed customer contracts (approximately $300 billion in RPO) that need to be delivered on, and investments in AI infrastructure will help the company do so more efficiently.\n",
      "* The company's capital expenditures (CapEx) growth is cyclical, with an initial focus on building infrastructure (data centers) and catching up on commercial cloud investments, and will pivot to more CPU and GPU investments that will be correlated to revenue.\n",
      "* Microsoft is making progress in reducing the cost of inference, which will enable broader deployment of AI-powered features across its product portfolio, including M365, GitHub, and Security.\n",
      "* Recent announcements, such as the launch of M365 co-pilot and O1, demonstrate the company's efforts to package and evolve its go-to-market strategy to address a broad range of customer requirements.\n",
      "===MSFT_EC_2Q25_0012===\n",
      "Here is a concise summary of the section within the scope of Microsoft's financial and operational reports:\n",
      "\n",
      "* Microsoft has launched new features, such as \"think harder\" on Copilot, which is powered by O1 and available globally, demonstrating the benefits of inference optimization and reduced costs.\n",
      "* The company is seeing strength in Copilot, with initial adoption in areas like sales, finance, and supply chain, where it can improve productivity.\n",
      "* Adoption is starting at the departmental level, but collaboration network effects are driving demand to spread Copilot across the enterprise.\n",
      "* Microsoft is investing in technologies like Foundry to help app developers keep pace with the latest models and innovations, and to reduce development and operational costs.\n",
      "===MSFT_EC_2Q25_0013===\n",
      "Here is a concise summary of the section within the scope of Microsoft financial and operational reports:\n",
      "\n",
      "* Commercial RPO increased $39 billion sequentially, the largest increase ever, with 75% constant currency growth in commercial bookings, 2x higher than the last decade.\n",
      "* The growth was driven by a large Azure commitment from OpenAI, as well as broad-based strength from core motions (renewals, add-ons), a good E5 quarter, and large Azure commitments from both existing and new customers.\n",
      "* The company saw good execution across various workloads, with existing customers increasing their commitments and new customers making commitments, indicating a positive sign for the platform.\n"
     ]
    }
   ],
   "source": [
    "# Print the chunk summaries to read them better\n",
    "for _, row in chunk_df.iterrows():\n",
    "    print(f\"==={row['chunk_id']}===\\n{row[summary_field]}\")"
   ],
   "metadata": {
    "collapsed": false
   }
  },
  {
   "cell_type": "markdown",
   "source": [
    "## Summarize the Summaries"
   ],
   "metadata": {
    "collapsed": false
   }
  },
  {
   "cell_type": "code",
   "execution_count": 12,
   "outputs": [
    {
     "name": "stdout",
     "output_type": "stream",
     "text": [
      "**Conclusion**\n",
      "\n",
      "Microsoft's financial and operational reports indicate a strong performance, with revenue surpassing $69 billion and a 12% increase year-over-year. The company's cloud revenue, particularly Azure, has shown significant growth, with a 21% increase year-over-year. Microsoft's AI business has also seen substantial growth, with a 175% increase year-over-year. The company's investments in AI infrastructure and capacity expansion are expected to drive growth in the second half of the year.\n",
      "\n",
      "**Key Points**\n",
      "\n",
      "* Microsoft Cloud revenue surpassed $40 billion, up 21% year-over-year\n",
      "* AI business revenue grew 175% year-over-year, with an annual run rate of $13 billion\n",
      "* Azure continues to expand, with customers migrating workloads to the platform\n",
      "* Microsoft 365 Copilot has seen accelerated customer adoption, with customers increasing their seats by over 10x in 18 months\n",
      "* Commercial bookings grew 67%, with a commercial remaining performance obligation of $298 billion, up 34% year-over-year\n",
      "\n",
      "**Contents**\n",
      "\n",
      "### Situation Analysis\n",
      "\n",
      "Microsoft's financial and operational reports indicate a strong performance, with revenue growth driven by cloud and AI businesses. The company's cloud revenue has surpassed $40 billion, with a 21% increase year-over-year. Azure continues to expand, with customers migrating workloads to the platform. Microsoft's AI business has also seen substantial growth, with a 175% increase year-over-year.\n",
      "\n",
      "### Future Outlook\n",
      "\n",
      "Microsoft's future outlook is positive, with expectations of double-digit revenue and operating income growth. The company's investments in AI infrastructure and capacity expansion are expected to drive growth in the second half of the year. Microsoft's guidance for the next quarter includes:\n",
      "\n",
      "* Productivity and Business Processes: 11-12% revenue growth (constant currency)\n",
      "* Microsoft 365 commercial cloud: 14-15% revenue growth (constant currency)\n",
      "* Intelligent Cloud: 19-20% revenue growth (constant currency)\n",
      "* Azure: 31-32% revenue growth (constant currency)\n",
      "\n",
      "### Operation Highlights\n",
      "\n",
      "Microsoft's operational highlights include:\n",
      "\n",
      "* Commercial bookings: up 67%\n",
      "* Commercial remaining performance obligation: $298 billion, up 34%\n",
      "* Annuity mix: 97%\n",
      "* Operating expenses: up 5%, lower than expected\n",
      "* Operating margins: up 2 points year-over-year to 45%\n",
      "* Headcount: 2% higher than a year ago\n",
      "* Azure data center capacity has more than doubled in the last three years, with significant additions in the last year.\n",
      "* Microsoft Fabric has over 19,000 paid customers and is the fastest-growing analytics product in Microsoft's history.\n",
      "* Power BI has over 30 million monthly active users, up 40% year-over-year.\n",
      "* GitHub has 150 million developers, up 50% over the past two years, and GitHub Copilot has seen over 1 million signups in its first week.\n"
     ]
    }
   ],
   "source": [
    "report_en_path = os.path.join(data_root, reports_dir, f\"{article_name}_report_en_{llm_model_name}.txt\")\n",
    "\n",
    "if steps[\"final_summary\"] or not os.path.exists(report_en_path):\n",
    "    final_summary_prompt = \"\"\"\n",
    "    You are to generate a report from {article_type}.\n",
    "    Organize related points in sections, with the following formats:\n",
    "    {sections}\n",
    "    ===\n",
    "    {text}\n",
    "    \"\"\"\n",
    "\n",
    "    chunk_summaries = \"\\n\\n\".join(list(chunk_df[summary_field]))\n",
    "\n",
    "    result = llm.react(final_summary_prompt, arguments={\n",
    "        \"article_type\": article_type,\n",
    "        \"text\": chunk_summaries,\n",
    "        \"scope\": scope,\n",
    "        \"sections\": report_sections,\n",
    "    })\n",
    "    report_en = result[\"content\"]\n",
    "\n",
    "    with open(report_en_path, \"w\", encoding=\"utf-8\") as fd:\n",
    "        fd.write(report_en)\n",
    "\n",
    "else:\n",
    "    with open(report_en_path, \"r\", encoding=\"utf-8\") as fd:\n",
    "        report_en = fd.read()\n",
    "\n",
    "print(report_en)"
   ],
   "metadata": {
    "collapsed": false
   }
  },
  {
   "cell_type": "code",
   "execution_count": 13,
   "outputs": [
    {
     "name": "stdout",
     "output_type": "stream",
     "text": [
      "**結論**\n",
      "\n",
      "Microsoft 的財務和操作報告表明出色成績，收入超過 690億美元，同比增長 12%。公司的雲端收入，特別是 Azure，顯示出顯著增長，同比增長 21%。Microsoft 的 AI 業務也出現了實質增長，同比增長 175%。公司在 AI 基礎設施和容量擴增方面的投資預計將推動公司在今年下半年的成長。\n",
      "\n",
      "**關鍵點**\n",
      "\n",
      "* Microsoft 雲端收入超過 400億美元，同比增長 21%\n",
      "* AI 業務收入增長 175%，年營收率達 130億美元\n",
      "* Azure 不斷擴大，客戶將工作負載遷移至該平台\n",
      "* Microsoft 365 Copilot 客戶採用加速，客戶在 18 個月內將座位數增加了 10 倍以上\n",
      "* 商業訂單增長 67%，商業剩余履約義務達 2980億美元，同比增長 34%\n",
      "\n",
      "**內容**\n",
      "\n",
      "### 情況分析\n",
      "\n",
      "Microsoft 的財務和操作報告表明出色成績，收入增長由雲端和 AI 業務驅動。公司的雲端收入超過 400億美元，同比增長 21%。Azure 不斷擴大，客戶將工作負載遷移至該平台。Microsoft 的 AI 業務也出現了實質增長，同比增長 175%。\n",
      "\n",
      "### 未來展望\n",
      "\n",
      "Microsoft 的未來展望是正面的，預計收入和經營收入增長雙位數。公司在 AI 基礎設施和容量擴增方面的投資預計將推動公司在今年下半年的成長。Microsoft 的下一季度預測包括：\n",
      "\n",
      "* 生產力和商業流程：11-12% 收入增長（固定匯率）\n",
      "* Microsoft 365 商業雲端：14-15% 收入增長（固定匯率）\n",
      "* 智能雲端：19-20% 收入增長（固定匯率）\n",
      "* Azure：31-32% 收入增長（固定匯率）\n",
      "\n",
      "### 運營亮點\n",
      "\n",
      "Microsoft 的運營亮點包括：\n",
      "\n",
      "* 商業訂單：增長 67%\n",
      "* 商業剩余履約義務：2980億美元，增長 34%\n",
      "* 年度混合率：97%\n",
      "* 營運費用：增長 5%，低於預期\n",
      "* 營運利潤率：增長 2 個百分點，至 45%\n",
      "* 員工人數：比一年前增加 2%\n",
      "* Azure 資料中心容量在過去三年中增長了兩倍以上，在過去一年中有顯著增加。\n",
      "* Microsoft Fabric 有超過 19,000 名付費客戶，是 Microsoft 歷史上增長最快的分析产品。\n",
      "* Power BI 有超過 3,000萬個月活躍用戶，同比增長 40%。\n",
      "* GitHub 有 1.5億名開發人員，過去兩年增長 50%，GitHub Copilot 在第一週內有超過 100萬個註冊。\n"
     ]
    }
   ],
   "source": [
    "report_zh_path = os.path.join(data_root, reports_dir, f\"{article_name}_report_zh_{llm_model_name}.txt\")\n",
    "\n",
    "if steps[\"final_summary\"] or not os.path.exists(report_en_path):\n",
    "    translation_prompt = \"\"\"\n",
    "    Translate the following text in traditional Chinese.\n",
    "    Do not translate technical terminologies.\n",
    "    ===\n",
    "    {text}\n",
    "    \"\"\"\n",
    "\n",
    "    result = llm.react(translation_prompt, arguments={\n",
    "        \"text\": report_en,\n",
    "    })\n",
    "    report_zh = result[\"content\"]\n",
    "\n",
    "    with open(report_zh_path, \"w\", encoding=\"utf-8\") as fd:\n",
    "        fd.write(report_zh)\n",
    "\n",
    "else:\n",
    "    with open(report_zh_path, \"r\", encoding=\"utf-8\") as fd:\n",
    "        report_zh = fd.read()\n",
    "\n",
    "print(report_zh)"
   ],
   "metadata": {
    "collapsed": false
   }
  }
 ],
 "metadata": {
  "kernelspec": {
   "name": "python311",
   "language": "python",
   "display_name": "Python 3.11"
  },
  "language_info": {
   "codemirror_mode": {
    "name": "ipython",
    "version": 2
   },
   "file_extension": ".py",
   "mimetype": "text/x-python",
   "name": "python",
   "nbconvert_exporter": "python",
   "pygments_lexer": "ipython2",
   "version": "2.7.6"
  }
 },
 "nbformat": 4,
 "nbformat_minor": 0
}
