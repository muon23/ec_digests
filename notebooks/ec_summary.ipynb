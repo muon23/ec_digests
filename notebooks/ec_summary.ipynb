{
 "cells": [
  {
   "cell_type": "markdown",
   "source": [
    "# Earnings Call Summary POC\n",
    "\n",
    "POC for summarizing the transcripts of an earnings call\n",
    "\n",
    "## Requirements\n",
    "#### Package Requirements\n",
    "This notebook was created with the following packages\n",
    "- python                    3.11\n",
    "- llama-index               0.12.25\n",
    "- ragas                     0.2.14\n",
    "\n",
    "#### Other Requirements\n",
    "- Environment variable `OPENAI_API_KEY`.  This is needed for LLaMA Index to use its default GPT-3.5 to provide an answer to the query.\n",
    "- Environment variable `DEEPINFRA_API_KEY`.  This is needed for REST API access LLM models in DeepInfra."
   ],
   "metadata": {
    "collapsed": false
   }
  },
  {
   "cell_type": "code",
   "execution_count": 14,
   "outputs": [],
   "source": [
    "import pandas as pd"
   ],
   "metadata": {
    "collapsed": false
   }
  },
  {
   "cell_type": "markdown",
   "source": [
    "## Set up Environment\n",
    "\n",
    "Setting up environment specific parameters.  Modify these to suit your local environment."
   ],
   "metadata": {
    "collapsed": false
   }
  },
  {
   "cell_type": "code",
   "execution_count": 15,
   "outputs": [],
   "source": [
    "#\n",
    "# Locations of the data sources\n",
    "#\n",
    "\n",
    "data_root = \"../data\"         # Directory to the data\n",
    "ec_dir = \"earning_calls\"\n",
    "working_dir = \"working\"\n",
    "reports_dir = \"reports\"\n"
   ],
   "metadata": {
    "collapsed": false
   }
  },
  {
   "cell_type": "code",
   "execution_count": 16,
   "outputs": [],
   "source": [
    "import os\n",
    "\n",
    "# Keys for LLM access\n",
    "openai_key = os.environ.get(\"OPENAI_API_KEY\")\n",
    "# hf_key = os.environ.get(\"HUGGINGFACEHUB_API_TOKEN\")\n",
    "di_key = os.environ.get(\"DEEPINFRA_API_KEY\")\n",
    "\n",
    "if not openai_key:\n",
    "    raise EnvironmentError(f\"OPENAI_API_KEY must be provided for this notebook to work.  Needed by LLaMA index.\")\n",
    "\n",
    "# if not hf_key:\n",
    "#     raise EnvironmentError(f\"Need HuggingFace token for this notebook to work.  Needed for query extension with DeepSeek-R1\"  )\n",
    "\n",
    "if not di_key:\n",
    "    raise  EnvironmentError(f\"DEEPINFRA_API_KEY is needed to run models in DeepInfra\")"
   ],
   "metadata": {
    "collapsed": false
   }
  },
  {
   "cell_type": "code",
   "execution_count": 17,
   "outputs": [],
   "source": [
    "#\n",
    "# Tweak these values\n",
    "#\n",
    "\n",
    "# Chunking size\n",
    "chunk_size = 1000\n",
    "chunk_overlap = 200\n",
    "\n",
    "# Type of article\n",
    "article_type = \"transcript of the earnings call\"\n",
    "article_name = \"MSFT_EC_2Q25\"\n",
    "article_file = \"msft/MSFT_FY2Q25__1__m4a_Good_Tape_2025-03-19.txt\"\n",
    "\n",
    "# Summarization scopes\n",
    "scope = \"Microsoft financial and operational reports\"\n",
    "\n",
    "# Sections that shall be in the report\n",
    "report_sections = [\n",
    "    \"Executive Summary\", \"Future Outlook\",\n",
    "]\n",
    "\n",
    "# LLM models\n",
    "# llm_model_name = \"gpt-4\"\n",
    "# llm_model_name = \"gpt-4.5\"\n",
    "# llm_model_name = \"llama-3\"\n",
    "llm_model_name = \"gemini-2\""
   ],
   "metadata": {
    "collapsed": false
   }
  },
  {
   "cell_type": "code",
   "execution_count": 18,
   "outputs": [],
   "source": [
    "# These are steps in this notebook that we want to force refreshing.\n",
    "# Many of the steps are time-consuming, so I save their results in the data directory.\n",
    "# If the saved results exists, I will reload them instead of recalculating them.\n",
    "# Setting any of the steps to True forces the code to recalculate the result for that step.\n",
    "steps = {\n",
    "    \"chunking\": False,                       # Input the article and do chunking\n",
    "    \"chunk_summaries\": False,                # Per chunk summarization\n",
    "    \"final_summary\": True                   # Summarize the chunk summaries\n",
    "}"
   ],
   "metadata": {
    "collapsed": false
   }
  },
  {
   "cell_type": "markdown",
   "source": [
    "## Reading and Chunking\n",
    "\n",
    "Read the transcript and chunk it."
   ],
   "metadata": {
    "collapsed": false
   }
  },
  {
   "cell_type": "code",
   "execution_count": 19,
   "outputs": [],
   "source": [
    "from llama_index.core.node_parser import SentenceSplitter\n",
    "\n",
    "article_path = os.path.join(data_root, ec_dir, article_file)\n",
    "chunk_path = os.path.join(data_root, working_dir, f\"{article_name}_chunks.parquet\")\n",
    "\n",
    "if steps[\"chunking\"] or not os.path.exists(chunk_path):\n",
    "\n",
    "    # Input\n",
    "    with open(article_path, \"r\", encoding=\"utf-8\") as tfd:\n",
    "        transcript_content = tfd.read()\n",
    "\n",
    "    # Initialize the SentenceSplitter\n",
    "    sentence_splitter = SentenceSplitter(chunk_size=chunk_size, chunk_overlap=chunk_overlap)\n",
    "\n",
    "    # Split the text into chunks\n",
    "    chunks = sentence_splitter.split_text(transcript_content)\n",
    "\n",
    "    # Put into Pandas\n",
    "    chunk_ids = [f\"{article_name}_{i:04d}\" for i in range(len(chunks))]\n",
    "    chunk_df = pd.DataFrame(zip(chunk_ids, chunks), columns=[\"chunk_id\", \"content\"])\n",
    "\n",
    "    # Save the results\n",
    "    chunk_df.to_parquet(chunk_path)\n",
    "else:\n",
    "    chunk_df = pd.read_parquet(chunk_path)"
   ],
   "metadata": {
    "collapsed": false
   }
  },
  {
   "cell_type": "code",
   "execution_count": 20,
   "outputs": [
    {
     "data": {
      "text/plain": "             chunk_id                                            content  \\\n0   MSFT_EC_2Q25_0000  MSFT_FY2Q25 (1).m4a\\n\\noperator assistance, pl...   \n1   MSFT_EC_2Q25_0001  From now on, it's a more\\ncontinuous cycle gov...   \n2   MSFT_EC_2Q25_0002  When you look at customers who purchased Copil...   \n3   MSFT_EC_2Q25_0003  More professionals than ever are engaging in h...   \n4   MSFT_EC_2Q25_0004  Microsoft Cloud gross margin percentage was 70...   \n5   MSFT_EC_2Q25_0005  Segment gross margin dollars increased 12% and...   \n6   MSFT_EC_2Q25_0006  We expect consistent execution\\nacross our cor...   \n7   MSFT_EC_2Q25_0007  We expect Xbox content services revenue growth...   \n8   MSFT_EC_2Q25_0008  Please proceed. Thank you guys for taking the ...   \n9   MSFT_EC_2Q25_0009  But what we're seeing is waiting to see just h...   \n10  MSFT_EC_2Q25_0010  Then on top of that, there is the AI scaling l...   \n11  MSFT_EC_2Q25_0011  And so that's the fleet physics we're managing...   \n12  MSFT_EC_2Q25_0012  So that's sort of one. And the other thing is ...   \n13  MSFT_EC_2Q25_0013  But then what's happening, very much like what...   \n\n                                              summary  \\\n0   Here is a concise summary of the section withi...   \n1   Here is a concise summary of the transcript se...   \n2   Here is a concise summary of the Microsoft ear...   \n3   Here is a concise summary of the section withi...   \n4   Here is a concise summary of Microsoft's finan...   \n5   Here is a concise summary of the Microsoft fin...   \n6   Here is a concise summary of Microsoft's finan...   \n7   Here is a concise summary of the transcript wi...   \n8   Here is a concise summary of the section withi...   \n9   Here is a concise summary of the section withi...   \n10  Here is a concise summary of the transcript se...   \n11  Here is a concise summary of the section of th...   \n12  Here is a concise summary of the section withi...   \n13  Here is a concise summary of the section withi...   \n\n                                        summary_gpt-4  \\\n0   Microsoft's Q2 FY25 earnings call included com...   \n1   Microsoft is enhancing its presence in every l...   \n2   During the first quarter of availability, cust...   \n3   Microsoft reported an increase in LinkedIn eng...   \n4   Microsoft reported that Cloud gross margin per...   \n5   Microsoft reported a 12-13% increase in segmen...   \n6   Microsoft expects consistent performance in it...   \n7   Microsoft predicts Xbox content services reven...   \n8   Microsoft had a strong quarter in terms of com...   \n9   On the earnings call, Microsoft discussed the ...   \n10  Microsoft is leveraging AI scaling laws to mak...   \n11  Microsoft is managing investments in their tec...   \n12  Microsoft recently launched O1, a feature on C...   \n13  Microsoft has seen enhanced collaboration acro...   \n\n                                      summary_gpt-4.5  \n0   Microsoft reported strong financial performanc...  \n1   Microsoft significantly expanded Azure data ce...  \n2   Microsoft reported robust financial and operat...  \n3   Microsoft reported strong financial and operat...  \n4   Microsoft reported a gross margin percentage o...  \n5   Microsoft's quarterly financial and operationa...  \n6   Microsoft provided forward financial guidance ...  \n7   Microsoft expects modest growth in Xbox conten...  \n8   Microsoft reported solid commercial bookings f...  \n9   Microsoft's AI revenue significantly exceeded ...  \n10  Microsoft reported significant progress in opt...  \n11  Microsoft emphasized its strategic management ...  \n12  Microsoft reported ongoing improvements in inf...  \n13  Microsoft reported strong quarterly results, h...  ",
      "text/html": "<div>\n<style scoped>\n    .dataframe tbody tr th:only-of-type {\n        vertical-align: middle;\n    }\n\n    .dataframe tbody tr th {\n        vertical-align: top;\n    }\n\n    .dataframe thead th {\n        text-align: right;\n    }\n</style>\n<table border=\"1\" class=\"dataframe\">\n  <thead>\n    <tr style=\"text-align: right;\">\n      <th></th>\n      <th>chunk_id</th>\n      <th>content</th>\n      <th>summary</th>\n      <th>summary_gpt-4</th>\n      <th>summary_gpt-4.5</th>\n    </tr>\n  </thead>\n  <tbody>\n    <tr>\n      <th>0</th>\n      <td>MSFT_EC_2Q25_0000</td>\n      <td>MSFT_FY2Q25 (1).m4a\\n\\noperator assistance, pl...</td>\n      <td>Here is a concise summary of the section withi...</td>\n      <td>Microsoft's Q2 FY25 earnings call included com...</td>\n      <td>Microsoft reported strong financial performanc...</td>\n    </tr>\n    <tr>\n      <th>1</th>\n      <td>MSFT_EC_2Q25_0001</td>\n      <td>From now on, it's a more\\ncontinuous cycle gov...</td>\n      <td>Here is a concise summary of the transcript se...</td>\n      <td>Microsoft is enhancing its presence in every l...</td>\n      <td>Microsoft significantly expanded Azure data ce...</td>\n    </tr>\n    <tr>\n      <th>2</th>\n      <td>MSFT_EC_2Q25_0002</td>\n      <td>When you look at customers who purchased Copil...</td>\n      <td>Here is a concise summary of the Microsoft ear...</td>\n      <td>During the first quarter of availability, cust...</td>\n      <td>Microsoft reported robust financial and operat...</td>\n    </tr>\n    <tr>\n      <th>3</th>\n      <td>MSFT_EC_2Q25_0003</td>\n      <td>More professionals than ever are engaging in h...</td>\n      <td>Here is a concise summary of the section withi...</td>\n      <td>Microsoft reported an increase in LinkedIn eng...</td>\n      <td>Microsoft reported strong financial and operat...</td>\n    </tr>\n    <tr>\n      <th>4</th>\n      <td>MSFT_EC_2Q25_0004</td>\n      <td>Microsoft Cloud gross margin percentage was 70...</td>\n      <td>Here is a concise summary of Microsoft's finan...</td>\n      <td>Microsoft reported that Cloud gross margin per...</td>\n      <td>Microsoft reported a gross margin percentage o...</td>\n    </tr>\n    <tr>\n      <th>5</th>\n      <td>MSFT_EC_2Q25_0005</td>\n      <td>Segment gross margin dollars increased 12% and...</td>\n      <td>Here is a concise summary of the Microsoft fin...</td>\n      <td>Microsoft reported a 12-13% increase in segmen...</td>\n      <td>Microsoft's quarterly financial and operationa...</td>\n    </tr>\n    <tr>\n      <th>6</th>\n      <td>MSFT_EC_2Q25_0006</td>\n      <td>We expect consistent execution\\nacross our cor...</td>\n      <td>Here is a concise summary of Microsoft's finan...</td>\n      <td>Microsoft expects consistent performance in it...</td>\n      <td>Microsoft provided forward financial guidance ...</td>\n    </tr>\n    <tr>\n      <th>7</th>\n      <td>MSFT_EC_2Q25_0007</td>\n      <td>We expect Xbox content services revenue growth...</td>\n      <td>Here is a concise summary of the transcript wi...</td>\n      <td>Microsoft predicts Xbox content services reven...</td>\n      <td>Microsoft expects modest growth in Xbox conten...</td>\n    </tr>\n    <tr>\n      <th>8</th>\n      <td>MSFT_EC_2Q25_0008</td>\n      <td>Please proceed. Thank you guys for taking the ...</td>\n      <td>Here is a concise summary of the section withi...</td>\n      <td>Microsoft had a strong quarter in terms of com...</td>\n      <td>Microsoft reported solid commercial bookings f...</td>\n    </tr>\n    <tr>\n      <th>9</th>\n      <td>MSFT_EC_2Q25_0009</td>\n      <td>But what we're seeing is waiting to see just h...</td>\n      <td>Here is a concise summary of the section withi...</td>\n      <td>On the earnings call, Microsoft discussed the ...</td>\n      <td>Microsoft's AI revenue significantly exceeded ...</td>\n    </tr>\n    <tr>\n      <th>10</th>\n      <td>MSFT_EC_2Q25_0010</td>\n      <td>Then on top of that, there is the AI scaling l...</td>\n      <td>Here is a concise summary of the transcript se...</td>\n      <td>Microsoft is leveraging AI scaling laws to mak...</td>\n      <td>Microsoft reported significant progress in opt...</td>\n    </tr>\n    <tr>\n      <th>11</th>\n      <td>MSFT_EC_2Q25_0011</td>\n      <td>And so that's the fleet physics we're managing...</td>\n      <td>Here is a concise summary of the section of th...</td>\n      <td>Microsoft is managing investments in their tec...</td>\n      <td>Microsoft emphasized its strategic management ...</td>\n    </tr>\n    <tr>\n      <th>12</th>\n      <td>MSFT_EC_2Q25_0012</td>\n      <td>So that's sort of one. And the other thing is ...</td>\n      <td>Here is a concise summary of the section withi...</td>\n      <td>Microsoft recently launched O1, a feature on C...</td>\n      <td>Microsoft reported ongoing improvements in inf...</td>\n    </tr>\n    <tr>\n      <th>13</th>\n      <td>MSFT_EC_2Q25_0013</td>\n      <td>But then what's happening, very much like what...</td>\n      <td>Here is a concise summary of the section withi...</td>\n      <td>Microsoft has seen enhanced collaboration acro...</td>\n      <td>Microsoft reported strong quarterly results, h...</td>\n    </tr>\n  </tbody>\n</table>\n</div>"
     },
     "execution_count": 20,
     "metadata": {},
     "output_type": "execute_result"
    }
   ],
   "source": [
    "chunk_df"
   ],
   "metadata": {
    "collapsed": false
   }
  },
  {
   "cell_type": "markdown",
   "source": [
    "## Summarizing the Chunks"
   ],
   "metadata": {
    "collapsed": false
   }
  },
  {
   "cell_type": "code",
   "execution_count": 21,
   "outputs": [],
   "source": [
    "import bots\n",
    "\n",
    "llm = bots.of(llm_model_name)\n"
   ],
   "metadata": {
    "collapsed": false
   }
  },
  {
   "cell_type": "code",
   "execution_count": 22,
   "outputs": [
    {
     "data": {
      "text/plain": "Summarize chunks:   0%|          | 0/14 [00:00<?, ?it/s]",
      "application/vnd.jupyter.widget-view+json": {
       "version_major": 2,
       "version_minor": 0,
       "model_id": "24dfc0d48fd947cab17fcfb8990dd46e"
      }
     },
     "metadata": {},
     "output_type": "display_data"
    }
   ],
   "source": [
    "from tqdm.notebook import tqdm\n",
    "\n",
    "summary_field = f\"summary_{llm_model_name}\"\n",
    "\n",
    "if steps[\"chunk_summaries\"] or summary_field not in chunk_df.columns:\n",
    "\n",
    "\n",
    "    # Ask LLM to summarize per chunk\n",
    "    chunk_summary_prompt = \"\"\"\n",
    "    Concisely summarize the following section of a {article_type}.\n",
    "    Only summarize within the scope of {scope}.\n",
    "    ===\n",
    "    {text}\n",
    "    \"\"\"\n",
    "\n",
    "    chunk_summaries = []\n",
    "    for chunk_content in tqdm(chunk_df[\"content\"], desc=\"Summarize chunks\"):\n",
    "        result = llm.react(\n",
    "            chunk_summary_prompt,\n",
    "            arguments={\n",
    "                \"article_type\": article_type,\n",
    "                \"text\": chunk_content,\n",
    "                \"scope\": scope,\n",
    "            })\n",
    "        chunk_summaries.append(result[\"content\"])\n",
    "\n",
    "    chunk_df[summary_field] = chunk_summaries\n",
    "\n",
    "    # Save the results\n",
    "    chunk_df.to_parquet(chunk_path)\n",
    "else:\n",
    "    chunk_df = pd.read_parquet(chunk_path)"
   ],
   "metadata": {
    "collapsed": false
   }
  },
  {
   "cell_type": "code",
   "execution_count": 23,
   "outputs": [
    {
     "data": {
      "text/plain": "             chunk_id                                            content  \\\n0   MSFT_EC_2Q25_0000  MSFT_FY2Q25 (1).m4a\\n\\noperator assistance, pl...   \n1   MSFT_EC_2Q25_0001  From now on, it's a more\\ncontinuous cycle gov...   \n2   MSFT_EC_2Q25_0002  When you look at customers who purchased Copil...   \n3   MSFT_EC_2Q25_0003  More professionals than ever are engaging in h...   \n4   MSFT_EC_2Q25_0004  Microsoft Cloud gross margin percentage was 70...   \n5   MSFT_EC_2Q25_0005  Segment gross margin dollars increased 12% and...   \n6   MSFT_EC_2Q25_0006  We expect consistent execution\\nacross our cor...   \n7   MSFT_EC_2Q25_0007  We expect Xbox content services revenue growth...   \n8   MSFT_EC_2Q25_0008  Please proceed. Thank you guys for taking the ...   \n9   MSFT_EC_2Q25_0009  But what we're seeing is waiting to see just h...   \n10  MSFT_EC_2Q25_0010  Then on top of that, there is the AI scaling l...   \n11  MSFT_EC_2Q25_0011  And so that's the fleet physics we're managing...   \n12  MSFT_EC_2Q25_0012  So that's sort of one. And the other thing is ...   \n13  MSFT_EC_2Q25_0013  But then what's happening, very much like what...   \n\n                                              summary  \\\n0   Here is a concise summary of the section withi...   \n1   Here is a concise summary of the transcript se...   \n2   Here is a concise summary of the Microsoft ear...   \n3   Here is a concise summary of the section withi...   \n4   Here is a concise summary of Microsoft's finan...   \n5   Here is a concise summary of the Microsoft fin...   \n6   Here is a concise summary of Microsoft's finan...   \n7   Here is a concise summary of the transcript wi...   \n8   Here is a concise summary of the section withi...   \n9   Here is a concise summary of the section withi...   \n10  Here is a concise summary of the transcript se...   \n11  Here is a concise summary of the section of th...   \n12  Here is a concise summary of the section withi...   \n13  Here is a concise summary of the section withi...   \n\n                                        summary_gpt-4  \\\n0   Microsoft's Q2 FY25 earnings call included com...   \n1   Microsoft is enhancing its presence in every l...   \n2   During the first quarter of availability, cust...   \n3   Microsoft reported an increase in LinkedIn eng...   \n4   Microsoft reported that Cloud gross margin per...   \n5   Microsoft reported a 12-13% increase in segmen...   \n6   Microsoft expects consistent performance in it...   \n7   Microsoft predicts Xbox content services reven...   \n8   Microsoft had a strong quarter in terms of com...   \n9   On the earnings call, Microsoft discussed the ...   \n10  Microsoft is leveraging AI scaling laws to mak...   \n11  Microsoft is managing investments in their tec...   \n12  Microsoft recently launched O1, a feature on C...   \n13  Microsoft has seen enhanced collaboration acro...   \n\n                                      summary_gpt-4.5  \\\n0   Microsoft reported strong financial performanc...   \n1   Microsoft significantly expanded Azure data ce...   \n2   Microsoft reported robust financial and operat...   \n3   Microsoft reported strong financial and operat...   \n4   Microsoft reported a gross margin percentage o...   \n5   Microsoft's quarterly financial and operationa...   \n6   Microsoft provided forward financial guidance ...   \n7   Microsoft expects modest growth in Xbox conten...   \n8   Microsoft reported solid commercial bookings f...   \n9   Microsoft's AI revenue significantly exceeded ...   \n10  Microsoft reported significant progress in opt...   \n11  Microsoft emphasized its strategic management ...   \n12  Microsoft reported ongoing improvements in inf...   \n13  Microsoft reported strong quarterly results, h...   \n\n                                     summary_gemini-2  \n0   Microsoft's FY2Q25 earnings call discussed fin...  \n1   Microsoft is expanding data center capacity to...  \n2   Microsoft is seeing strong customer adoption a...  \n3   Key Microsoft financial and operational highli...  \n4   Microsoft's Cloud gross margin was 70%, decrea...  \n5   Here's a concise summary of the Microsoft fina...  \n6   Microsoft anticipates its Q3 financial perform...  \n7   Microsoft expects:\\n\\n*   **Xbox content and s...  \n8   Microsoft's commercial bookings were solid, bu...  \n9   Microsoft is seeing strong growth in its AI in...  \n10  Microsoft is seeing significant improvements i...  \n11  Microsoft's capital expenditures (CapEx) are g...  \n12  Microsoft is seeing inference optimization and...  \n13  Microsoft's commercial Remaining Performance O...  ",
      "text/html": "<div>\n<style scoped>\n    .dataframe tbody tr th:only-of-type {\n        vertical-align: middle;\n    }\n\n    .dataframe tbody tr th {\n        vertical-align: top;\n    }\n\n    .dataframe thead th {\n        text-align: right;\n    }\n</style>\n<table border=\"1\" class=\"dataframe\">\n  <thead>\n    <tr style=\"text-align: right;\">\n      <th></th>\n      <th>chunk_id</th>\n      <th>content</th>\n      <th>summary</th>\n      <th>summary_gpt-4</th>\n      <th>summary_gpt-4.5</th>\n      <th>summary_gemini-2</th>\n    </tr>\n  </thead>\n  <tbody>\n    <tr>\n      <th>0</th>\n      <td>MSFT_EC_2Q25_0000</td>\n      <td>MSFT_FY2Q25 (1).m4a\\n\\noperator assistance, pl...</td>\n      <td>Here is a concise summary of the section withi...</td>\n      <td>Microsoft's Q2 FY25 earnings call included com...</td>\n      <td>Microsoft reported strong financial performanc...</td>\n      <td>Microsoft's FY2Q25 earnings call discussed fin...</td>\n    </tr>\n    <tr>\n      <th>1</th>\n      <td>MSFT_EC_2Q25_0001</td>\n      <td>From now on, it's a more\\ncontinuous cycle gov...</td>\n      <td>Here is a concise summary of the transcript se...</td>\n      <td>Microsoft is enhancing its presence in every l...</td>\n      <td>Microsoft significantly expanded Azure data ce...</td>\n      <td>Microsoft is expanding data center capacity to...</td>\n    </tr>\n    <tr>\n      <th>2</th>\n      <td>MSFT_EC_2Q25_0002</td>\n      <td>When you look at customers who purchased Copil...</td>\n      <td>Here is a concise summary of the Microsoft ear...</td>\n      <td>During the first quarter of availability, cust...</td>\n      <td>Microsoft reported robust financial and operat...</td>\n      <td>Microsoft is seeing strong customer adoption a...</td>\n    </tr>\n    <tr>\n      <th>3</th>\n      <td>MSFT_EC_2Q25_0003</td>\n      <td>More professionals than ever are engaging in h...</td>\n      <td>Here is a concise summary of the section withi...</td>\n      <td>Microsoft reported an increase in LinkedIn eng...</td>\n      <td>Microsoft reported strong financial and operat...</td>\n      <td>Key Microsoft financial and operational highli...</td>\n    </tr>\n    <tr>\n      <th>4</th>\n      <td>MSFT_EC_2Q25_0004</td>\n      <td>Microsoft Cloud gross margin percentage was 70...</td>\n      <td>Here is a concise summary of Microsoft's finan...</td>\n      <td>Microsoft reported that Cloud gross margin per...</td>\n      <td>Microsoft reported a gross margin percentage o...</td>\n      <td>Microsoft's Cloud gross margin was 70%, decrea...</td>\n    </tr>\n    <tr>\n      <th>5</th>\n      <td>MSFT_EC_2Q25_0005</td>\n      <td>Segment gross margin dollars increased 12% and...</td>\n      <td>Here is a concise summary of the Microsoft fin...</td>\n      <td>Microsoft reported a 12-13% increase in segmen...</td>\n      <td>Microsoft's quarterly financial and operationa...</td>\n      <td>Here's a concise summary of the Microsoft fina...</td>\n    </tr>\n    <tr>\n      <th>6</th>\n      <td>MSFT_EC_2Q25_0006</td>\n      <td>We expect consistent execution\\nacross our cor...</td>\n      <td>Here is a concise summary of Microsoft's finan...</td>\n      <td>Microsoft expects consistent performance in it...</td>\n      <td>Microsoft provided forward financial guidance ...</td>\n      <td>Microsoft anticipates its Q3 financial perform...</td>\n    </tr>\n    <tr>\n      <th>7</th>\n      <td>MSFT_EC_2Q25_0007</td>\n      <td>We expect Xbox content services revenue growth...</td>\n      <td>Here is a concise summary of the transcript wi...</td>\n      <td>Microsoft predicts Xbox content services reven...</td>\n      <td>Microsoft expects modest growth in Xbox conten...</td>\n      <td>Microsoft expects:\\n\\n*   **Xbox content and s...</td>\n    </tr>\n    <tr>\n      <th>8</th>\n      <td>MSFT_EC_2Q25_0008</td>\n      <td>Please proceed. Thank you guys for taking the ...</td>\n      <td>Here is a concise summary of the section withi...</td>\n      <td>Microsoft had a strong quarter in terms of com...</td>\n      <td>Microsoft reported solid commercial bookings f...</td>\n      <td>Microsoft's commercial bookings were solid, bu...</td>\n    </tr>\n    <tr>\n      <th>9</th>\n      <td>MSFT_EC_2Q25_0009</td>\n      <td>But what we're seeing is waiting to see just h...</td>\n      <td>Here is a concise summary of the section withi...</td>\n      <td>On the earnings call, Microsoft discussed the ...</td>\n      <td>Microsoft's AI revenue significantly exceeded ...</td>\n      <td>Microsoft is seeing strong growth in its AI in...</td>\n    </tr>\n    <tr>\n      <th>10</th>\n      <td>MSFT_EC_2Q25_0010</td>\n      <td>Then on top of that, there is the AI scaling l...</td>\n      <td>Here is a concise summary of the transcript se...</td>\n      <td>Microsoft is leveraging AI scaling laws to mak...</td>\n      <td>Microsoft reported significant progress in opt...</td>\n      <td>Microsoft is seeing significant improvements i...</td>\n    </tr>\n    <tr>\n      <th>11</th>\n      <td>MSFT_EC_2Q25_0011</td>\n      <td>And so that's the fleet physics we're managing...</td>\n      <td>Here is a concise summary of the section of th...</td>\n      <td>Microsoft is managing investments in their tec...</td>\n      <td>Microsoft emphasized its strategic management ...</td>\n      <td>Microsoft's capital expenditures (CapEx) are g...</td>\n    </tr>\n    <tr>\n      <th>12</th>\n      <td>MSFT_EC_2Q25_0012</td>\n      <td>So that's sort of one. And the other thing is ...</td>\n      <td>Here is a concise summary of the section withi...</td>\n      <td>Microsoft recently launched O1, a feature on C...</td>\n      <td>Microsoft reported ongoing improvements in inf...</td>\n      <td>Microsoft is seeing inference optimization and...</td>\n    </tr>\n    <tr>\n      <th>13</th>\n      <td>MSFT_EC_2Q25_0013</td>\n      <td>But then what's happening, very much like what...</td>\n      <td>Here is a concise summary of the section withi...</td>\n      <td>Microsoft has seen enhanced collaboration acro...</td>\n      <td>Microsoft reported strong quarterly results, h...</td>\n      <td>Microsoft's commercial Remaining Performance O...</td>\n    </tr>\n  </tbody>\n</table>\n</div>"
     },
     "execution_count": 23,
     "metadata": {},
     "output_type": "execute_result"
    }
   ],
   "source": [
    "chunk_df"
   ],
   "metadata": {
    "collapsed": false
   }
  },
  {
   "cell_type": "code",
   "execution_count": 24,
   "outputs": [
    {
     "name": "stdout",
     "output_type": "stream",
     "text": [
      "===MSFT_EC_2Q25_0000===\n",
      "Microsoft's FY2Q25 earnings call discussed financial results and operational performance. Key points include:\n",
      "\n",
      "*   Microsoft Cloud revenue surpassed $40 billion, up 21% year-over-year.\n",
      "*   AI business annual revenue run rate exceeded $13 billion, up 175% year-over-year.\n",
      "*   Focus on scaling the global data center fleet to balance AI training/inference and geographic distribution.\n",
      "*   Data center capacity has more than doubled in the last three years, with the largest capacity increase in the most recent year.\n",
      "*   Azure continues to see cloud migration from customers like UBS.\n",
      "===MSFT_EC_2Q25_0001===\n",
      "Microsoft is expanding data center capacity to meet AI demand, having more than doubled capacity in the last three years and adding more capacity this past year than any other. Customers like UBS are migrating workloads to Azure, which remains the preferred cloud for mission-critical apps. Microsoft Fabric is experiencing rapid growth with over 19,000 paid customers and is the fastest-growing analytics product in Microsoft's history. Power BI has over 30 million monthly active users, up 40% YoY. The number of Azure OpenAI apps is growing significantly, driving growth across database and app services. OpenAI has made a new commitment to Azure, and its APIs run exclusively on the platform. Azure AI Foundry has garnered over 200,000 monthly active users in two months. GitHub now has 150 million developers, up 50% in two years. Microsoft 365 Copilot adoption is accelerating, with seat expansion among existing customers exceeding 10x post launch.\n",
      "\n",
      "===MSFT_EC_2Q25_0002===\n",
      "Microsoft is seeing strong customer adoption and increased usage of Copilot. Customers who initially purchased Copilot have expanded their seat count significantly. Daily Copilot users doubled quarter-over-quarter, and usage intensity increased by over 60%. Over 400,000 customer agents have been created in the last three months. The enterprise knowledge cloud, fueled by Microsoft's data assets, grew over 25% year-over-year. Microsoft is gaining market share in the Dynamics 365 space, with customers migrating from legacy providers. DAX Copilot has seen a 54% growth quarter over quarter.\n",
      "Windows is building momentum as Windows 10 support nears end and Copilot Plus PCs gains traction (15% of premium laptops in the US this holiday.)\n",
      "Microsoft security products are showing progress with new product capabilities. MSFT Purview is showing large adoption.\n",
      "LinkedIn premium revenues surpassed $2 billion annually, subscribers rose nearly 50% YoY and AI features are getting strong adoption. MSFT gained search engine share and Edge browser is consistently taking share.\n",
      "\n",
      "===MSFT_EC_2Q25_0003===\n",
      "Key Microsoft financial and operational highlights from the earnings call:\n",
      "\n",
      "*   **LinkedIn:** Premium subscriptions surpassed \\$2 billion in annual revenue. Subscriber growth increased nearly 50% over the past two years.\n",
      "*   **Search & Advertising:** Bing and Edge continued to gain market share. Edge surpassed 30% market share in the US on Windows. Improved ad rates are driving advertiser ROI.\n",
      "*   **Gaming:** Focus is on improving profitability. Black Ops 6 was a top-selling game on Xbox and PlayStation. Xbox cloud gaming saw a record 140 million hours streamed. Game Pass revenue set a new quarterly record, with PC subscribers up over 30%.\n",
      "*   **Financial Overview:**\n",
      "    *   Revenue was \\$69.6 billion, up 12%.\n",
      "    *   AI business annual revenue run rate surpassed \\$13 billion and was above expectations.\n",
      "    *   Microsoft Cloud revenue was \\$40.9 billion, growing 21%.\n",
      "    *   Gross margin percentage increased slightly year-over-year to 69%. Microsoft Cloud gross margin percentage was 70%, and decreased two points year-over-year, driven by scaling our AI infrastructure.\n",
      "    *   Commercial bookings greatly exceeded expectations (up 67%, 75% in constant currency), driven by Azure commitments from OpenAI.\n",
      "    *   Commercial remaining performance obligation increased to \\$298 billion, up 34%.\n",
      "    *   Operating margins increased two points year over year to 45%.\n",
      "    *   Headcount increased 2% year-over-year.\n",
      "\n",
      "===MSFT_EC_2Q25_0004===\n",
      "Microsoft's Cloud gross margin was 70%, decreasing slightly year-over-year due to AI infrastructure scaling. Company gross margin increased slightly to 69% due to sales mix and improvements in gaming and search. Operating expenses increased 5%, and operating margins increased to 45%, driven by efficiencies. Headcount was up 2% year-over-year.\n",
      "\n",
      "Productivity and Business Processes revenue was $29.4 billion, up 14%. Microsoft 365 commercial cloud revenue increased 16%, driven by E5 and Copilot. M365 commercial seats grew 7%. M365 consumer subscriptions grew 10% to 86.3 million. Dynamics 365 revenue increased 19%. Segment gross margin percentage decreased slightly due to AI infrastructure.\n",
      "\n",
      "Intelligent Cloud revenue was $25.5 billion, up 19%. Azure and other cloud services revenue grew 31%, including 13 points (157% growth) from AI services. Non-AI services growth was slightly lower than expected and on-premise server business revenue decreased 3%. Segment gross margin percentage decreased four points due to AI infrastructure.\n",
      "\n",
      "More Personal Computing revenue was $14.7 billion, relatively flat. Windows OEM revenue increased 4%. Search and news advertising revenue increased 21%.\n",
      "\n",
      "===MSFT_EC_2Q25_0005===\n",
      "Here's a concise summary of the Microsoft financial and operational results and outlook, as presented in the call:\n",
      "\n",
      "**Q2 Results:**\n",
      "\n",
      "*   **Overall:** Segment gross margin dollars increased 12-13% (constant currency). Decreased four points year-over-year in gross margin percentages due to scaling AI infrastructure. Operating income increased 14%.\n",
      "*   **More Personal Computing:** Revenue relatively flat at $14.7B. Windows OEM and Devices revenue increased 4% due to commercial inventory builds. Search and news advertising revenue increased 21% (20% in constant currency) driven by a third-party partnership. Gaming revenue decreased 7% (8% in constant currency) but Xbox content and services grew 2%. Segment gross margin dollars increased 13% (12% in constant currency). Percentage increased six points year-over-year.\n",
      "*   **Capital Expenditures & Cash Flow:** Capital expenditures (including leases) were $22.6B. Cash flow from operations up 18% to $22.3B but free cash flow down 29% to $6.5B due to capex. \n",
      "*   **Shareholder Returns:** $9.7 billion returned to shareholders via dividends and share repurchases.\n",
      "\n",
      "**Q3 Outlook:**\n",
      "\n",
      "*   **FX Impact:** Expect FX will decrease revenue growth by two points.\n",
      "*   **Microsoft Cloud:** Expect strong growth driven by cloud and AI demand. Cloud gross margin percentage expected to be roughly 69%, down year-over-year, driven by scaling AI infrastructure.\n",
      "*   **Productivity and Business Processes:** Revenue growth expected to be 11-12% in constant currency. Microsoft 365 commercial cloud revenue growth expected between 14-15% in constant currency.\n",
      "\n",
      "===MSFT_EC_2Q25_0006===\n",
      "Microsoft anticipates its Q3 financial performance as follows:\n",
      "\n",
      "*   **Microsoft Cloud:** Gross margin percentage expected to be roughly 69%, down year-over-year due to scaling AI infrastructure.\n",
      "*   **Productivity and Business Processes:** Revenue growth of 11-12% in constant currency ($29.4B-$29.7B). M365 commercial cloud revenue growth of 14-15% in constant currency.\n",
      "*   **Intelligent Cloud:** Revenue growth of 19-20% in constant currency ($25.9B-$26.2B), driven by Azure. Azure revenue growth expected at 31-32% in constant currency. On-premises server business revenue decline in the mid-single digits.\n",
      "*   **More Personal Computing:** Revenue of $12.4B-$12.8B. Windows OEM and devices revenue expected to decline in the low to mid single digits. Search and news advertising revenue growth in the mid teens. Gaming revenue growth in the low single digits.\n",
      "*   **Company Guidance:** COGS growth of 19-20% in constant currency to $21.65B - $21.85B. Operating expense growth of 5-6% in constant currency to $16.4B - $16.5B. Other income and expense roughly negative $1B. Effective tax rate approximately 18%.\n",
      "\n",
      "===MSFT_EC_2Q25_0007===\n",
      "Microsoft expects:\n",
      "\n",
      "*   **Xbox content and services revenue:** Low-to-mid single-digit growth, driven by first-party content and Game Pass.\n",
      "*   **Xbox hardware revenue:** Year-over-year decline.\n",
      "*   **Q3 COGS:** \\$21.65-\\$21.85 billion (19-20% growth in constant currency).\n",
      "*   **Q3 Operating Expenses:** \\$16.4-\\$16.5 billion (5-6% growth in constant currency).\n",
      "*   **Other Income & Expense:** Approximately negative \\$1 billion, primarily driven by equity method investments.\n",
      "*   **Q3 Effective Tax Rate:** Approximately 18%.\n",
      "Q4 revenue and COGS will be decreased by FX and operating expenses.\n",
      "\n",
      "**Full Fiscal Year:**\n",
      "\n",
      "*   **Double-digit revenue and operating income growth**\n",
      "*   **FY25 Operating Margins:** Up slightly year over year.\n",
      "*   **FY25 Effective Tax Rate:** 18-19%.\n",
      "\n",
      "**Capital Expenditures:**\n",
      "\n",
      "*   Q3 and Q4 spend at similar levels to Q2.\n",
      "*   FY26 growth rate will be lower than FY25.\n",
      "\n",
      "===MSFT_EC_2Q25_0008===\n",
      "Microsoft's commercial bookings were solid, but Azure revenue came in at the lower end of guidance. This was due to execution issues in the non-AI Azure business, specifically concerning \"scale motions\" relating to customers reached through partners and indirect sales methods. The company made adjustments to sales motions over the summer to better balance AI workloads with migrations and other fundamentals. While AI Azure performance exceeded expectations due to good execution and capacity management, Microsoft expects some impact from the non-AI adjustments in H2. Q3 guidance remains unchanged at $31-32 billion, partly because Microsoft is able to land the revenue on the AI side of the business and still is working in a capacity constraint environment. Growth in regular storage and data services underneath emerging AI workloads is encouraging. However, the non-AI ACR is undergoing scale motions in H2.\n",
      "\n",
      "===MSFT_EC_2Q25_0009===\n",
      "Microsoft is seeing strong growth in its AI initiatives. Azure AI performed well, and Microsoft Copilot adoption exceeded expectations, driven by both new and expansion seats, strong usage, and favorable pricing. AI growth rates are better than expected, benefiting significantly from scaled workloads and solid related storage and data service growth. Enterprise workloads are scaling well and Microsoft will focus on design wins when tweaking incentives with market shifts. Continued optimization is being made on software for inference.\n",
      "\n",
      "===MSFT_EC_2Q25_0010===\n",
      "Microsoft is seeing significant improvements in AI inference efficiency through software optimizations, potentially allowing them to run powerful AI models more ubiquitously, even on devices like PCs. They see falling token and inference computing prices as a positive driver for AI adoption and applications. The company emphasizes a flexible, geo-distributed fleet optimized for both training and inference. Microsoft is balancing ongoing investments in AI infrastructure with the constant need to upgrade hardware and software to drive monetization and demand for AI services, suggesting it is committed to balancing capital expenditures, and the ability to scale. The company is happy about its partnership with OpenAI which commits to Azure and believes the success of OpenAI is also their success.\n",
      "\n",
      "===MSFT_EC_2Q25_0011===\n",
      "Microsoft's capital expenditures (CapEx) are growing but are strategically aligned with customer contract delivery, including the OpenAI partnership and broader platform needs. The company has a significant backlog of customer contracts (close to $300 billion in RPO) and aims for efficient fulfillment.\n",
      "\n",
      "The CapEx investment encompasses building data centers, enhancing the commercial cloud infrastructure, and shifting towards CPU and GPU resources. This pivot will directly correlate with revenue, and the investments support inference workload training and the requirements of running the commercial cloud. Microsoft aims to continuously upgrade and modernize its infrastructure to maintain cost efficiency and scalability, balancing monetization with 'training' expenses. They are focused on making AI-powered features more ubiquitous across products like M365 Copilot and Copilot, driven by inference optimization and lower costs.\n",
      "\n",
      "===MSFT_EC_2Q25_0012===\n",
      "Microsoft is seeing inference optimization and cost reductions allowing for wider availability of previously premium AI features in products like Copilot. This trend extends across their portfolio, including GitHub Copilot and Security Copilot. They emphasize the importance of frontier models but also highlight the use of diverse models (built, fine-tuned, distilled, even open-source) in their applications. Microsoft is investing heavily in \"foundry\" as an app server, which helps developers leverage the rapid innovation in AI models (open source, closed source, and various weight classes) while managing operational costs (AI ops) to keep pace with innovation so all apps can benefit from it in an \"evergreen way\". Regarding Copilot adoption, initial traction is observed in departments prioritizing immediate productivity gains (sales, finance, supply chain). The expansion across the enterprise is driven by collaborative workflows which require it to become a more standard issue across the enterprise. To facilitate wider adoption, more flexibility is built, such as being able to start with co-pilot chat, this gives enterprise customers something that's more ubiquitous.\n",
      "\n",
      "===MSFT_EC_2Q25_0013===\n",
      "Microsoft's commercial Remaining Performance Obligation (RPO) increased by $39 billion sequentially, representing a 75% constant currency increase in commercial bookings growth, double the rate of the last decade. While an Azure commitment from OpenAI was a significant driver, core business motions like contract renewals and add-ons such as GitHub Copilot, plus strong E5 performance within M365, also contributed. Growth in large Azure commitments came from both existing customers increasing their commitments and new customer acquisitions, indicating broad-based demand.\n",
      "\n"
     ]
    }
   ],
   "source": [
    "# Print the chunk summaries to read them better\n",
    "for _, row in chunk_df.iterrows():\n",
    "    print(f\"==={row['chunk_id']}===\\n{row[summary_field]}\")"
   ],
   "metadata": {
    "collapsed": false
   }
  },
  {
   "cell_type": "markdown",
   "source": [
    "## Summarize the Summaries"
   ],
   "metadata": {
    "collapsed": false
   }
  },
  {
   "cell_type": "code",
   "execution_count": 25,
   "outputs": [
    {
     "name": "stdout",
     "output_type": "stream",
     "text": [
      "## Microsoft FY2Q25 Earnings Call Report\n",
      "\n",
      "### Executive Summary\n",
      "\n",
      "Microsoft's FY2Q25 earnings call highlighted strong financial results, driven by robust growth in its cloud and AI businesses. Microsoft Cloud revenue surpassed $40 billion, while the AI business annual revenue run rate exceeded $13 billion. The company is aggressively expanding its data center capacity to meet burgeoning AI demand. Key growth areas include Azure, Microsoft Fabric, Power BI, and Microsoft 365 Copilot. Financial metrics showcased solid revenue growth, increased commercial bookings, and healthy operating margins. While Azure revenue was at the lower end of guidance due to non-AI related sales execution issues, these were offset by strong AI services performance. The outlook for Q3 and the full fiscal year remains positive, with continued investments in AI infrastructure and a focus on driving efficiency and scalability.\n",
      "\n",
      "### Financial Performance\n",
      "\n",
      "*   **Overall Results:** Revenue was \\$69.6 billion, up 12%.\n",
      "*   **AI Revenue:** AI business annual revenue run rate surpassed \\$13 billion, exceeding expectations (up 175% year-over-year).\n",
      "*   **Microsoft Cloud:** Revenue reached \\$40.9 billion, growing 21%. Gross margin percentage was 70%, decreasing two points year-over-year, driven by scaling AI infrastructure.\n",
      "*   **Commercial Bookings:** Exceeded expectations, up 67% (75% in constant currency), driven by Azure commitments from OpenAI.\n",
      "*   **Remaining Performance Obligation (RPO):** Increased to \\$298 billion, up 34%.\n",
      "*   **Gross Margin:** Overall gross margin increased slightly year-over-year to 69%.\n",
      "*   **Operating Margin:** Increased two points year-over-year to 45%.\n",
      "*   **Operating Expenses:** Increased 5%.\n",
      "*   **Headcount:** Increased 2% year-over-year.\n",
      "*   **Productivity and Business Processes:** Revenue was \\$29.4 billion, up 14%. Microsoft 365 commercial cloud revenue increased 16%.\n",
      "*   **Intelligent Cloud:** Revenue was \\$25.5 billion, up 19%. Azure and other cloud services revenue grew 31%, including 13 points from AI services (157% growth). Non-AI services growth was slightly lower than expected.\n",
      "*   **More Personal Computing:** Revenue was \\$14.7 billion, relatively flat. Windows OEM revenue increased 4%. Search and news advertising revenue increased 21%.\n",
      "*   **Capital Expenditures:** \\$22.6 billion, focused on building data centers and enhancing commercial cloud infrastructure.\n",
      "*   **Cash Flow:** Cash flow from operations up 18% to \\$22.3 billion but free cash flow down 29% to \\$6.5 billion due to capex.\n",
      "*   **Shareholder Returns:** \\$9.7 billion returned to shareholders via dividends and share repurchases.\n",
      "\n",
      "### Future Outlook\n",
      "\n",
      "*   **Q3 Outlook:**\n",
      "    *   **FX Impact:** Expect FX will decrease revenue growth by two points.\n",
      "    *   **Microsoft Cloud:** Gross margin percentage expected to be roughly 69%, down year-over-year due to scaling AI infrastructure.\n",
      "    *   **Productivity and Business Processes:** Revenue growth of 11-12% in constant currency (\\$29.4B-\\$29.7B). M365 commercial cloud revenue growth of 14-15% in constant currency.\n",
      "    *   **Intelligent Cloud:** Revenue growth of 19-20% in constant currency (\\$25.9B-\\$26.2B), driven by Azure. Azure revenue growth expected at 31-32% in constant currency. On-premises server business revenue decline in the mid-single digits.\n",
      "    *   **More Personal Computing:** Revenue of \\$12.4B-\\$12.8B. Windows OEM and devices revenue expected to decline in the low to mid single digits. Search and news advertising revenue growth in the mid teens. Gaming revenue growth in the low single digits.\n",
      "    *   **Company Guidance:** COGS growth of 19-20% in constant currency to \\$21.65B - \\$21.85B. Operating expense growth of 5-6% in constant currency to \\$16.4B - \\$16.5B. Other income and expense roughly negative \\$1B. Effective tax rate approximately 18%.\n",
      "    *   **Xbox content and services revenue:** Low-to-mid single-digit growth, driven by first-party content and Game Pass.\n",
      "    *   **Xbox hardware revenue:** Year-over-year decline.\n",
      "    *   **Q3 COGS:** \\$21.65-\\$21.85 billion (19-20% growth in constant currency).\n",
      "    *   **Q3 Operating Expenses:** \\$16.4-\\$16.5 billion (5-6% growth in constant currency).\n",
      "    *   **Other Income & Expense:** Approximately negative \\$1 billion, primarily driven by equity method investments.\n",
      "    *   **Q3 Effective Tax Rate:** Approximately 18%.\n",
      "    *   Q4 revenue and COGS will be decreased by FX and operating expenses.\n",
      "\n",
      "*   **Full Fiscal Year (FY25):**\n",
      "    *   Double-digit revenue and operating income growth.\n",
      "    *   FY25 Operating Margins: Up slightly year over year.\n",
      "    *   FY25 Effective Tax Rate: 18-19%.\n",
      "\n",
      "*   **Capital Expenditures:**\n",
      "    *   Q3 and Q4 spend at similar levels to Q2.\n",
      "    *   FY26 growth rate will be lower than FY25.\n",
      "\n",
      "### Growth Drivers\n",
      "\n",
      "*   **AI:** Significant focus on expanding AI capabilities and infrastructure. Azure AI performed well, and Microsoft Copilot adoption exceeded expectations. The company is seeing improvements in AI inference efficiency through software optimizations.\n",
      "*   **Azure:** Cloud migration from customers like UBS. Preferred cloud for mission-critical apps. Strong AI services growth offsetting slower growth of non-AI related Azure Services\n",
      "*   **Microsoft Fabric:** Rapid growth with over 19,000 paid customers, becoming the fastest-growing analytics product in Microsoft's history.\n",
      "*   **Power BI:** Has over 30 million monthly active users, up 40% YoY.\n",
      "*   **Microsoft 365 Copilot:** Accelerating adoption, with seat expansion among existing customers exceeding 10x post launch. Daily Copilot users doubled quarter-over-quarter, and usage intensity increased by over 60%.\n",
      "*   **Windows:** Building momentum as Windows 10 support nears end and Copilot Plus PCs gains traction.\n",
      "*   **LinkedIn:** Premium subscriptions surpassed \\$2 billion in annual revenue. Subscribers rose nearly 50% YoY.\n",
      "*   **Search &Advertising:** Bing and Edge continued to gain market share.\n",
      "*   **Gaming:** Game Pass revenue set a new quarterly record, with PC subscribers up over 30%.\n",
      "\n",
      "### Key Strategic Initiatives\n",
      "\n",
      "*   **Data Center Expansion:** Scaling the global data center fleet to balance AI training/inference and geographic distribution. Data center capacity has more than doubled in the last three years.\n",
      "*   **AI Infrastructure Investment:** Continuously upgrading and modernizing infrastructure to maintain cost efficiency and scalability. Balancing monetization with 'training' expenses.\n",
      "*   **Partnership with OpenAI:** Strengthening commitment to Azure. OpenAI's APIs run exclusively on the platform.\n",
      "*   **Software Optimization:**Optimizing software for inference to make AI-powered features more ubiquitous across products.\n",
      "*   **Focus on Efficiency:** Driving efficiency to achieve operating margin expansion and scalability.\n",
      "\n",
      "### Challenges\n",
      "\n",
      "*   **AI Infrastructure Costs:** Scaling AI infrastructure is impacting cloud gross margins.\n",
      "*   **Non-AI Azure Execution:** Execution issues in the non-AI Azure business impacted revenue, necessitating sales motion adjustments.\n",
      "*   **Capital Expenditure Management:** Balancing significant capital expenditure with the need to demonstrate returns on investment and achieve efficient fulfillment of customer contracts.\n",
      "\n",
      "### Conclusion\n",
      "\n",
      "Microsoft's FY2Q25 earnings call showcased a company strategically positioned to capitalize on the growing demand for cloud and AI services. Its strong financial performance, coupled with significant investments in infrastructure and ongoing innovation, bodes well for future growth.\n",
      "\n"
     ]
    }
   ],
   "source": [
    "report_en_path = os.path.join(data_root, reports_dir, f\"{article_name}_report_en_{llm_model_name}.txt\")\n",
    "\n",
    "if steps[\"final_summary\"] or not os.path.exists(report_en_path):\n",
    "    final_summary_prompt = \"\"\"\n",
    "    You are to generate a report from {article_type}.\n",
    "    Organize related points in sections.\n",
    "    The sections shall include, but not limited to, {sections}.\n",
    "    ===\n",
    "    {text}\n",
    "    \"\"\"\n",
    "\n",
    "    chunk_summaries = \"\\n\\n\".join(list(chunk_df[summary_field]))\n",
    "\n",
    "    result = llm.react(final_summary_prompt, arguments={\n",
    "        \"article_type\": article_type,\n",
    "        \"text\": chunk_summaries,\n",
    "        \"scope\": scope,\n",
    "        \"sections\": \", \".join(report_sections),\n",
    "    })\n",
    "    report_en = result[\"content\"]\n",
    "\n",
    "    with open(report_en_path, \"w\", encoding=\"utf-8\") as fd:\n",
    "        fd.write(report_en)\n",
    "\n",
    "else:\n",
    "    with open(report_en_path, \"r\", encoding=\"utf-8\") as fd:\n",
    "        report_en = fd.read()\n",
    "\n",
    "print(report_en)"
   ],
   "metadata": {
    "collapsed": false
   }
  },
  {
   "cell_type": "code",
   "execution_count": 26,
   "outputs": [
    {
     "name": "stdout",
     "output_type": "stream",
     "text": [
      "## 微軟 2025 財年第二季度財報電話會議報告\n",
      "\n",
      "### 執行摘要\n",
      "\n",
      "微軟 2025 財年第二季度財報電話會議重點闡述了強勁的財務業績，這得益於其雲端和人工智慧業務的穩健增長。Microsoft Cloud 營收超過 400 億美元，而人工智慧業務的年度營收運營率超過 130 億美元。該公司正在積極擴張其資料中心容量，以滿足不斷增長的人工智慧需求。主要增長領域包括 Azure、Microsoft Fabric、Power BI 和 Microsoft 365 Copilot。財務指標顯示出穩健的營收增長、增加的商業預訂量和健康的營業利潤率。儘管由於非人工智慧相關的銷售執行問題，Azure 營收處於指導範圍的下限，但這些問題被強勁的人工智慧服務表現所抵消。第三季度和整個財年的前景依然樂觀，將持續對人工智慧基礎設施進行投資，並專注於提高效率和可擴展性。\n",
      "\n",
      "### 財務表現\n",
      "\n",
      "*   **整體業績：** 營收為 696 億美元，增長 12%。\n",
      "*   **人工智慧營收：** 人工智慧業務年度營收運營率超過 130 億美元，超出預期（同比增長 175%）。\n",
      "*   **Microsoft Cloud：** 營收達到 409 億美元，增長 21%。毛利率為 70%，同比下降兩個百分點，原因是擴展人工智慧基礎設施。\n",
      "*   **商業預訂量：** 超出預期，增長 67%（按固定匯率計算增長 75%），受益於 OpenAI 的 Azure 承諾。\n",
      "*   **剩餘履約義務 (RPO)：** 增加至 2980 億美元，增長 34%。\n",
      "*   **毛利率：** 整體毛利率同比略有增長，達到 69%。\n",
      "*   **營業利潤率：** 同比增長兩個百分點，達到 45%。\n",
      "*   **營業費用：** 增長 5%。\n",
      "*   **員工人數：** 同比增長 2%。\n",
      "*   **生產力和業務流程：** 營收為 294 億美元，增長 14%。Microsoft 365 商業雲營收增長 16%。\n",
      "*   **智能雲：** 營收為 255 億美元，增長 19%。Azure 和其他雲服務營收增長 31%，其中包括來自人工智慧服務的 13 個百分點（增長 157%）。非人工智慧服務的增長略低於預期。\n",
      "*   **更多個人運算：** 營收為 147 億美元，相對持平。Windows OEM 營收增長 4%。搜尋和新聞廣告營收增長 21%。\n",
      "*   **資本支出：** 226 億美元，重點用於建設資料中心和加強商業雲基礎設施。\n",
      "*   **現金流：** 來自運營的現金流增長 18% 至 223 億美元，但由於資本支出，自由現金流下降 29% 至 65 億美元。\n",
      "*   **股東回報：** 通過股息和股票回購向股東返還了 97 億美元。\n",
      "\n",
      "### 未來展望\n",
      "\n",
      "*   **第三季度展望：**\n",
      "    *   **匯率影響：** 預計匯率將使營收增長下降兩個百分點。\n",
      "    *   **Microsoft Cloud：** 預計毛利率約為 69%，同比下降，原因是擴展人工智慧基礎設施。\n",
      "    *   **生產力和業務流程：** 按固定匯率計算，營收增長 11-12%（294 億美元 - 297 億美元）。Microsoft 365 商業雲營收按固定匯率計算增長 14-15%。\n",
      "    *   **智能雲：** 按固定匯率計算，營收增長 19-20%（259 億美元 - 262 億美元），主要由 Azure 驅動。 預計 Azure 營收按固定匯率計算增長 31-32%。本地部署伺服器業務營收將出現中個位數的下降。\n",
      "    *   **更多個人運算：** 營收為 124 億美元 - 128 億美元。預計 Windows OEM 和設備營收將出現低至中個位數的下降。搜尋和新聞廣告營收將出現十幾歲的增長。遊戲營收將出現低個位數的增長。\n",
      "    *   **公司指引：** 按固定匯率計算，銷貨成本 (COGS) 將增長 19-20% 至 216.5 億美元 - 218.5 億美元。按固定匯率計算，營業費用將增長 5-6% 至 164 億美元 - 165 億美元。其他收入和支出約為負 10 億美元。有效所得稅率約為 18%。\n",
      "    *   **Xbox 內容和服務營收：** 低至中個位數的增長，受益於第一方內容和 Game Pass。\n",
      "    *   **Xbox 硬體營收：** 同比下降。\n",
      "    *   **第三季度銷貨成本：** 216.5 億美元 - 218.5 億美元（按固定匯率計算增長 19-20%）。\n",
      "    *   **第三季度營業費用：** 164 億美元 - 165 億美元（按固定匯率計算增長 5-6%）。\n",
      "    *   **其他收入和支出：** 約為負 10 億美元，主要受權益法投資驅動。\n",
      "    *   **第三季度有效所得稅率：** 約為 18%。\n",
      "\n",
      "*   **完整會計年度 (FY25)：**\n",
      "    *   營收和營業收入實現兩位數增長。\n",
      "    *   2025 財年營業利潤率：同比略有上升。\n",
      "    *   2025 財年有效所得稅率：18-19%。\n",
      "\n",
      "*   **資本支出：**\n",
      "    *   第三和第四季度的支出與第二季度相似。\n",
      "    *   2026 財年的增長率將低於 2025 財年。\n",
      "\n",
      "### 成長動能\n",
      "\n",
      "*   **人工智慧：** 重點在於擴張人工智慧能力和基礎設施。Azure AI 表現良好，Microsoft Copilot 的採用超出預期。該公司正在通過軟體優化看到人工智慧推論效率的提高。\n",
      "*   **Azure：** 來自 UBS 等客戶的雲端遷移。任務關鍵型應用程式的首選雲端。強勁的人工智慧服務增長抵消了非人工智慧相關的 Azure Services 增長放緩。\n",
      "*   **Microsoft Fabric：** 快速增長，擁有超過 19,000 名付費用戶，成為微軟歷史上增長最快的分析產品。\n",
      "*   **Power BI：** 月活躍用戶超過 3000 萬，同比增長 40%。\n",
      "*   **Microsoft 365 Copilot：** 採用速度加快，現有客戶的席位擴張在發布後超過 10 倍。每日 Copilot 用戶數量環比增長了一倍，使用強度增長了 60% 以上。\n",
      "*   **Windows：** 隨著 Windows 10 支援接近尾聲，Copilot Plus PCs 獲得進展，勢頭正在增強。\n",
      "*   **LinkedIn：** 高級訂閱的年度營收已超過 20 億美元。訂閱者同比增長近 50%。\n",
      "*   **搜尋和廣告：** Bing 和 Edge 繼續獲得市佔率。\n",
      "*   **遊戲：** Game Pass 營收創下新的季度紀錄，PC 訂閱者增長超過 30%。\n",
      "\n",
      "### 主要戰略舉措\n",
      "\n",
      "*   **資料中心擴張：** 擴展全球資料中心資源，以平衡人工智慧訓練/推論和地理分佈。過去三年，資料中心容量增加了一倍以上。\n",
      "*   **人工智慧基礎設施投資：** 不斷升級和現代化基礎設施，以保持成本效率和可擴展性。平衡貨幣化與「訓練」費用。\n",
      "*   **與 OpenAI 的合作關係：** 加強對 Azure 的承諾。OpenAI 的 API 完全在該平台上運行。\n",
      "*   **軟體優化：** 優化人工智慧推論軟體，使人工智慧驅動的功能在產品中更加普及。\n",
      "*   **專注於效率：** 提高效率，以實現營業利潤率的擴張和可擴展性。\n",
      "\n",
      "### 挑戰\n",
      "\n",
      "*   **人工智慧基礎設施成本：** 擴展人工智慧基礎設施正在影響雲端毛利率。\n",
      "*   **非人工智慧 Azure 執行：** 非人工智慧 Azure 業務的執行問題影響了營收，需要調整銷售動作。\n",
      "*   **資本支出管理：** 在巨額資本支出與需要證明投資回報率以及有效履行客戶合同之間取得平衡。\n",
      "\n",
      "### 結論\n",
      "\n",
      "微軟 2025 財年第二季度財報電話會議表明，該公司已從戰略上做好準備，以利用對雲端和人工智慧服務不斷增長的需求。其強勁的財務表現，加上對基礎設施的大量投資和持續創新，預示著未來的增長。\n",
      "\n"
     ]
    }
   ],
   "source": [
    "report_zh_path = os.path.join(data_root, reports_dir, f\"{article_name}_report_zh_{llm_model_name}.txt\")\n",
    "\n",
    "if steps[\"final_summary\"] or not os.path.exists(report_en_path):\n",
    "    translation_prompt = \"\"\"\n",
    "    Translate the following text in traditional Chinese.\n",
    "    Do not translate technical terminologies.\n",
    "    ===\n",
    "    {text}\n",
    "    \"\"\"\n",
    "\n",
    "    result = llm.react(translation_prompt, arguments={\n",
    "        \"text\": report_en,\n",
    "    })\n",
    "    report_zh = result[\"content\"]\n",
    "\n",
    "    with open(report_zh_path, \"w\", encoding=\"utf-8\") as fd:\n",
    "        fd.write(report_zh)\n",
    "\n",
    "else:\n",
    "    with open(report_zh_path, \"r\", encoding=\"utf-8\") as fd:\n",
    "        report_zh = fd.read()\n",
    "\n",
    "print(report_zh)"
   ],
   "metadata": {
    "collapsed": false
   }
  }
 ],
 "metadata": {
  "kernelspec": {
   "name": "python311",
   "language": "python",
   "display_name": "Python 3.11"
  },
  "language_info": {
   "codemirror_mode": {
    "name": "ipython",
    "version": 2
   },
   "file_extension": ".py",
   "mimetype": "text/x-python",
   "name": "python",
   "nbconvert_exporter": "python",
   "pygments_lexer": "ipython2",
   "version": "2.7.6"
  }
 },
 "nbformat": 4,
 "nbformat_minor": 0
}
