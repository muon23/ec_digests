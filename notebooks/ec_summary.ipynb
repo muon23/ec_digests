{
 "cells": [
  {
   "cell_type": "markdown",
   "source": [
    "# Earnings Call Summary POC\n",
    "\n",
    "POC for summarizing the transcripts of an earnings call\n",
    "\n",
    "## Requirements\n",
    "#### Package Requirements\n",
    "This notebook was created with the following packages\n",
    "- python                    3.11\n",
    "- llama-index               0.12.25\n",
    "- pandas                    2.2.2\n",
    "- langchain                 0.3.21\n",
    "\n",
    "#### Other Requirements\n",
    "- Environment variable `OPENAI_API_KEY`.  This is needed for LLaMA Index to use its default GPT-3.5 to provide an answer to the query.\n",
    "- Environment variable `DEEPINFRA_API_KEY`.  This is needed for REST API access LLM models in DeepInfra."
   ],
   "metadata": {
    "collapsed": false
   }
  },
  {
   "cell_type": "code",
   "execution_count": 43,
   "outputs": [],
   "source": [
    "import pandas as pd"
   ],
   "metadata": {
    "collapsed": false
   }
  },
  {
   "cell_type": "markdown",
   "source": [
    "## Set up Environment\n",
    "\n",
    "Setting up environment specific parameters.  Modify these to suit your local environment."
   ],
   "metadata": {
    "collapsed": false
   }
  },
  {
   "cell_type": "code",
   "execution_count": 44,
   "outputs": [],
   "source": [
    "#\n",
    "# Locations of the data sources\n",
    "#\n",
    "\n",
    "data_root = \"../data\"         # Directory to the data\n",
    "ec_dir = \"earning_calls\"\n",
    "working_dir = \"working\"\n",
    "reports_dir = \"reports\"\n"
   ],
   "metadata": {
    "collapsed": false
   }
  },
  {
   "cell_type": "code",
   "execution_count": 45,
   "outputs": [],
   "source": [
    "import os\n",
    "\n",
    "# Keys for LLM access\n",
    "openai_key = os.environ.get(\"OPENAI_API_KEY\")\n",
    "# hf_key = os.environ.get(\"HUGGINGFACEHUB_API_TOKEN\")\n",
    "di_key = os.environ.get(\"DEEPINFRA_API_KEY\")\n",
    "\n",
    "if not openai_key:\n",
    "    raise EnvironmentError(f\"OPENAI_API_KEY must be provided for this notebook to work.  Needed by LLaMA index.\")\n",
    "\n",
    "# if not hf_key:\n",
    "#     raise EnvironmentError(f\"Need HuggingFace token for this notebook to work.  Needed for query extension with DeepSeek-R1\"  )\n",
    "\n",
    "if not di_key:\n",
    "    raise  EnvironmentError(f\"DEEPINFRA_API_KEY is needed to run models in DeepInfra\")"
   ],
   "metadata": {
    "collapsed": false
   }
  },
  {
   "cell_type": "code",
   "execution_count": 69,
   "outputs": [],
   "source": [
    "#\n",
    "# Tweak these values\n",
    "#\n",
    "\n",
    "# Chunking size\n",
    "chunk_size = 1000\n",
    "chunk_overlap = 200\n",
    "\n",
    "# Type of article\n",
    "article_type = \"transcript of the earnings call\"\n",
    "article_name = \"MSFT_EC_2Q25\"\n",
    "article_file = \"msft/MSFT_FY2Q25__1__m4a_Good_Tape_2025-03-19.txt\"\n",
    "\n",
    "# Summarization scopes\n",
    "scope = \"Microsoft financial and operational reports\"\n",
    "\n",
    "# Sections that shall be in the report\n",
    "report_sections = \"\"\"\n",
    "1. Conclusion\n",
    "2. Key Points\n",
    "3. Contents\n",
    "3.1. Financial Performance Analysis\n",
    "- Include reports of revenue, gross profit margin, operation profit, and EPS in bullet items.\n",
    "- In each of the above reports, include their seasonal and annual increase/decrease, better/worse than the financial forecast amounts, and major contributing factors if any.\n",
    "3.2. Future Outlook\n",
    "3.3. Operation Highlights\n",
    "\"\"\"\n",
    "\n",
    "# LLM models\n",
    "# llm_model_name = \"gpt-4\"\n",
    "# llm_model_name = \"gpt-4.5\"\n",
    "llm_model_name = \"llama-3\"\n",
    "# llm_model_name = \"gemini-2\"\n",
    "\n",
    "# Generation temperature\n",
    "temperature = 0.4"
   ],
   "metadata": {
    "collapsed": false
   }
  },
  {
   "cell_type": "code",
   "execution_count": 47,
   "outputs": [],
   "source": [
    "# These are steps in this notebook that we want to force refreshing.\n",
    "# Many of the steps are time-consuming, so I save their results in the data directory.\n",
    "# If the saved results exists, I will reload them instead of recalculating them.\n",
    "# Setting any of the steps to True forces the code to recalculate the result for that step.\n",
    "steps = {\n",
    "    \"chunking\": False,                       # Input the article and do chunking\n",
    "    \"chunk_summaries\": False,                # Per chunk summarization\n",
    "    \"final_summary\": True                   # Summarize the chunk summaries\n",
    "}\n",
    "\n",
    "def refresh(what:str):\n",
    "    return what in steps and steps[what]"
   ],
   "metadata": {
    "collapsed": false
   }
  },
  {
   "cell_type": "markdown",
   "source": [
    "## Reading and Chunking\n",
    "\n",
    "Read the transcript and chunk it."
   ],
   "metadata": {
    "collapsed": false
   }
  },
  {
   "cell_type": "code",
   "execution_count": 48,
   "outputs": [],
   "source": [
    "from llama_index.core.node_parser import SentenceSplitter\n",
    "\n",
    "article_path = os.path.join(data_root, ec_dir, article_file)\n",
    "chunk_path = os.path.join(data_root, working_dir, f\"{article_name}_chunks.parquet\")\n",
    "\n",
    "if refresh(\"chunking\") or not os.path.exists(chunk_path):\n",
    "\n",
    "    # Input\n",
    "    with open(article_path, \"r\", encoding=\"utf-8\") as tfd:\n",
    "        transcript_content = tfd.read()\n",
    "\n",
    "    # Initialize the SentenceSplitter\n",
    "    sentence_splitter = SentenceSplitter(chunk_size=chunk_size, chunk_overlap=chunk_overlap)\n",
    "\n",
    "    # Split the text into chunks\n",
    "    chunks = sentence_splitter.split_text(transcript_content)\n",
    "\n",
    "    # Put into Pandas\n",
    "    chunk_ids = [f\"{article_name}_{i:04d}\" for i in range(len(chunks))]\n",
    "    chunk_df = pd.DataFrame(zip(chunk_ids, chunks), columns=[\"chunk_id\", \"content\"])\n",
    "\n",
    "    # Save the results\n",
    "    chunk_df.to_parquet(chunk_path)\n",
    "else:\n",
    "    chunk_df = pd.read_parquet(chunk_path)"
   ],
   "metadata": {
    "collapsed": false
   }
  },
  {
   "cell_type": "code",
   "execution_count": 49,
   "outputs": [
    {
     "data": {
      "text/plain": "             chunk_id                                            content  \\\n0   MSFT_EC_2Q25_0000  MSFT_FY2Q25 (1).m4a\\n\\noperator assistance, pl...   \n1   MSFT_EC_2Q25_0001  From now on, it's a more\\ncontinuous cycle gov...   \n2   MSFT_EC_2Q25_0002  When you look at customers who purchased Copil...   \n3   MSFT_EC_2Q25_0003  More professionals than ever are engaging in h...   \n4   MSFT_EC_2Q25_0004  Microsoft Cloud gross margin percentage was 70...   \n5   MSFT_EC_2Q25_0005  Segment gross margin dollars increased 12% and...   \n6   MSFT_EC_2Q25_0006  We expect consistent execution\\nacross our cor...   \n7   MSFT_EC_2Q25_0007  We expect Xbox content services revenue growth...   \n8   MSFT_EC_2Q25_0008  Please proceed. Thank you guys for taking the ...   \n9   MSFT_EC_2Q25_0009  But what we're seeing is waiting to see just h...   \n10  MSFT_EC_2Q25_0010  Then on top of that, there is the AI scaling l...   \n11  MSFT_EC_2Q25_0011  And so that's the fleet physics we're managing...   \n12  MSFT_EC_2Q25_0012  So that's sort of one. And the other thing is ...   \n13  MSFT_EC_2Q25_0013  But then what's happening, very much like what...   \n\n                                        summary_gpt-4  \\\n0   Microsoft's Q2 FY25 earnings call included com...   \n1   Microsoft is enhancing its presence in every l...   \n2   During the first quarter of availability, cust...   \n3   Microsoft reported an increase in LinkedIn eng...   \n4   Microsoft reported that Cloud gross margin per...   \n5   Microsoft reported a 12-13% increase in segmen...   \n6   Microsoft expects consistent performance in it...   \n7   Microsoft predicts Xbox content services reven...   \n8   Microsoft had a strong quarter in terms of com...   \n9   On the earnings call, Microsoft discussed the ...   \n10  Microsoft is leveraging AI scaling laws to mak...   \n11  Microsoft is managing investments in their tec...   \n12  Microsoft recently launched O1, a feature on C...   \n13  Microsoft has seen enhanced collaboration acro...   \n\n                                      summary_gpt-4.5  \\\n0   Microsoft reported strong financial performanc...   \n1   Microsoft significantly expanded Azure data ce...   \n2   Microsoft reported robust financial and operat...   \n3   Microsoft reported strong financial and operat...   \n4   Microsoft reported a gross margin percentage o...   \n5   Microsoft's quarterly financial and operationa...   \n6   Microsoft provided forward financial guidance ...   \n7   Microsoft expects modest growth in Xbox conten...   \n8   Microsoft reported solid commercial bookings f...   \n9   Microsoft's AI revenue significantly exceeded ...   \n10  Microsoft reported significant progress in opt...   \n11  Microsoft emphasized its strategic management ...   \n12  Microsoft reported ongoing improvements in inf...   \n13  Microsoft reported strong quarterly results, h...   \n\n                                     summary_gemini-2  \\\n0   Microsoft's FY2Q25 earnings call discussed fin...   \n1   Microsoft is expanding data center capacity to...   \n2   Microsoft is seeing strong customer adoption a...   \n3   Key Microsoft financial and operational highli...   \n4   Microsoft's Cloud gross margin was 70%, decrea...   \n5   Here's a concise summary of the Microsoft fina...   \n6   Microsoft anticipates its Q3 financial perform...   \n7   Microsoft expects:\\n\\n*   **Xbox content and s...   \n8   Microsoft's commercial bookings were solid, bu...   \n9   Microsoft is seeing strong growth in its AI in...   \n10  Microsoft is seeing significant improvements i...   \n11  Microsoft's capital expenditures (CapEx) are g...   \n12  Microsoft is seeing inference optimization and...   \n13  Microsoft's commercial Remaining Performance O...   \n\n                                      summary_llama-3  \n0   Here is a concise summary of the Microsoft fin...  \n1   Here is a concise summary of the Microsoft fin...  \n2   Here is a concise summary of the Microsoft ear...  \n3   Here is a concise summary of the Microsoft fin...  \n4   Here is a concise summary of the Microsoft fin...  \n5   Here is a concise summary of the transcript se...  \n6   Here is a concise summary of Microsoft's finan...  \n7   Here is a concise summary of the transcript se...  \n8   Here is a concise summary of the transcript se...  \n9   Here is a concise summary of the section withi...  \n10  Here is a concise summary of the section withi...  \n11  Here is a concise summary of the section withi...  \n12  Here is a concise summary of the section withi...  \n13  Here is a concise summary of the section withi...  ",
      "text/html": "<div>\n<style scoped>\n    .dataframe tbody tr th:only-of-type {\n        vertical-align: middle;\n    }\n\n    .dataframe tbody tr th {\n        vertical-align: top;\n    }\n\n    .dataframe thead th {\n        text-align: right;\n    }\n</style>\n<table border=\"1\" class=\"dataframe\">\n  <thead>\n    <tr style=\"text-align: right;\">\n      <th></th>\n      <th>chunk_id</th>\n      <th>content</th>\n      <th>summary_gpt-4</th>\n      <th>summary_gpt-4.5</th>\n      <th>summary_gemini-2</th>\n      <th>summary_llama-3</th>\n    </tr>\n  </thead>\n  <tbody>\n    <tr>\n      <th>0</th>\n      <td>MSFT_EC_2Q25_0000</td>\n      <td>MSFT_FY2Q25 (1).m4a\\n\\noperator assistance, pl...</td>\n      <td>Microsoft's Q2 FY25 earnings call included com...</td>\n      <td>Microsoft reported strong financial performanc...</td>\n      <td>Microsoft's FY2Q25 earnings call discussed fin...</td>\n      <td>Here is a concise summary of the Microsoft fin...</td>\n    </tr>\n    <tr>\n      <th>1</th>\n      <td>MSFT_EC_2Q25_0001</td>\n      <td>From now on, it's a more\\ncontinuous cycle gov...</td>\n      <td>Microsoft is enhancing its presence in every l...</td>\n      <td>Microsoft significantly expanded Azure data ce...</td>\n      <td>Microsoft is expanding data center capacity to...</td>\n      <td>Here is a concise summary of the Microsoft fin...</td>\n    </tr>\n    <tr>\n      <th>2</th>\n      <td>MSFT_EC_2Q25_0002</td>\n      <td>When you look at customers who purchased Copil...</td>\n      <td>During the first quarter of availability, cust...</td>\n      <td>Microsoft reported robust financial and operat...</td>\n      <td>Microsoft is seeing strong customer adoption a...</td>\n      <td>Here is a concise summary of the Microsoft ear...</td>\n    </tr>\n    <tr>\n      <th>3</th>\n      <td>MSFT_EC_2Q25_0003</td>\n      <td>More professionals than ever are engaging in h...</td>\n      <td>Microsoft reported an increase in LinkedIn eng...</td>\n      <td>Microsoft reported strong financial and operat...</td>\n      <td>Key Microsoft financial and operational highli...</td>\n      <td>Here is a concise summary of the Microsoft fin...</td>\n    </tr>\n    <tr>\n      <th>4</th>\n      <td>MSFT_EC_2Q25_0004</td>\n      <td>Microsoft Cloud gross margin percentage was 70...</td>\n      <td>Microsoft reported that Cloud gross margin per...</td>\n      <td>Microsoft reported a gross margin percentage o...</td>\n      <td>Microsoft's Cloud gross margin was 70%, decrea...</td>\n      <td>Here is a concise summary of the Microsoft fin...</td>\n    </tr>\n    <tr>\n      <th>5</th>\n      <td>MSFT_EC_2Q25_0005</td>\n      <td>Segment gross margin dollars increased 12% and...</td>\n      <td>Microsoft reported a 12-13% increase in segmen...</td>\n      <td>Microsoft's quarterly financial and operationa...</td>\n      <td>Here's a concise summary of the Microsoft fina...</td>\n      <td>Here is a concise summary of the transcript se...</td>\n    </tr>\n    <tr>\n      <th>6</th>\n      <td>MSFT_EC_2Q25_0006</td>\n      <td>We expect consistent execution\\nacross our cor...</td>\n      <td>Microsoft expects consistent performance in it...</td>\n      <td>Microsoft provided forward financial guidance ...</td>\n      <td>Microsoft anticipates its Q3 financial perform...</td>\n      <td>Here is a concise summary of Microsoft's finan...</td>\n    </tr>\n    <tr>\n      <th>7</th>\n      <td>MSFT_EC_2Q25_0007</td>\n      <td>We expect Xbox content services revenue growth...</td>\n      <td>Microsoft predicts Xbox content services reven...</td>\n      <td>Microsoft expects modest growth in Xbox conten...</td>\n      <td>Microsoft expects:\\n\\n*   **Xbox content and s...</td>\n      <td>Here is a concise summary of the transcript se...</td>\n    </tr>\n    <tr>\n      <th>8</th>\n      <td>MSFT_EC_2Q25_0008</td>\n      <td>Please proceed. Thank you guys for taking the ...</td>\n      <td>Microsoft had a strong quarter in terms of com...</td>\n      <td>Microsoft reported solid commercial bookings f...</td>\n      <td>Microsoft's commercial bookings were solid, bu...</td>\n      <td>Here is a concise summary of the transcript se...</td>\n    </tr>\n    <tr>\n      <th>9</th>\n      <td>MSFT_EC_2Q25_0009</td>\n      <td>But what we're seeing is waiting to see just h...</td>\n      <td>On the earnings call, Microsoft discussed the ...</td>\n      <td>Microsoft's AI revenue significantly exceeded ...</td>\n      <td>Microsoft is seeing strong growth in its AI in...</td>\n      <td>Here is a concise summary of the section withi...</td>\n    </tr>\n    <tr>\n      <th>10</th>\n      <td>MSFT_EC_2Q25_0010</td>\n      <td>Then on top of that, there is the AI scaling l...</td>\n      <td>Microsoft is leveraging AI scaling laws to mak...</td>\n      <td>Microsoft reported significant progress in opt...</td>\n      <td>Microsoft is seeing significant improvements i...</td>\n      <td>Here is a concise summary of the section withi...</td>\n    </tr>\n    <tr>\n      <th>11</th>\n      <td>MSFT_EC_2Q25_0011</td>\n      <td>And so that's the fleet physics we're managing...</td>\n      <td>Microsoft is managing investments in their tec...</td>\n      <td>Microsoft emphasized its strategic management ...</td>\n      <td>Microsoft's capital expenditures (CapEx) are g...</td>\n      <td>Here is a concise summary of the section withi...</td>\n    </tr>\n    <tr>\n      <th>12</th>\n      <td>MSFT_EC_2Q25_0012</td>\n      <td>So that's sort of one. And the other thing is ...</td>\n      <td>Microsoft recently launched O1, a feature on C...</td>\n      <td>Microsoft reported ongoing improvements in inf...</td>\n      <td>Microsoft is seeing inference optimization and...</td>\n      <td>Here is a concise summary of the section withi...</td>\n    </tr>\n    <tr>\n      <th>13</th>\n      <td>MSFT_EC_2Q25_0013</td>\n      <td>But then what's happening, very much like what...</td>\n      <td>Microsoft has seen enhanced collaboration acro...</td>\n      <td>Microsoft reported strong quarterly results, h...</td>\n      <td>Microsoft's commercial Remaining Performance O...</td>\n      <td>Here is a concise summary of the section withi...</td>\n    </tr>\n  </tbody>\n</table>\n</div>"
     },
     "execution_count": 49,
     "metadata": {},
     "output_type": "execute_result"
    }
   ],
   "source": [
    "chunk_df"
   ],
   "metadata": {
    "collapsed": false
   }
  },
  {
   "cell_type": "markdown",
   "source": [
    "## Summarizing the Chunks"
   ],
   "metadata": {
    "collapsed": false
   }
  },
  {
   "cell_type": "code",
   "execution_count": 50,
   "outputs": [],
   "source": [
    "import bots\n",
    "\n",
    "llm = bots.of(llm_model_name)\n"
   ],
   "metadata": {
    "collapsed": false
   }
  },
  {
   "cell_type": "code",
   "execution_count": 51,
   "outputs": [
    {
     "data": {
      "text/plain": "Summarize chunks:   0%|          | 0/14 [00:00<?, ?it/s]",
      "application/vnd.jupyter.widget-view+json": {
       "version_major": 2,
       "version_minor": 0,
       "model_id": "e2bd1d7939a14cffbc01ef2fdb09b6b1"
      }
     },
     "metadata": {},
     "output_type": "display_data"
    }
   ],
   "source": [
    "from tqdm.notebook import tqdm\n",
    "\n",
    "summary_field = f\"summary_{llm_model_name}\"\n",
    "\n",
    "if refresh(\"chunk_summaries\") or summary_field not in chunk_df.columns:\n",
    "\n",
    "\n",
    "    # Ask LLM to summarize per chunk\n",
    "    chunk_summary_prompt = \"\"\"\n",
    "    Concisely summarize the following section of a {article_type}.\n",
    "    Only summarize within the scope of {scope}.\n",
    "    ===\n",
    "    {text}\n",
    "    \"\"\"\n",
    "\n",
    "    chunk_summaries = []\n",
    "    for chunk_content in tqdm(chunk_df[\"content\"], desc=\"Summarize chunks\"):\n",
    "        result = llm.react(\n",
    "            chunk_summary_prompt,\n",
    "            arguments={\n",
    "                \"article_type\": article_type,\n",
    "                \"text\": chunk_content,\n",
    "                \"scope\": scope,\n",
    "            },\n",
    "            temperature=temperature,\n",
    "        )\n",
    "        chunk_summaries.append(result[\"content\"])\n",
    "\n",
    "    chunk_df[summary_field] = chunk_summaries\n",
    "\n",
    "    # Save the results\n",
    "    chunk_df.to_parquet(chunk_path)\n",
    "else:\n",
    "    chunk_df = pd.read_parquet(chunk_path)"
   ],
   "metadata": {
    "collapsed": false
   }
  },
  {
   "cell_type": "code",
   "execution_count": 52,
   "outputs": [
    {
     "data": {
      "text/plain": "             chunk_id                                            content  \\\n0   MSFT_EC_2Q25_0000  MSFT_FY2Q25 (1).m4a\\n\\noperator assistance, pl...   \n1   MSFT_EC_2Q25_0001  From now on, it's a more\\ncontinuous cycle gov...   \n2   MSFT_EC_2Q25_0002  When you look at customers who purchased Copil...   \n3   MSFT_EC_2Q25_0003  More professionals than ever are engaging in h...   \n4   MSFT_EC_2Q25_0004  Microsoft Cloud gross margin percentage was 70...   \n5   MSFT_EC_2Q25_0005  Segment gross margin dollars increased 12% and...   \n6   MSFT_EC_2Q25_0006  We expect consistent execution\\nacross our cor...   \n7   MSFT_EC_2Q25_0007  We expect Xbox content services revenue growth...   \n8   MSFT_EC_2Q25_0008  Please proceed. Thank you guys for taking the ...   \n9   MSFT_EC_2Q25_0009  But what we're seeing is waiting to see just h...   \n10  MSFT_EC_2Q25_0010  Then on top of that, there is the AI scaling l...   \n11  MSFT_EC_2Q25_0011  And so that's the fleet physics we're managing...   \n12  MSFT_EC_2Q25_0012  So that's sort of one. And the other thing is ...   \n13  MSFT_EC_2Q25_0013  But then what's happening, very much like what...   \n\n                                        summary_gpt-4  \\\n0   Microsoft held an earnings call where Satya Na...   \n1   Microsoft is making significant progress acros...   \n2   Microsoft reported strong growth in its Copilo...   \n3   During the earnings call, Microsoft reported a...   \n4   Microsoft Cloud gross margin was 70%, down 2 p...   \n5   Microsoft's segment gross margin dollars saw a...   \n6   Microsoft expects stable execution across core...   \n7   Microsoft's Xbox content services revenue grow...   \n8   Microsoft's recent quarter saw strong commerci...   \n9   Microsoft's AI growth rate is reportedly bette...   \n10  Microsoft shared how improvements in AI pre-tr...   \n11  Microsoft is managing its technology resources...   \n12  Microsoft has launched O1 'Think Harder' featu...   \n13  Microsoft is seeing increased collaboration ac...   \n\n                                      summary_gpt-4.5  \\\n0   Microsoft reported strong financial performanc...   \n1   Microsoft significantly expanded Azure data ce...   \n2   Microsoft reported robust financial and operat...   \n3   Microsoft reported strong financial and operat...   \n4   Microsoft reported a gross margin percentage o...   \n5   Microsoft's quarterly financial and operationa...   \n6   Microsoft provided forward financial guidance ...   \n7   Microsoft expects modest growth in Xbox conten...   \n8   Microsoft reported solid commercial bookings f...   \n9   Microsoft's AI revenue significantly exceeded ...   \n10  Microsoft reported significant progress in opt...   \n11  Microsoft emphasized its strategic management ...   \n12  Microsoft reported ongoing improvements in inf...   \n13  Microsoft reported strong quarterly results, h...   \n\n                                     summary_gemini-2  \\\n0   Microsoft's FY2Q25 earnings call discussed fin...   \n1   Microsoft is expanding data center capacity to...   \n2   Microsoft is seeing strong customer adoption a...   \n3   Key Microsoft financial and operational highli...   \n4   Microsoft's Cloud gross margin was 70%, decrea...   \n5   Here's a concise summary of the Microsoft fina...   \n6   Microsoft anticipates its Q3 financial perform...   \n7   Microsoft expects:\\n\\n*   **Xbox content and s...   \n8   Microsoft's commercial bookings were solid, bu...   \n9   Microsoft is seeing strong growth in its AI in...   \n10  Microsoft is seeing significant improvements i...   \n11  Microsoft's capital expenditures (CapEx) are g...   \n12  Microsoft is seeing inference optimization and...   \n13  Microsoft's commercial Remaining Performance O...   \n\n                                      summary_llama-3  \n0   Here is a concise summary of the Microsoft fin...  \n1   Here is a concise summary of the Microsoft fin...  \n2   Here is a concise summary of the Microsoft ear...  \n3   Here is a concise summary of the Microsoft fin...  \n4   Here is a concise summary of the Microsoft fin...  \n5   Here is a concise summary of the transcript se...  \n6   Here is a concise summary of Microsoft's finan...  \n7   Here is a concise summary of the transcript se...  \n8   Here is a concise summary of the transcript se...  \n9   Here is a concise summary of the section withi...  \n10  Here is a concise summary of the section withi...  \n11  Here is a concise summary of the section withi...  \n12  Here is a concise summary of the section withi...  \n13  Here is a concise summary of the section withi...  ",
      "text/html": "<div>\n<style scoped>\n    .dataframe tbody tr th:only-of-type {\n        vertical-align: middle;\n    }\n\n    .dataframe tbody tr th {\n        vertical-align: top;\n    }\n\n    .dataframe thead th {\n        text-align: right;\n    }\n</style>\n<table border=\"1\" class=\"dataframe\">\n  <thead>\n    <tr style=\"text-align: right;\">\n      <th></th>\n      <th>chunk_id</th>\n      <th>content</th>\n      <th>summary_gpt-4</th>\n      <th>summary_gpt-4.5</th>\n      <th>summary_gemini-2</th>\n      <th>summary_llama-3</th>\n    </tr>\n  </thead>\n  <tbody>\n    <tr>\n      <th>0</th>\n      <td>MSFT_EC_2Q25_0000</td>\n      <td>MSFT_FY2Q25 (1).m4a\\n\\noperator assistance, pl...</td>\n      <td>Microsoft held an earnings call where Satya Na...</td>\n      <td>Microsoft reported strong financial performanc...</td>\n      <td>Microsoft's FY2Q25 earnings call discussed fin...</td>\n      <td>Here is a concise summary of the Microsoft fin...</td>\n    </tr>\n    <tr>\n      <th>1</th>\n      <td>MSFT_EC_2Q25_0001</td>\n      <td>From now on, it's a more\\ncontinuous cycle gov...</td>\n      <td>Microsoft is making significant progress acros...</td>\n      <td>Microsoft significantly expanded Azure data ce...</td>\n      <td>Microsoft is expanding data center capacity to...</td>\n      <td>Here is a concise summary of the Microsoft fin...</td>\n    </tr>\n    <tr>\n      <th>2</th>\n      <td>MSFT_EC_2Q25_0002</td>\n      <td>When you look at customers who purchased Copil...</td>\n      <td>Microsoft reported strong growth in its Copilo...</td>\n      <td>Microsoft reported robust financial and operat...</td>\n      <td>Microsoft is seeing strong customer adoption a...</td>\n      <td>Here is a concise summary of the Microsoft ear...</td>\n    </tr>\n    <tr>\n      <th>3</th>\n      <td>MSFT_EC_2Q25_0003</td>\n      <td>More professionals than ever are engaging in h...</td>\n      <td>During the earnings call, Microsoft reported a...</td>\n      <td>Microsoft reported strong financial and operat...</td>\n      <td>Key Microsoft financial and operational highli...</td>\n      <td>Here is a concise summary of the Microsoft fin...</td>\n    </tr>\n    <tr>\n      <th>4</th>\n      <td>MSFT_EC_2Q25_0004</td>\n      <td>Microsoft Cloud gross margin percentage was 70...</td>\n      <td>Microsoft Cloud gross margin was 70%, down 2 p...</td>\n      <td>Microsoft reported a gross margin percentage o...</td>\n      <td>Microsoft's Cloud gross margin was 70%, decrea...</td>\n      <td>Here is a concise summary of the Microsoft fin...</td>\n    </tr>\n    <tr>\n      <th>5</th>\n      <td>MSFT_EC_2Q25_0005</td>\n      <td>Segment gross margin dollars increased 12% and...</td>\n      <td>Microsoft's segment gross margin dollars saw a...</td>\n      <td>Microsoft's quarterly financial and operationa...</td>\n      <td>Here's a concise summary of the Microsoft fina...</td>\n      <td>Here is a concise summary of the transcript se...</td>\n    </tr>\n    <tr>\n      <th>6</th>\n      <td>MSFT_EC_2Q25_0006</td>\n      <td>We expect consistent execution\\nacross our cor...</td>\n      <td>Microsoft expects stable execution across core...</td>\n      <td>Microsoft provided forward financial guidance ...</td>\n      <td>Microsoft anticipates its Q3 financial perform...</td>\n      <td>Here is a concise summary of Microsoft's finan...</td>\n    </tr>\n    <tr>\n      <th>7</th>\n      <td>MSFT_EC_2Q25_0007</td>\n      <td>We expect Xbox content services revenue growth...</td>\n      <td>Microsoft's Xbox content services revenue grow...</td>\n      <td>Microsoft expects modest growth in Xbox conten...</td>\n      <td>Microsoft expects:\\n\\n*   **Xbox content and s...</td>\n      <td>Here is a concise summary of the transcript se...</td>\n    </tr>\n    <tr>\n      <th>8</th>\n      <td>MSFT_EC_2Q25_0008</td>\n      <td>Please proceed. Thank you guys for taking the ...</td>\n      <td>Microsoft's recent quarter saw strong commerci...</td>\n      <td>Microsoft reported solid commercial bookings f...</td>\n      <td>Microsoft's commercial bookings were solid, bu...</td>\n      <td>Here is a concise summary of the transcript se...</td>\n    </tr>\n    <tr>\n      <th>9</th>\n      <td>MSFT_EC_2Q25_0009</td>\n      <td>But what we're seeing is waiting to see just h...</td>\n      <td>Microsoft's AI growth rate is reportedly bette...</td>\n      <td>Microsoft's AI revenue significantly exceeded ...</td>\n      <td>Microsoft is seeing strong growth in its AI in...</td>\n      <td>Here is a concise summary of the section withi...</td>\n    </tr>\n    <tr>\n      <th>10</th>\n      <td>MSFT_EC_2Q25_0010</td>\n      <td>Then on top of that, there is the AI scaling l...</td>\n      <td>Microsoft shared how improvements in AI pre-tr...</td>\n      <td>Microsoft reported significant progress in opt...</td>\n      <td>Microsoft is seeing significant improvements i...</td>\n      <td>Here is a concise summary of the section withi...</td>\n    </tr>\n    <tr>\n      <th>11</th>\n      <td>MSFT_EC_2Q25_0011</td>\n      <td>And so that's the fleet physics we're managing...</td>\n      <td>Microsoft is managing its technology resources...</td>\n      <td>Microsoft emphasized its strategic management ...</td>\n      <td>Microsoft's capital expenditures (CapEx) are g...</td>\n      <td>Here is a concise summary of the section withi...</td>\n    </tr>\n    <tr>\n      <th>12</th>\n      <td>MSFT_EC_2Q25_0012</td>\n      <td>So that's sort of one. And the other thing is ...</td>\n      <td>Microsoft has launched O1 'Think Harder' featu...</td>\n      <td>Microsoft reported ongoing improvements in inf...</td>\n      <td>Microsoft is seeing inference optimization and...</td>\n      <td>Here is a concise summary of the section withi...</td>\n    </tr>\n    <tr>\n      <th>13</th>\n      <td>MSFT_EC_2Q25_0013</td>\n      <td>But then what's happening, very much like what...</td>\n      <td>Microsoft is seeing increased collaboration ac...</td>\n      <td>Microsoft reported strong quarterly results, h...</td>\n      <td>Microsoft's commercial Remaining Performance O...</td>\n      <td>Here is a concise summary of the section withi...</td>\n    </tr>\n  </tbody>\n</table>\n</div>"
     },
     "execution_count": 52,
     "metadata": {},
     "output_type": "execute_result"
    }
   ],
   "source": [
    "chunk_df"
   ],
   "metadata": {
    "collapsed": false
   }
  },
  {
   "cell_type": "code",
   "execution_count": 53,
   "outputs": [
    {
     "name": "stdout",
     "output_type": "stream",
     "text": [
      "===MSFT_EC_2Q25_0000===\n",
      "Microsoft held an earnings call where Satya Nadella, Chairman and CEO, noted that the company's cloud services surpassed $40 billion in revenue, a 21% year-over-year increase. This milestone was driven by enterprises scaling their use of AI, pushing the AI business to exceed an annual revenue run rate of $13 billion, a 175% year-over-year increase. Nadella also discussed the company's strategic approach to managing computational resources, emphasizing the need for balance in scaling systems for AI training and inference. The company has doubled its data center capacity in the last three years, ramping up capacity last year more significantly than in any previous year to meet increasing demand for its Azure cloud service. Efforts to optimize AI's efficiency are aimed at boosting demand. The call was attended by company officials including CFO Amy Hood and Alice Jolla, Chief Accounting Officer.\n",
      "===MSFT_EC_2Q25_0001===\n",
      "Microsoft is making significant progress across all layers of its tech stack. Its cloud platform, Azure, is expanding rapidly, with the company doubling its data center capacity in the past three years. Microsoft's Fabric is experiencing strong customer growth and Power BI usage has increased by 40% in the last year. The Azure databases and Azure app services have seen the number of Azure OpenAI apps more than double in the past year. The company also announced a new large Azure commitment from OpenAI.\n",
      "\n",
      "Microsoft's AI-based offerings are showing strong growth. AI Foundry has seen over 200,000 monthly active users within two months of its launch. GitHub Copilot, a tool used to build, deploy, and maintain code, is increasingly preferred by major businesses like HP, HSBC, and KPMG. Furthermore, GitHub has grown to house 150 million developers, a 50% increase over the last two years.\n",
      "\n",
      "In relation to Microsoft 365 Copilot, the productivity tool is being rapidly adopted, with the number of daily users more than doubling quarter over quarter. Following its initial launch, customers have expanded their seats by more than 10 times over the past 18 months. Microsoft is also extending its offerings with the recent launch of Copilot chat, which is now available for use.\n",
      "\n",
      "===MSFT_EC_2Q25_0002===\n",
      "Microsoft reported strong growth in its Copilot software in the first quarter, with customers increasing their usage by over 10x in the last 18 months. Companies including Novartis added thousands of seats each quarter in the past year, with daily users also doubling quarter over quarter. A 60% increase in usage intensity was also noted, with hundreds of thousands of custom agents created to facilitate tasks. Microsoft relies on its enterprise knowledge cloud as a prime resource for data, growing by 25% YoY. \n",
      "\n",
      "Microsoft's AI-powered apps have been chosen over legacy providers by organizations such as Ecolab and Lenovo. In healthcare, monthly physician-patient encounters grew by 54% QoQ. There is significant momentum with Windows 11 as it approaches end of support for Windows 10. \n",
      "\n",
      "Microsoft continues to improve its security systems, launching over 80 new product features and helping organizations resolve incidents 30% faster. It helps users audit billions of interactions for safety and compliance. \n",
      "\n",
      "In consumer services, LinkedIn surpassed $2 billion in annual revenue for the first time in the quarter, with a nearly 50% subscriber growth over the past two years. LinkedIn's AI features were utilized by 40% of subscribers to enhance their profiles. Microsoft's search advertising and Bing platform grew their market share, with Edge attaining 30% market share in the US on Windows.\n",
      "===MSFT_EC_2Q25_0003===\n",
      "During the earnings call, Microsoft reported a surge in engagement on LinkedIn, with comments growing at twice the rate of other post formats. LinkedIn's premium subscriptions have surpassed $2 billion in annual revenue for the first time, with subscriber growth increasing nearly 50% over the past two years. The co-pilot consumer app has also seen increased engagement and retention. In gaming, Microsoft noted higher sales for Black Ops 6 and positive reviews for Indiana Jones and The Great Circle. Xbox cloud gaming recorded 140 million hours streamed in the quarter. \n",
      "\n",
      "Revenue for the quarter was $69.6 billion, up 12% while operating income increased by 17%. Microsoft's AI business annual revenue run rate exceeded $13 billion, with commercial bookings increasing by 67%. The company's cloud revenue was $40.9 billion, up by 21%, and its gross margin percentage was 70%. Operating expenses increased by 5% while operating margins increased by 2 points to 45%. As of the end of December, the company's total headcount was 2% higher than the previous year.\n",
      "===MSFT_EC_2Q25_0004===\n",
      "Microsoft Cloud gross margin was 70%, down 2 points from last year due to AI infrastructure scaling, while company-wide gross margin rose slightly to 69% due to a sales mix shift and improvements in gaming and search. Operating expenses increased less than expected by 5% while operating margins rose to 45%. Total company headcount at the end of December was 2% higher than the previous year. \n",
      "\n",
      "Revenue from productivity and business processes was $29.4 billion, growing 14% (or 13% in constant currency), largely due to a 16% revenue increase from Microsoft 365 commercial cloud. Microsoft 365 consumer cloud revenue increased 8%, with consumer subscriptions growing 10% to 86.3 million. \n",
      "\n",
      "LinkedIn revenue increased by 9%, but results were slightly below expectations due to a weaker hiring market. Dynamics 365 revenue increased by 19%, slightly ahead of expectations. \n",
      "\n",
      "The Intelligent Cloud segment's revenue was $25.5 billion, with Azure and other cloud services revenue growing by 31%. However, on-premise server revenue decreased by 3% due to slower purchasing for Windows Server 2025. \n",
      "\n",
      "Finally, for personal computing, revenue was $14.7 billion and Windows OEM and devices revenue increased by 4% year-over-year. Search and news advertising revenue increased by 21%, driven by a third-party partnership.\n",
      "===MSFT_EC_2Q25_0005===\n",
      "Microsoft's segment gross margin dollars saw a 12-13% increase, while gross margin percentage decreased by four points due to AI infrastructure scaling. Operating expenses saw a 10% increase, and operating income rose by 14%. More personal computing revenue remained nearly the same at $14.7 billion, but exceeded expectations due to various factors such as Windows OEM pre-builts and Call of Duty's gaming performance. Commercial inventory builds around Windows 10 and tariff uncertainty drove a 4% YoY increase in Windows OEM and devices revenue. Search and news advertising revenue XTAC also surpassed expectations with a 21% (20% in constant currency) increase because of a third-party partnership. Gaming revenue declined by 7-8%. Total company capital expenditure aligned with predictions at $22.6 billion, and operational cash flow was $22.3 billion, marking an 18% increase. Despite the high capital expenditures, free cash flow was $6.5 billion, down 29% YoY. Microsoft returned $9.7 billion to shareholders through dividends and share repurchases. In terms of projected Q3 results, increased strength in the U.S. dollar is expected to reduce total revenue growth by two points, while the demand for Microsoft's cloud and AI offerings is expected to provide another quarter of strong growth. Commercial bookings are expected to be flat YoY, and Microsoft Cloud's gross margin percentage is likely to be around 69%, lower than previous due to AI infrastructure scaling. Revenue growth of 11-12% is expected in productivity and business processes.\n",
      "===MSFT_EC_2Q25_0006===\n",
      "Microsoft expects stable execution across core annuity sales with potential quarterly volatility in booking growth due to unpredictable Azure contracts. The firm expects its cloud gross margin to be around 69%, a decrease year-over-year due to scaling its AI infrastructure. Revenue growth is forecasted in productivity and business processes (11-12%), Microsoft 365 commercial cloud (14-15%), LinkedIn (low to mid-single digits), and Dynamics 365 (mid-teens). M365 commercial products are expected to have unchanged revenue. The quarterly revenue growth can vary due to differing contract mixes. The Intelligent Cloud's revenue is projected to increase between 19-20%, driven by Azure, expecting a revenue growth of 31-32%. The on-premises server business is projected to experience a decline in mid-single digits. Personal computing revenue is expected to be between $12.4 and $12.8 billion. Gaming is forecasted to grow in low single digits. Operating expense is projected to increase between 5-6%. The Q3 effective tax rate is expected to be around 18%.\n",
      "===MSFT_EC_2Q25_0007===\n",
      "Microsoft's Xbox content services revenue growth is predicted to be in the low-to-mid single digits, with first-party content and Xbox Game Pass as key drivers. However, hardware revenue is expected to decline year over year. Company guidance for COGS expects a growth between 19% and 20% in constant currency, equating to $21.65 to $21.85 billion, and operating expense to grow between 5% and 6%, between $16.4 and $16.5 billion. Other income and expenses should be at a negative $1 billion, primarily due to equity method investments. For Q3, the estimated effective tax rate will be around 18%. The strengthening of the U.S. dollar may result in Q4 revenue, COGS growth, and operating expenses falling by more than one point. The spend in Q3 and Q4 should remain at similar levels to Q2, while FY26 involves continuous investments against strong demand signals, albeit at a lower growth rate than FY25. The company anticipates double-digit revenue and operating income growth for the full fiscal year, and an increase in FY25 operating margins year over year. The FY25 full-year effective tax rate is expected to be between 18 and 19 percent.\n",
      "===MSFT_EC_2Q25_0008===\n",
      "Microsoft's recent quarter saw strong commercial bookings, but the performance of Azure, its cloud computing service, was disappointing as it was at the lower end of the guidance range. This was said to be due to difficulties in what Microsoft refers to as the \"scale motions,\" primarily concerning customers reached indirectly through partners. The points of concern are about getting the balance right in terms of investments, marketing dollars, and sales operations. Adjustments are being made, but these changes may take time to show effect. In contrast, Azure AI performed better than expected due to good work by the operating teams in managing delivery dates. For the next quarter, Microsoft expects continued constrained capacity, as was the case last year. This is due to required resources such as space and kits, but the company has been making long-term investments to achieve a balance by the end of the year.\n",
      "\n",
      "===MSFT_EC_2Q25_0009===\n",
      "Microsoft's AI growth rate is reportedly better than expected, with workloads scaling well, including regular data storage services such as chat GPT, copilot, and enterprise AI workloads. The company intends to lean into this success rather than resting on past wins. Microsoft's AI revenue is driven largely by Azure and the larger-than-expected success of Microsoft Co-Pilot. The company sees significant improvements per cycle in software optimizations on inference due to AI scaling laws and aims to capitalize on this trend. As inference computing prices fall, Microsoft expects increased consumption and app development.\n",
      "===MSFT_EC_2Q25_0010===\n",
      "Microsoft shared how improvements in AI pre-training and inference time computing are making AI more ubiquitous. The company stated that this was beneficial for large-scale providers, such as Microsoft itself, and it would lead to broader application of the technology, such as running models that would usually require cloud infrastructure on a PC. Microsoft mentioned that the partnership with OpenAI is still strong and is generating benefits that are not yet fully realized. In managing its fleet of AI services, the company is aiming for a balance between inference and training, geo-distribution, and software optimization. One of its goals is to reduce the cost of AI services so they can be consumed broadly. The company also highlighted the importance of fleet optimization, continuous upgrading, and maintaining a healthy balance between monetization and training expense.\n",
      "\n",
      "===MSFT_EC_2Q25_0011===\n",
      "Microsoft is managing its technology resources carefully to align with Moore's law and to reflect an optimal ratio of monetization and demand. Microsoft's current portfolio of customer contracts (RPO) is near $300 billion. The company is working to deliver these contracts as quickly and efficiently as possible, not only for OpenAI partnership but also for its entire platform. The company is investing in AI infrastructure and commercial cloud but is set to pivot towards more CPU and GPU, which will be more closely correlated to revenue. The expenditure on these areas will either be via partnerships like OpenAI or directly through them. Their capital expenditure growth reflects a cycle pivot, which is more related to customer contract delivery. Microsoft is also evolving its go-to-market approach to be able to fulfill the needs of a larger range of customers. Two recent product upgrades mentioned include a Copilot Chat in M365 and an O1-powered feature in Copilot. These examples were given as an indication of how costs coming down can drive more utilization of premium tier features. Similar changes will be seen across Microsoft's entire product range.\n",
      "===MSFT_EC_2Q25_0012===\n",
      "Microsoft has launched O1 'Think Harder' feature on Copilot, making it available globally. This is part of their strategy to make once premium features more ubiquitous due to reduced costs from optimised inference. This trend can be seen across Microsoft's portfolio, including Security Copilot and Github Copilot. Regarding the use of proprietary versus open-source models, Microsoft sees benefits in both, with continual investment in optimizing them for different applications. The company is also investing significantly in 'Foundry' to facilitate this process. The Copilot feature has had positive uptake, particularly in areas where immediate productivity can be seen, such as sales teams and supply chains. However, as collaboration across functions increases, there is a demand for broader application throughout enterprises.\n",
      "===MSFT_EC_2Q25_0013===\n",
      "Microsoft is seeing increased collaboration across enterprise functions with people integrating AI into their daily work habits, often starting at departmental level before expanding. This has resulted in the creation of co-pilot chat to increase flexibility for enterprise customers. Microsoft has also reported a significant increase in commercial bookings and commercial RPO of $39 billion sequentially – the highest ever seen. This has been attributed to the Azure commitments made by OpenAI; the renewal of existing contracts and add-ons; a productive E5 quarter; and large Azure commitments, particularly from existing clients and new customers.\n"
     ]
    }
   ],
   "source": [
    "# Print the chunk summaries to read them better\n",
    "for _, row in chunk_df.iterrows():\n",
    "    print(f\"==={row['chunk_id']}===\\n{row[summary_field]}\")"
   ],
   "metadata": {
    "collapsed": false
   }
  },
  {
   "cell_type": "markdown",
   "source": [
    "## Summarize the Summaries"
   ],
   "metadata": {
    "collapsed": false
   }
  },
  {
   "cell_type": "markdown",
   "source": [],
   "metadata": {
    "collapsed": false
   }
  },
  {
   "cell_type": "code",
   "execution_count": 70,
   "outputs": [
    {
     "name": "stdout",
     "output_type": "stream",
     "text": [
      "1. Conclusion\n",
      "\n",
      "Microsoft has produced a strong financial performance with significant increases in revenue from cloud services, AI business, and its commercial side. Microsoft Azure and M365 Copilot are cited as driving forces in the company's positive financial results. The company has also made headway in future growth areas, such as AI infrastructure scaling, the introduction of new product features, and fostering collaborations within and across enterprises. Microsoft expects continued growth while managing expenses and operational hurdles.\n",
      "\n",
      "2. Key Points\n",
      "\n",
      "- The company reported a 21% YoY increase in its cloud service revenue, surpassing $40 billion.\n",
      "- Microsoft's AI business surpassed an annual revenue run rate of $13 billion, a 175% increase YoY.\n",
      "- Microsoft reported strong growth in its Copilot software, with a 10x increase in usage in the last 18 months.\n",
      "- LinkedIn revenues exceeded $2 billion for the first time with a nearly 50% subscriber growth over the past two years.\n",
      "- Revenue for the quarter was $69.6 billion, a 12% increase YoY.\n",
      "\n",
      "3. Contents\n",
      "\n",
      "3.1. Financial Performance Analysis\n",
      "\n",
      "- Microsoft's cloud services revenue reached over $40 billion, a 21% increase YoY.\n",
      "- Its AI business annual revenue run rate crossed $13 billion, a significant 175% jump YoY.\n",
      "- Operating income increased by 17%.\n",
      "- Overall revenue for the quarter was reported to be $69.6 billion, marking a 12% YoY increase.\n",
      "- Commercial bookings increased by a considerable 67%.\n",
      "- LinkedIn revenue recorded a 9% increase, crossing $2 billion in annual revenue for the first time.\n",
      "- An increase in usage intensity by 60% was observed for the first quarter of Microsoft's Copilot software. \n",
      "\n",
      "3.2. Future Outlook\n",
      "\n",
      "- Microsoft is focusing on its AI infrastructure scaling, aiming at improved success rates in software optimizations on inference due to AI scaling laws.\n",
      "- The company anticipates double-digit revenue and operating income growth for the full fiscal year.\n",
      "- Revenue growth is expected across productivity and business processes (11-12%), Microsoft 365 commercial cloud (14-15%), LinkedIn (low to mid-single digits), and Dynamics 365 (mid-teens).\n",
      "- Microsoft expects their cloud gross margin to be around 69%, a decrease YoY due to scaling its AI infrastructure.\n",
      "- The company expects a Q3 effective tax rate of around 18%.\n",
      "\n",
      "3.3. Operation Highlights\n",
      "\n",
      "- The cloud platform, Azure, is expanding rapidly, with the company doubling its data center capacity in the past three years.\n",
      "- AI Foundry has attracted over 200,000 monthly active users within just two months of its launch.\n",
      "- Software Microsoft 365 Copilot saw rapid adoption, with users more than doubling quarter over quarter. \n",
      "- LinkedIn surpassed $2 billion in annual revenue for the first time, with nearly 50% subscriber growth over the past two years.\n",
      "- Microsoft reported a surge in engagement on LinkedIn, with comments growing at twice the rate of other post formats.\n",
      "- Microsoft has launched O1 'Think Harder' feature on Copilot, making it available globally.\n"
     ]
    }
   ],
   "source": [
    "report_en_path = os.path.join(data_root, reports_dir, f\"{article_name}_report_en_{llm_model_name}.txt\")\n",
    "\n",
    "if refresh(\"final_summary\") or not os.path.exists(report_en_path):\n",
    "    final_summary_prompt = \"\"\"\n",
    "    You are to generate a report from {article_type}.\n",
    "    Organize related points in sections, with the following formats:\n",
    "    {sections}\n",
    "    Report quantitatively if values are provided.\n",
    "    ===\n",
    "    {text}\n",
    "    \"\"\"\n",
    "\n",
    "    chunk_summaries = \"\\n\\n\".join(list(chunk_df[summary_field]))\n",
    "\n",
    "    result = llm.react(\n",
    "        final_summary_prompt,\n",
    "        arguments={\n",
    "            \"article_type\": article_type,\n",
    "            \"text\": chunk_summaries,\n",
    "            \"scope\": scope,\n",
    "            \"sections\": report_sections,\n",
    "        },\n",
    "        temperature=temperature,\n",
    "    )\n",
    "    report_en = result[\"content\"]\n",
    "\n",
    "    with open(report_en_path, \"w\", encoding=\"utf-8\") as fd:\n",
    "        fd.write(report_en)\n",
    "\n",
    "else:\n",
    "    with open(report_en_path, \"r\", encoding=\"utf-8\") as fd:\n",
    "        report_en = fd.read()\n",
    "\n",
    "print(report_en)"
   ],
   "metadata": {
    "collapsed": false
   }
  },
  {
   "cell_type": "code",
   "execution_count": 71,
   "outputs": [
    {
     "name": "stdout",
     "output_type": "stream",
     "text": [
      "1. 結論\n",
      "\n",
      "微軟的財務表現強勁，其雲服務，AI業務以及商業端的營收都有顯著提升。微軟Azure和M365 Copilot被認為是該公司財務成果穩健的驅動力。該公司也在AI基礎設施擴展，新產品特性的引入以及加強企業內外的協作等未來增長領域取得了進展。微軟期待在管理開支和操作障礙的同時繼續增長。\n",
      "\n",
      "2. 重點內容\n",
      "\n",
      "- 該公司報告其雲服務收入同比增長21%，超過400億美元。\n",
      "- 微軟的AI業務實現了年營收運行速度超過130億美元，同比增長175%。\n",
      "- 微軟報告其Copilot軟件強勁成長，在過去18個月內使用量增加了10倍。\n",
      "- LinkedIn 收入首次超過20億美元，過去兩年近50%的訂閱者增長。\n",
      "- 季度收入為696億美元，同比增長12%。\n",
      "\n",
      "3. 內容\n",
      "\n",
      "3.1. 財務表現分析\n",
      "\n",
      "- 微軟的雲服務營收較上年同期增加21%，超過400億美元。\n",
      "- 其AI業務的年營收運行速度較上年同期增加175%，超過130億美元。\n",
      "- 營業收入增加了17%。\n",
      "- 總的季度收入報告為69.6億美元，比去年同期增加了12%。\n",
      "- 商業訂單增加了67%的極其顯著的幅度。\n",
      "- LinkedIn收入增加了9%，首次突破了20億美元的年收入。\n",
      "- 微軟的Copilot軟件第一季度的使用強度增加了60%。\n",
      "\n",
      "3.2. 未來展望\n",
      "\n",
      "- 微軟專注於其AI基礎設施擴容，以提高軟件優化在推理上因AI擴展規模而帶來的成功率。\n",
      "- 公司預期全財政年度的雙位數營收和營業收入增長。\n",
      "- 預期營收增長包括生產力和業務流程 (11-12%）、微軟365商業雲 (14-15%）、LinkedIn (低至中單位數位) 和Dynamics 365 (中十位數位)。\n",
      "- 微軟預期雲毛利率將在69%左右，因為其AI基礎設施擴容，使得同比有所下降。\n",
      "- 公司預期第三季度的有效稅率將約為18%。\n",
      "\n",
      "3.3. 營運亮點\n",
      "\n",
      "- 雲平台Azure正在迅速擴展，該公司在過去三年內將其數據中心容量翻倍。\n",
      "- AI Foundry在推出僅兩個月內就吸引了超過20萬的月活躍用戶。\n",
      "- 微軟365 Copilot軟件的採用率快速升高，用戶數量季度環比增加一倍以上。\n",
      "- LinkedIn收入首次突破20億美元，過去兩年訂閱用戶數量增長近50%。\n",
      "- 微軟報告LinkedIn參與度急劇上升，評論的增長速度是其他帖子格式的兩倍。\n",
      "- 微軟在Copilot上推出了O1 'Think Harder'功能，使其在全球範圍內可用。\n"
     ]
    }
   ],
   "source": [
    "report_zh_path = os.path.join(data_root, reports_dir, f\"{article_name}_report_zh_{llm_model_name}.txt\")\n",
    "\n",
    "if refresh(\"final_summary\") or not os.path.exists(report_en_path):\n",
    "    translation_prompt = \"\"\"\n",
    "    Translate the following text in traditional Chinese.\n",
    "    Do not translate technical or financial terminologies.\n",
    "    ===\n",
    "    {text}\n",
    "    \"\"\"\n",
    "\n",
    "    result = llm.react(translation_prompt, arguments={\n",
    "        \"text\": report_en,\n",
    "    })\n",
    "    report_zh = result[\"content\"]\n",
    "\n",
    "    with open(report_zh_path, \"w\", encoding=\"utf-8\") as fd:\n",
    "        fd.write(report_zh)\n",
    "\n",
    "else:\n",
    "    with open(report_zh_path, \"r\", encoding=\"utf-8\") as fd:\n",
    "        report_zh = fd.read()\n",
    "\n",
    "print(report_zh)"
   ],
   "metadata": {
    "collapsed": false
   }
  }
 ],
 "metadata": {
  "kernelspec": {
   "name": "python311",
   "language": "python",
   "display_name": "Python 3.11"
  },
  "language_info": {
   "codemirror_mode": {
    "name": "ipython",
    "version": 2
   },
   "file_extension": ".py",
   "mimetype": "text/x-python",
   "name": "python",
   "nbconvert_exporter": "python",
   "pygments_lexer": "ipython2",
   "version": "2.7.6"
  }
 },
 "nbformat": 4,
 "nbformat_minor": 0
}
