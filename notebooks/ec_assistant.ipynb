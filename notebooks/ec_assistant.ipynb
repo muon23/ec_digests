{
 "cells": [
  {
   "cell_type": "markdown",
   "source": [
    "# Earnings Call Assistant POC\n",
    "\n",
    "POC for AI assistant that answers questions about the contents of a company's earnings call.\n",
    "Uses RAG on chunks.\n",
    "\n",
    "\n",
    "## Requirements\n",
    "#### Package Requirements\n",
    "This notebook was created with the following packages\n",
    "- python                    3.11\n",
    "- llama-index               0.12.25\n",
    "- pandas                    2.2.2\n",
    "- langchain                 0.3.21\n",
    "\n",
    "#### Other Requirements\n",
    "- Environment variable `OPENAI_API_KEY`.  This is needed for LLaMA Index to use its default GPT-3.5 to provide an answer to the query.\n",
    "- Environment variable `DEEPINFRA_API_KEY`.  This is needed for REST API access LLM models in DeepInfra."
   ],
   "metadata": {
    "collapsed": false
   }
  },
  {
   "cell_type": "code",
   "execution_count": 1,
   "metadata": {
    "collapsed": true
   },
   "outputs": [],
   "source": [
    "import pandas as pd"
   ]
  },
  {
   "cell_type": "markdown",
   "source": [
    "## Set up Environment\n",
    "\n",
    "Setting up environment specific parameters.  Modify these to suit your local environment."
   ],
   "metadata": {
    "collapsed": false
   }
  },
  {
   "cell_type": "code",
   "execution_count": 2,
   "outputs": [],
   "source": [
    "\n",
    "# Locations of the data sources\n",
    "#\n",
    "\n",
    "data_root = \"../data\"         # Directory to the data\n",
    "ec_dir = \"earning_calls\"\n",
    "working_dir = \"working\"\n",
    "index_dir = \"indices\"\n"
   ],
   "metadata": {
    "collapsed": false
   }
  },
  {
   "cell_type": "code",
   "execution_count": 3,
   "outputs": [],
   "source": [
    "import os\n",
    "\n",
    "# Keys for LLM access\n",
    "openai_key = os.environ.get(\"OPENAI_API_KEY\")\n",
    "# hf_key = os.environ.get(\"HUGGINGFACEHUB_API_TOKEN\")\n",
    "di_key = os.environ.get(\"DEEPINFRA_API_KEY\")\n",
    "\n",
    "if not openai_key:\n",
    "    raise EnvironmentError(f\"OPENAI_API_KEY must be provided for this notebook to work.  Needed by LLaMA index.\")\n",
    "\n",
    "# if not hf_key:\n",
    "#     raise EnvironmentError(f\"Need HuggingFace token for this notebook to work.  Needed for query extension with DeepSeek-R1\"  )\n",
    "\n",
    "if not di_key:\n",
    "    raise  EnvironmentError(f\"DEEPINFRA_API_KEY is needed to run models in DeepInfra\")"
   ],
   "metadata": {
    "collapsed": false
   }
  },
  {
   "cell_type": "code",
   "execution_count": 4,
   "outputs": [],
   "source": [
    "#\n",
    "# Tweak these values\n",
    "#\n",
    "\n",
    "# Chunking size\n",
    "chunk_size = 400\n",
    "chunk_overlap = 150\n",
    "\n",
    "# Type of article\n",
    "article_type = \"transcript of the earnings call\"\n",
    "article_name = \"MSFT_EC_2Q25\"\n",
    "article_file = \"msft/MSFT_FY2Q25__1__m4a_Good_Tape_2025-03-19.txt\"\n",
    "\n",
    "# Query scopes\n",
    "scope = \"Microsoft financial and operational reports\"\n",
    "\n",
    "# LLM models\n",
    "# llm_model_name = \"gpt-4\"\n",
    "# llm_model_name = \"gpt-4.5\"\n",
    "llm_model_name = \"llama-3\"\n",
    "# llm_model_name = \"gemini-2\"\n",
    "\n",
    "# Generation temperature\n",
    "temperature = 0.6\n",
    "\n",
    "# Top semantically similar chunks to retrieve for LLM\n",
    "similarity_top_k = 5"
   ],
   "metadata": {
    "collapsed": false
   }
  },
  {
   "cell_type": "code",
   "execution_count": 5,
   "outputs": [],
   "source": [
    "#\n",
    "# Select an embedding model for vector database.  Here I use LLaMA Index.\n",
    "#\n",
    "\n",
    "from llama_index.embeddings.openai import OpenAIEmbedding\n",
    "\n",
    "# Initialize the OpenAI embedding model\n",
    "embed_model = OpenAIEmbedding(model=\"text-embedding-3-small\")\n",
    "# embed_model = OpenAIEmbedding(model=\"text-embedding-ada-002\")\n",
    "\n",
    "# Testing\n",
    "# text = \"OpenAI's new embedding models at works\"\n",
    "# print(embed_model.get_text_embedding(text))"
   ],
   "metadata": {
    "collapsed": false
   }
  },
  {
   "cell_type": "code",
   "execution_count": 6,
   "outputs": [],
   "source": [
    "# These are steps in this notebook that we want to force refreshing.\n",
    "# Many of the steps are time-consuming, so I save their results in the data directory.\n",
    "# If the saved results exists, I will reload them instead of recalculating them.\n",
    "# Setting any of the steps to True forces the code to recalculate the result for that step.\n",
    "steps = {\n",
    "    \"chunking\": False,                       # Input the article and do chunking\n",
    "    \"query_generation\": False,               # Generate possible queries for each chunk\n",
    "    \"indexing\": True,                        # Index the chunks with queries\n",
    "    \"qa_indexing\": True,                     # Do query-aware indexing\n",
    "}\n",
    "\n",
    "def refresh(what:str):\n",
    "    return what in steps and steps[what]"
   ],
   "metadata": {
    "collapsed": false
   }
  },
  {
   "cell_type": "code",
   "execution_count": 7,
   "outputs": [
    {
     "name": "stdout",
     "output_type": "stream",
     "text": [
      "Refresh the following steps:\n",
      "- indexing\n",
      "- qa_indexing\n"
     ]
    }
   ],
   "source": [
    "step_dependencies = {\n",
    "    \"query_generation\": [\"chunking\"],\n",
    "    \"indexing\": [\"chunking\"],\n",
    "    \"qa_indexing\": [\"query_generation\"],\n",
    "}\n",
    "\n",
    "more_to_resolve = True\n",
    "while more_to_resolve:\n",
    "    more_to_resolve = False\n",
    "    for step in step_dependencies:\n",
    "        if not steps[step] and any([steps[s] for s in step_dependencies[step]]):\n",
    "            steps[step] = True\n",
    "            more_to_resolve = True\n",
    "\n",
    "print(\"Refresh the following steps:\")\n",
    "for s in steps:\n",
    "    if steps[s]:\n",
    "        print(f\"- {s}\")"
   ],
   "metadata": {
    "collapsed": false
   }
  },
  {
   "cell_type": "markdown",
   "source": [
    "## Reading and Chunking\n",
    "\n",
    "Read the transcript and chunk it."
   ],
   "metadata": {
    "collapsed": false
   }
  },
  {
   "cell_type": "code",
   "execution_count": 8,
   "outputs": [],
   "source": [
    "from llama_index.core.node_parser import SentenceSplitter\n",
    "\n",
    "article_path = os.path.join(data_root, ec_dir, article_file)\n",
    "chunk_path = os.path.join(data_root, working_dir, f\"{article_name}_assist_chunks.parquet\")\n",
    "\n",
    "if refresh(\"chunking\") or not os.path.exists(chunk_path):\n",
    "\n",
    "    # Input\n",
    "    with open(article_path, \"r\", encoding=\"utf-8\") as tfd:\n",
    "        transcript_content = tfd.read()\n",
    "\n",
    "    # Initialize the SentenceSplitter\n",
    "    sentence_splitter = SentenceSplitter(chunk_size=chunk_size, chunk_overlap=chunk_overlap)\n",
    "\n",
    "    # Split the text into chunks\n",
    "    chunks = sentence_splitter.split_text(transcript_content)\n",
    "\n",
    "    # Put into Pandas\n",
    "    chunk_ids = [f\"{article_name}_{i:04d}\" for i in range(len(chunks))]\n",
    "    chunk_df = pd.DataFrame(zip(chunk_ids, chunks), columns=[\"chunk_id\", \"content\"])\n",
    "    chunk_df = chunk_df.set_index(\"chunk_id\")\n",
    "\n",
    "    # Save the results\n",
    "    chunk_df.to_parquet(chunk_path)\n",
    "else:\n",
    "    chunk_df = pd.read_parquet(chunk_path)"
   ],
   "metadata": {
    "collapsed": false
   }
  },
  {
   "cell_type": "code",
   "execution_count": 9,
   "outputs": [
    {
     "data": {
      "text/plain": "                                                             content\nchunk_id                                                            \nMSFT_EC_2Q25_0000  MSFT_FY2Q25 (1).m4a\\n\\noperator assistance, pl...\nMSFT_EC_2Q25_0001  They are included as additional clarifying ite...\nMSFT_EC_2Q25_0002  Actual results could materially differ because...\nMSFT_EC_2Q25_0003  And as AI becomes more efficient and accessibl...\nMSFT_EC_2Q25_0004  UBS alone migrated mainframe workloads encompa...\nMSFT_EC_2Q25_0005  Through our strategic partnership, we continue...\nMSFT_EC_2Q25_0006  And GitHub Copilot is increasingly the tool of...\nMSFT_EC_2Q25_0007  Barclays, Carrier Group, Pearson and Universit...\nMSFT_EC_2Q25_0008  Billions of emails, documents, and chats, hund...\nMSFT_EC_2Q25_0009  We also see more and more developers from Adob...\nMSFT_EC_2Q25_0010  We're also innovating with agents to help recr...\nMSFT_EC_2Q25_0011  And we're delivering on this plan. Black Ops 6...\nMSFT_EC_2Q25_0012  Commercial bookings increased 67% and 75% in c...\nMSFT_EC_2Q25_0013  Company gross margin percentage increased slig...\nMSFT_EC_2Q25_0014  With M365 Copilot, we continued to see growth ...\nMSFT_EC_2Q25_0015  Segment gross margin dollars increased 13% and...\nMSFT_EC_2Q25_0016  Enterprise and partner\\nservices revenue decre...\nMSFT_EC_2Q25_0017  Xbox content and services revenue increased 2%...\nMSFT_EC_2Q25_0018  Free cash flow was $6.5 billion, down 29% year...\nMSFT_EC_2Q25_0019  Demand for our differentiated cloud and AI off...\nMSFT_EC_2Q25_0020  For M365 commercial products, we expect revenu...\nMSFT_EC_2Q25_0021  As we shared in October, the contribution from...\nMSFT_EC_2Q25_0022  Growth is expected to moderate from last quart...\nMSFT_EC_2Q25_0023  And lastly, we expect our Q3 effective tax rat...\nMSFT_EC_2Q25_0024  And given the operating leverage that we've de...\nMSFT_EC_2Q25_0025  Operator, can you please repeat your instructi...\nMSFT_EC_2Q25_0026  Thank you very much.\\n\\nThanks, Keith.\\n\\non t...\nMSFT_EC_2Q25_0027  And I think we are going to make some adjustme...\nMSFT_EC_2Q25_0028  You have to have space, generally long-lived a...\nMSFT_EC_2Q25_0029  In general, the only thing that's changed is r...\nMSFT_EC_2Q25_0030  But let me put it this way.\\n\\nYou would rathe...\nMSFT_EC_2Q25_0031  And also, price price per seat was actually qu...\nMSFT_EC_2Q25_0032  And that's all.\\n\\nYou should think of what I ...\nMSFT_EC_2Q25_0033  So that type of optimizations means AI will be...\nMSFT_EC_2Q25_0034  And as you saw, they've committed in a big way...\nMSFT_EC_2Q25_0035  It won't generate any demand.\\n\\nSo you've got...\nMSFT_EC_2Q25_0036  That is committed\\ncustomer contracts that nee...\nMSFT_EC_2Q25_0037  And then you'll see the pivot to more CPU and ...\nMSFT_EC_2Q25_0038  In fact, you saw us make two announcements rec...\nMSFT_EC_2Q25_0039  So across the length and breadth of our portfo...\nMSFT_EC_2Q25_0040  So that's also another side, like there's a\\n\\...\nMSFT_EC_2Q25_0041  And the next question comes from the line of B...\nMSFT_EC_2Q25_0042  I sort of call it think with AI and work with,...\nMSFT_EC_2Q25_0043  I appreciate there's some volatility with this...\nMSFT_EC_2Q25_0044  And I think that's important. We also\\nhad a g...",
      "text/html": "<div>\n<style scoped>\n    .dataframe tbody tr th:only-of-type {\n        vertical-align: middle;\n    }\n\n    .dataframe tbody tr th {\n        vertical-align: top;\n    }\n\n    .dataframe thead th {\n        text-align: right;\n    }\n</style>\n<table border=\"1\" class=\"dataframe\">\n  <thead>\n    <tr style=\"text-align: right;\">\n      <th></th>\n      <th>content</th>\n    </tr>\n    <tr>\n      <th>chunk_id</th>\n      <th></th>\n    </tr>\n  </thead>\n  <tbody>\n    <tr>\n      <th>MSFT_EC_2Q25_0000</th>\n      <td>MSFT_FY2Q25 (1).m4a\\n\\noperator assistance, pl...</td>\n    </tr>\n    <tr>\n      <th>MSFT_EC_2Q25_0001</th>\n      <td>They are included as additional clarifying ite...</td>\n    </tr>\n    <tr>\n      <th>MSFT_EC_2Q25_0002</th>\n      <td>Actual results could materially differ because...</td>\n    </tr>\n    <tr>\n      <th>MSFT_EC_2Q25_0003</th>\n      <td>And as AI becomes more efficient and accessibl...</td>\n    </tr>\n    <tr>\n      <th>MSFT_EC_2Q25_0004</th>\n      <td>UBS alone migrated mainframe workloads encompa...</td>\n    </tr>\n    <tr>\n      <th>MSFT_EC_2Q25_0005</th>\n      <td>Through our strategic partnership, we continue...</td>\n    </tr>\n    <tr>\n      <th>MSFT_EC_2Q25_0006</th>\n      <td>And GitHub Copilot is increasingly the tool of...</td>\n    </tr>\n    <tr>\n      <th>MSFT_EC_2Q25_0007</th>\n      <td>Barclays, Carrier Group, Pearson and Universit...</td>\n    </tr>\n    <tr>\n      <th>MSFT_EC_2Q25_0008</th>\n      <td>Billions of emails, documents, and chats, hund...</td>\n    </tr>\n    <tr>\n      <th>MSFT_EC_2Q25_0009</th>\n      <td>We also see more and more developers from Adob...</td>\n    </tr>\n    <tr>\n      <th>MSFT_EC_2Q25_0010</th>\n      <td>We're also innovating with agents to help recr...</td>\n    </tr>\n    <tr>\n      <th>MSFT_EC_2Q25_0011</th>\n      <td>And we're delivering on this plan. Black Ops 6...</td>\n    </tr>\n    <tr>\n      <th>MSFT_EC_2Q25_0012</th>\n      <td>Commercial bookings increased 67% and 75% in c...</td>\n    </tr>\n    <tr>\n      <th>MSFT_EC_2Q25_0013</th>\n      <td>Company gross margin percentage increased slig...</td>\n    </tr>\n    <tr>\n      <th>MSFT_EC_2Q25_0014</th>\n      <td>With M365 Copilot, we continued to see growth ...</td>\n    </tr>\n    <tr>\n      <th>MSFT_EC_2Q25_0015</th>\n      <td>Segment gross margin dollars increased 13% and...</td>\n    </tr>\n    <tr>\n      <th>MSFT_EC_2Q25_0016</th>\n      <td>Enterprise and partner\\nservices revenue decre...</td>\n    </tr>\n    <tr>\n      <th>MSFT_EC_2Q25_0017</th>\n      <td>Xbox content and services revenue increased 2%...</td>\n    </tr>\n    <tr>\n      <th>MSFT_EC_2Q25_0018</th>\n      <td>Free cash flow was $6.5 billion, down 29% year...</td>\n    </tr>\n    <tr>\n      <th>MSFT_EC_2Q25_0019</th>\n      <td>Demand for our differentiated cloud and AI off...</td>\n    </tr>\n    <tr>\n      <th>MSFT_EC_2Q25_0020</th>\n      <td>For M365 commercial products, we expect revenu...</td>\n    </tr>\n    <tr>\n      <th>MSFT_EC_2Q25_0021</th>\n      <td>As we shared in October, the contribution from...</td>\n    </tr>\n    <tr>\n      <th>MSFT_EC_2Q25_0022</th>\n      <td>Growth is expected to moderate from last quart...</td>\n    </tr>\n    <tr>\n      <th>MSFT_EC_2Q25_0023</th>\n      <td>And lastly, we expect our Q3 effective tax rat...</td>\n    </tr>\n    <tr>\n      <th>MSFT_EC_2Q25_0024</th>\n      <td>And given the operating leverage that we've de...</td>\n    </tr>\n    <tr>\n      <th>MSFT_EC_2Q25_0025</th>\n      <td>Operator, can you please repeat your instructi...</td>\n    </tr>\n    <tr>\n      <th>MSFT_EC_2Q25_0026</th>\n      <td>Thank you very much.\\n\\nThanks, Keith.\\n\\non t...</td>\n    </tr>\n    <tr>\n      <th>MSFT_EC_2Q25_0027</th>\n      <td>And I think we are going to make some adjustme...</td>\n    </tr>\n    <tr>\n      <th>MSFT_EC_2Q25_0028</th>\n      <td>You have to have space, generally long-lived a...</td>\n    </tr>\n    <tr>\n      <th>MSFT_EC_2Q25_0029</th>\n      <td>In general, the only thing that's changed is r...</td>\n    </tr>\n    <tr>\n      <th>MSFT_EC_2Q25_0030</th>\n      <td>But let me put it this way.\\n\\nYou would rathe...</td>\n    </tr>\n    <tr>\n      <th>MSFT_EC_2Q25_0031</th>\n      <td>And also, price price per seat was actually qu...</td>\n    </tr>\n    <tr>\n      <th>MSFT_EC_2Q25_0032</th>\n      <td>And that's all.\\n\\nYou should think of what I ...</td>\n    </tr>\n    <tr>\n      <th>MSFT_EC_2Q25_0033</th>\n      <td>So that type of optimizations means AI will be...</td>\n    </tr>\n    <tr>\n      <th>MSFT_EC_2Q25_0034</th>\n      <td>And as you saw, they've committed in a big way...</td>\n    </tr>\n    <tr>\n      <th>MSFT_EC_2Q25_0035</th>\n      <td>It won't generate any demand.\\n\\nSo you've got...</td>\n    </tr>\n    <tr>\n      <th>MSFT_EC_2Q25_0036</th>\n      <td>That is committed\\ncustomer contracts that nee...</td>\n    </tr>\n    <tr>\n      <th>MSFT_EC_2Q25_0037</th>\n      <td>And then you'll see the pivot to more CPU and ...</td>\n    </tr>\n    <tr>\n      <th>MSFT_EC_2Q25_0038</th>\n      <td>In fact, you saw us make two announcements rec...</td>\n    </tr>\n    <tr>\n      <th>MSFT_EC_2Q25_0039</th>\n      <td>So across the length and breadth of our portfo...</td>\n    </tr>\n    <tr>\n      <th>MSFT_EC_2Q25_0040</th>\n      <td>So that's also another side, like there's a\\n\\...</td>\n    </tr>\n    <tr>\n      <th>MSFT_EC_2Q25_0041</th>\n      <td>And the next question comes from the line of B...</td>\n    </tr>\n    <tr>\n      <th>MSFT_EC_2Q25_0042</th>\n      <td>I sort of call it think with AI and work with,...</td>\n    </tr>\n    <tr>\n      <th>MSFT_EC_2Q25_0043</th>\n      <td>I appreciate there's some volatility with this...</td>\n    </tr>\n    <tr>\n      <th>MSFT_EC_2Q25_0044</th>\n      <td>And I think that's important. We also\\nhad a g...</td>\n    </tr>\n  </tbody>\n</table>\n</div>"
     },
     "execution_count": 9,
     "metadata": {},
     "output_type": "execute_result"
    }
   ],
   "source": [
    "chunk_df"
   ],
   "metadata": {
    "collapsed": false
   }
  },
  {
   "cell_type": "markdown",
   "source": [
    "## Generate Queries for Each Chunk\n",
    "\n",
    "Generate potential questions for each chunk.  This will help relevancy of vector searches."
   ],
   "metadata": {
    "collapsed": false
   }
  },
  {
   "cell_type": "code",
   "execution_count": 10,
   "outputs": [],
   "source": [
    "import bots\n",
    "\n",
    "llm = bots.of(llm_model_name)"
   ],
   "metadata": {
    "collapsed": false
   }
  },
  {
   "cell_type": "code",
   "execution_count": 11,
   "outputs": [
    {
     "data": {
      "text/plain": "              chunk_id                                           question\n0    MSFT_EC_2Q25_0000  What non-GAAP financial measures will be discu...\n1    MSFT_EC_2Q25_0000  Where can the earnings press release and finan...\n2    MSFT_EC_2Q25_0000  What is the purpose of providing non-GAAP fina...\n3    MSFT_EC_2Q25_0000  How will growth comparisons be made during the...\n4    MSFT_EC_2Q25_0000   Where can more detailed outlook slides be found?\n..                 ...                                                ...\n425  MSFT_EC_2Q25_0044  Are existing customers increasing their Azure ...\n426  MSFT_EC_2Q25_0044  Are new customers making significant Azure com...\n427  MSFT_EC_2Q25_0044  What contributed to the broad-based growth in ...\n428  MSFT_EC_2Q25_0044       How did M365 Copilot perform in the quarter?\n429  MSFT_EC_2Q25_0044  What are the key components that drove the com...\n\n[430 rows x 2 columns]",
      "text/html": "<div>\n<style scoped>\n    .dataframe tbody tr th:only-of-type {\n        vertical-align: middle;\n    }\n\n    .dataframe tbody tr th {\n        vertical-align: top;\n    }\n\n    .dataframe thead th {\n        text-align: right;\n    }\n</style>\n<table border=\"1\" class=\"dataframe\">\n  <thead>\n    <tr style=\"text-align: right;\">\n      <th></th>\n      <th>chunk_id</th>\n      <th>question</th>\n    </tr>\n  </thead>\n  <tbody>\n    <tr>\n      <th>0</th>\n      <td>MSFT_EC_2Q25_0000</td>\n      <td>What non-GAAP financial measures will be discu...</td>\n    </tr>\n    <tr>\n      <th>1</th>\n      <td>MSFT_EC_2Q25_0000</td>\n      <td>Where can the earnings press release and finan...</td>\n    </tr>\n    <tr>\n      <th>2</th>\n      <td>MSFT_EC_2Q25_0000</td>\n      <td>What is the purpose of providing non-GAAP fina...</td>\n    </tr>\n    <tr>\n      <th>3</th>\n      <td>MSFT_EC_2Q25_0000</td>\n      <td>How will growth comparisons be made during the...</td>\n    </tr>\n    <tr>\n      <th>4</th>\n      <td>MSFT_EC_2Q25_0000</td>\n      <td>Where can more detailed outlook slides be found?</td>\n    </tr>\n    <tr>\n      <th>...</th>\n      <td>...</td>\n      <td>...</td>\n    </tr>\n    <tr>\n      <th>425</th>\n      <td>MSFT_EC_2Q25_0044</td>\n      <td>Are existing customers increasing their Azure ...</td>\n    </tr>\n    <tr>\n      <th>426</th>\n      <td>MSFT_EC_2Q25_0044</td>\n      <td>Are new customers making significant Azure com...</td>\n    </tr>\n    <tr>\n      <th>427</th>\n      <td>MSFT_EC_2Q25_0044</td>\n      <td>What contributed to the broad-based growth in ...</td>\n    </tr>\n    <tr>\n      <th>428</th>\n      <td>MSFT_EC_2Q25_0044</td>\n      <td>How did M365 Copilot perform in the quarter?</td>\n    </tr>\n    <tr>\n      <th>429</th>\n      <td>MSFT_EC_2Q25_0044</td>\n      <td>What are the key components that drove the com...</td>\n    </tr>\n  </tbody>\n</table>\n<p>430 rows × 2 columns</p>\n</div>"
     },
     "execution_count": 11,
     "metadata": {},
     "output_type": "execute_result"
    }
   ],
   "source": [
    "query_path = os.path.join(data_root, working_dir, f\"{article_name}_assist_queries.tsv\")\n",
    "\n",
    "if not os.path.exists(query_path) or refresh(\"query_generation\"):\n",
    "    query_df = pd.DataFrame(columns=[\"chunk_id\", \"question\"])\n",
    "else:\n",
    "    query_df = pd.read_table(query_path)\n",
    "\n",
    "query_df"
   ],
   "metadata": {
    "collapsed": false
   }
  },
  {
   "cell_type": "code",
   "execution_count": 12,
   "outputs": [
    {
     "data": {
      "text/plain": "['* What was the revenue growth rate of Microsoft Cloud in the second quarter?',\n '* What was the total revenue of Microsoft Cloud in the second quarter?',\n '* How does Microsoft report growth rates in constant currency?',\n '* What is the year-over-year growth rate of Microsoft Cloud?',\n '* Are the growth rates in constant currency different from the actual growth rates?',\n '* Where can investors find the prepared remarks and transcript of the earnings call?',\n '* What is the trend of enterprise adoption of AI technology?',\n \"* What was the previous year's revenue for Microsoft Cloud for comparison?\"]"
     },
     "execution_count": 12,
     "metadata": {},
     "output_type": "execute_result"
    }
   ],
   "source": [
    "import re\n",
    "from typing import List\n",
    "import time\n",
    "\n",
    "def generate_questions(df: pd.DataFrame, chunk_id: str) -> List[str]:\n",
    "    \"\"\"\"Generate questions from an article\"\"\"\n",
    "\n",
    "    instruction = \"\"\"\n",
    "    The text below is extracted from a {article_type}.\n",
    "    You are to list possible questions that can be answered by the text.  List only within the scope of {scope}.\n",
    "    List only the questions.  Do not generate introduction and conclusion.\n",
    "    ===\n",
    "    {text}\n",
    "    \"\"\"\n",
    "\n",
    "    max_tries = 5\n",
    "    text = df.loc[chunk_id][\"content\"]\n",
    "    attempts = 0\n",
    "\n",
    "    while attempts < max_tries:\n",
    "        try:\n",
    "            questions = llm.react(\n",
    "                instruction,\n",
    "                arguments={\n",
    "                    \"article_type\": article_type,\n",
    "                    \"scope\": scope,\n",
    "                    \"text\": text,\n",
    "                },\n",
    "                temperature=temperature\n",
    "            )[\"content\"]\n",
    "            return [s for s in re.split(r\"\\n+\", questions) if s]\n",
    "\n",
    "        except (ValueError, TimeoutError) as e:\n",
    "            pause = 5 * (attempts + 1)\n",
    "            print(f\"{e}. Retry in {pause} seconds...\")\n",
    "            time.sleep(pause)\n",
    "            attempts += 1\n",
    "\n",
    "        time.sleep(2)   # To avoid HuggingFace throttling frequent access\n",
    "\n",
    "# Testing\n",
    "# generate_questions(chunk_df, \"MSFT_EC_2Q25_0001\")"
   ],
   "metadata": {
    "collapsed": false
   }
  },
  {
   "cell_type": "code",
   "execution_count": 13,
   "outputs": [],
   "source": [
    "def reformat_question(question: str) -> str | None:\n",
    "    \"\"\" Make question format consistently \"\"\"\n",
    "    if \"possible customer question\" in question:\n",
    "        # This is a useless introduction by LLM\n",
    "        return None\n",
    "\n",
    "    question = re.sub(r\"^\\s*\\d+\\.\\s*\", \"\", question)  # Remove leading enumeration numbers\n",
    "    question = re.sub(r\"^\\s*[-*]{1,2}\\s*\", \"\", question)  # Remove \"-\" or \"*\" bullet\n",
    "\n",
    "    return question\n",
    "\n",
    "# Testing\n",
    "# print(reformat_question(\"12. abce da 22\"))\n",
    "# print(reformat_question(\"  - something something\"))\n",
    "#"
   ],
   "metadata": {
    "collapsed": false
   }
  },
  {
   "cell_type": "code",
   "execution_count": 14,
   "outputs": [],
   "source": [
    "\n",
    "from tqdm.notebook import tqdm\n",
    "\n",
    "if refresh(\"query_generation\") or not os.path.exists(query_path):\n",
    "    done_chunks = set(query_df[\"chunk_id\"])\n",
    "    existing_chunks = set(chunk_df.index)\n",
    "    need_generating = list(existing_chunks - done_chunks)\n",
    "    need_generating.sort()\n",
    "\n",
    "    print(f\"Generating for {len(need_generating)} articles: {need_generating}\")\n",
    "\n",
    "    with tqdm(need_generating, desc=\"Generating Questions\") as pbar:\n",
    "        for qid in need_generating:\n",
    "            pbar.set_postfix_str(qid)\n",
    "            questions = generate_questions(chunk_df, qid)\n",
    "            for q in questions:\n",
    "                q = reformat_question(q)\n",
    "                if q:\n",
    "                    query_df.loc[len(query_df)] = [qid, q]\n",
    "\n",
    "            # Save progress so far\n",
    "            query_df.to_csv(query_path, sep=\"\\t\", index=False)\n",
    "            pbar.update()\n",
    "\n",
    "else:\n",
    "    article_questions = pd.read_table(query_path)\n"
   ],
   "metadata": {
    "collapsed": false
   }
  },
  {
   "cell_type": "code",
   "execution_count": 15,
   "outputs": [
    {
     "data": {
      "text/plain": "              chunk_id                                           question\n0    MSFT_EC_2Q25_0000  What non-GAAP financial measures will be discu...\n1    MSFT_EC_2Q25_0000  Where can the earnings press release and finan...\n2    MSFT_EC_2Q25_0000  What is the purpose of providing non-GAAP fina...\n3    MSFT_EC_2Q25_0000  How will growth comparisons be made during the...\n4    MSFT_EC_2Q25_0000   Where can more detailed outlook slides be found?\n..                 ...                                                ...\n425  MSFT_EC_2Q25_0044  Are existing customers increasing their Azure ...\n426  MSFT_EC_2Q25_0044  Are new customers making significant Azure com...\n427  MSFT_EC_2Q25_0044  What contributed to the broad-based growth in ...\n428  MSFT_EC_2Q25_0044       How did M365 Copilot perform in the quarter?\n429  MSFT_EC_2Q25_0044  What are the key components that drove the com...\n\n[430 rows x 2 columns]",
      "text/html": "<div>\n<style scoped>\n    .dataframe tbody tr th:only-of-type {\n        vertical-align: middle;\n    }\n\n    .dataframe tbody tr th {\n        vertical-align: top;\n    }\n\n    .dataframe thead th {\n        text-align: right;\n    }\n</style>\n<table border=\"1\" class=\"dataframe\">\n  <thead>\n    <tr style=\"text-align: right;\">\n      <th></th>\n      <th>chunk_id</th>\n      <th>question</th>\n    </tr>\n  </thead>\n  <tbody>\n    <tr>\n      <th>0</th>\n      <td>MSFT_EC_2Q25_0000</td>\n      <td>What non-GAAP financial measures will be discu...</td>\n    </tr>\n    <tr>\n      <th>1</th>\n      <td>MSFT_EC_2Q25_0000</td>\n      <td>Where can the earnings press release and finan...</td>\n    </tr>\n    <tr>\n      <th>2</th>\n      <td>MSFT_EC_2Q25_0000</td>\n      <td>What is the purpose of providing non-GAAP fina...</td>\n    </tr>\n    <tr>\n      <th>3</th>\n      <td>MSFT_EC_2Q25_0000</td>\n      <td>How will growth comparisons be made during the...</td>\n    </tr>\n    <tr>\n      <th>4</th>\n      <td>MSFT_EC_2Q25_0000</td>\n      <td>Where can more detailed outlook slides be found?</td>\n    </tr>\n    <tr>\n      <th>...</th>\n      <td>...</td>\n      <td>...</td>\n    </tr>\n    <tr>\n      <th>425</th>\n      <td>MSFT_EC_2Q25_0044</td>\n      <td>Are existing customers increasing their Azure ...</td>\n    </tr>\n    <tr>\n      <th>426</th>\n      <td>MSFT_EC_2Q25_0044</td>\n      <td>Are new customers making significant Azure com...</td>\n    </tr>\n    <tr>\n      <th>427</th>\n      <td>MSFT_EC_2Q25_0044</td>\n      <td>What contributed to the broad-based growth in ...</td>\n    </tr>\n    <tr>\n      <th>428</th>\n      <td>MSFT_EC_2Q25_0044</td>\n      <td>How did M365 Copilot perform in the quarter?</td>\n    </tr>\n    <tr>\n      <th>429</th>\n      <td>MSFT_EC_2Q25_0044</td>\n      <td>What are the key components that drove the com...</td>\n    </tr>\n  </tbody>\n</table>\n<p>430 rows × 2 columns</p>\n</div>"
     },
     "execution_count": 15,
     "metadata": {},
     "output_type": "execute_result"
    }
   ],
   "source": [
    "query_df"
   ],
   "metadata": {
    "collapsed": false
   }
  },
  {
   "cell_type": "markdown",
   "source": [
    "# Indexing\n",
    "\n",
    "## Index with Chunk Content Only"
   ],
   "metadata": {
    "collapsed": false
   }
  },
  {
   "cell_type": "code",
   "execution_count": 16,
   "outputs": [],
   "source": [
    "from llama_index.core import VectorStoreIndex\n",
    "#\n",
    "# Find an answer from LLaMA Index\n",
    "#\n",
    "\n",
    "from llama_index.core.evaluation import RetrieverEvaluator\n",
    "from typing import Tuple\n",
    "\n",
    "def retrieve(index: VectorStoreIndex, question: str) -> Tuple[str, str]:\n",
    "    \"\"\"Search LlamaIndex to find an answer to the question.\n",
    "    Returns a tuple containing 1) an answer in text, 2) IDs of the candidate articles that may provide information to the answer.\n",
    "    \"\"\"\n",
    "    engine = index.as_query_engine(similarity_top_k=5)\n",
    "    answer = engine.query(question)\n",
    "    cids = set([d[\"chunk_id\"] for d in answer.metadata.values()])\n",
    "    return answer.response, \",\".join(cids)\n"
   ],
   "metadata": {
    "collapsed": false
   }
  },
  {
   "cell_type": "code",
   "execution_count": 17,
   "outputs": [],
   "source": [
    "\n",
    "from llama_index.core import Document, VectorStoreIndex, StorageContext, load_index_from_storage\n",
    "\n",
    "chunk_index_path = os.path.join(data_root, index_dir, f\"{article_name}\")\n",
    "\n",
    "if not os.path.exists(chunk_index_path) or refresh(\"indexing\"):\n",
    "    documents = []\n",
    "\n",
    "    for idx, row in chunk_df.iterrows():\n",
    "        cid = idx\n",
    "        text = row[\"content\"]\n",
    "        documents.append(\n",
    "            Document(text=text, metadata={\"chunk_id\": cid}, doc_id=str(idx))\n",
    "        )\n",
    "\n",
    "    # Create a vector index with the specified embedding model\n",
    "    chunk_index = VectorStoreIndex.from_documents(documents, embed_model=embed_model)\n",
    "\n",
    "    # Save the index for later use\n",
    "    chunk_index.storage_context.persist(persist_dir=chunk_index_path)\n",
    "\n",
    "else:\n",
    "    storage_context = StorageContext.from_defaults(persist_dir=chunk_index_path)\n",
    "    chunk_index = load_index_from_storage(storage_context)\n"
   ],
   "metadata": {
    "collapsed": false
   }
  },
  {
   "cell_type": "code",
   "execution_count": 18,
   "outputs": [
    {
     "name": "stdout",
     "output_type": "stream",
     "text": [
      "(\"Microsoft's total FY2Q25 revenue is $40 billion, representing a 21% year-over-year increase.\", 'MSFT_EC_2Q25_0018,MSFT_EC_2Q25_0023,MSFT_EC_2Q25_0001,MSFT_EC_2Q25_0020,MSFT_EC_2Q25_0022')\n",
      "('Between $25.9 to $26.2 billion.', 'MSFT_EC_2Q25_0015,MSFT_EC_2Q25_0012,MSFT_EC_2Q25_0019,MSFT_EC_2Q25_0014,MSFT_EC_2Q25_0020')\n",
      "('Microsoft total FY2Q25 operating income $20.6 billion, quarter increase 32%/year increase 30%, better than consensus/market expectations 5%/3%', 'MSFT_EC_2Q25_0018,MSFT_EC_2Q25_0017,MSFT_EC_2Q25_0021,MSFT_EC_2Q25_0023,MSFT_EC_2Q25_0022')\n"
     ]
    }
   ],
   "source": [
    "# Testing\n",
    "print(retrieve(chunk_index, \"What is Microsoft total FY2Q25營收 and 季增, 年增?\"))\n",
    "print(retrieve(chunk_index, \"FY2Q25 Azure revenue\"))\n",
    "print(retrieve(chunk_index, \"Fill in values in the blanks: Microsoft total FY2Q25營業利益 $___，季增___%/年增___%，優於優於財測中值/市場預期___%/___%\"))"
   ],
   "metadata": {
    "collapsed": false
   }
  },
  {
   "cell_type": "markdown",
   "source": [
    "## Index with Question-Context Pairs (Query-Aware Indexing)"
   ],
   "metadata": {
    "collapsed": false
   }
  },
  {
   "cell_type": "code",
   "execution_count": 19,
   "outputs": [],
   "source": [
    "\n",
    "from llama_index.core import Document, VectorStoreIndex, StorageContext, load_index_from_storage\n",
    "\n",
    "qa_index_path = os.path.join(data_root, index_dir, f\"{article_name}_qa\")\n",
    "\n",
    "if not os.path.exists(qa_index_path) or refresh(\"qa_indexing\"):\n",
    "    documents = []\n",
    "\n",
    "    for idx, row in query_df.iterrows():\n",
    "        cid = row[\"chunk_id\"]\n",
    "        question = row[\"question\"]\n",
    "        text = chunk_df.loc[cid][\"content\"]\n",
    "        documents.append(\n",
    "            Document(text=f\"{question}\\n====\\n{text}\", metadata={\"chunk_id\": cid}, doc_id=str(idx))\n",
    "        )\n",
    "\n",
    "    # Create a vector index with the specified embedding model\n",
    "    query_index = VectorStoreIndex.from_documents(documents, embed_model=embed_model)\n",
    "\n",
    "    # Save the index for later use\n",
    "    query_index.storage_context.persist(persist_dir=qa_index_path)\n",
    "\n",
    "else:\n",
    "    storage_context = StorageContext.from_defaults(persist_dir=qa_index_path)\n",
    "    query_index = load_index_from_storage(storage_context)\n"
   ],
   "metadata": {
    "collapsed": false
   }
  },
  {
   "cell_type": "code",
   "execution_count": 20,
   "outputs": [
    {
     "name": "stdout",
     "output_type": "stream",
     "text": [
      "(\"Microsoft's total revenue in the second quarter was over $40 billion, representing a 21% year-over-year increase.\", 'MSFT_EC_2Q25_0018,MSFT_EC_2Q25_0023,MSFT_EC_2Q25_0001')\n",
      "('Between 31% and 32% in constant currency.', 'MSFT_EC_2Q25_0015,MSFT_EC_2Q25_0020,MSFT_EC_2Q25_0014')\n",
      "('Microsoft total FY2Q25 operating income $16.5 billion, quarter growth 15%/year growth 18%, better than consensus/market expectations 2%/3%.', 'MSFT_EC_2Q25_0023')\n"
     ]
    }
   ],
   "source": [
    "# Testing\n",
    "print(retrieve(query_index, \"What is Microsoft total FY2Q25營收 and 季增, 年增?\"))\n",
    "print(retrieve(query_index, \"FY2Q25 Azure revenue\"))\n",
    "print(retrieve(query_index, \"Fill in values in the blanks: Microsoft total FY2Q25營業利益 $___，季增___%/年增___%，優於優於財測中值/市場預期___%/___%\"))"
   ],
   "metadata": {
    "collapsed": false
   }
  }
 ],
 "metadata": {
  "kernelspec": {
   "name": "python311",
   "language": "python",
   "display_name": "Python 3.11"
  },
  "language_info": {
   "codemirror_mode": {
    "name": "ipython",
    "version": 2
   },
   "file_extension": ".py",
   "mimetype": "text/x-python",
   "name": "python",
   "nbconvert_exporter": "python",
   "pygments_lexer": "ipython2",
   "version": "2.7.6"
  }
 },
 "nbformat": 4,
 "nbformat_minor": 0
}
