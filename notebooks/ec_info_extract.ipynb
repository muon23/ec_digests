{
 "cells": [
  {
   "cell_type": "markdown",
   "source": [
    "# Earnings Call Information Exact POC\n",
    "\n",
    "POC to extract structured information from earning call scrips.\n",
    "\n",
    "\n",
    "## Requirements\n",
    "#### Package Requirements\n",
    "This notebook was created with the following packages\n",
    "- python                    3.11\n",
    "- llama-index               0.12.25\n",
    "- pandas                    2.2.2\n",
    "- langchain                 0.3.21\n",
    "\n",
    "#### Other Requirements\n",
    "- Environment variable `OPENAI_API_KEY`.  This is needed for LLaMA Index to use its default GPT-3.5 to provide an answer to the query.\n",
    "- Environment variable `DEEPINFRA_API_KEY`.  This is needed for REST API access LLM models in DeepInfra."
   ],
   "metadata": {
    "collapsed": false
   }
  },
  {
   "cell_type": "code",
   "execution_count": 1,
   "metadata": {
    "collapsed": true
   },
   "outputs": [],
   "source": [
    "import pandas as pd"
   ]
  },
  {
   "cell_type": "markdown",
   "source": [
    "## Set up Environment\n",
    "\n",
    "Setting up environment specific parameters.  Modify these to suit your local environment."
   ],
   "metadata": {
    "collapsed": false
   }
  },
  {
   "cell_type": "code",
   "execution_count": 2,
   "outputs": [],
   "source": [
    "\n",
    "# Locations of the data sources\n",
    "#\n",
    "\n",
    "data_root = \"../data\"         # Directory to the data\n",
    "ec_dir = \"earning_calls\"\n",
    "working_dir = \"working\"\n",
    "index_dir = \"indices\"\n"
   ],
   "metadata": {
    "collapsed": false
   }
  },
  {
   "cell_type": "code",
   "execution_count": 3,
   "outputs": [],
   "source": [
    "import os\n",
    "\n",
    "# Keys for LLM access\n",
    "openai_key = os.environ.get(\"OPENAI_API_KEY\")\n",
    "# hf_key = os.environ.get(\"HUGGINGFACEHUB_API_TOKEN\")\n",
    "di_key = os.environ.get(\"DEEPINFRA_API_KEY\")\n",
    "\n",
    "if not openai_key:\n",
    "    raise EnvironmentError(f\"OPENAI_API_KEY must be provided for this notebook to work.  Needed by LLaMA index.\")\n",
    "\n",
    "# if not hf_key:\n",
    "#     raise EnvironmentError(f\"Need HuggingFace token for this notebook to work.  Needed for query extension with DeepSeek-R1\"  )\n",
    "\n",
    "if not di_key:\n",
    "    raise  EnvironmentError(f\"DEEPINFRA_API_KEY is needed to run models in DeepInfra\")"
   ],
   "metadata": {
    "collapsed": false
   }
  },
  {
   "cell_type": "code",
   "execution_count": 4,
   "outputs": [],
   "source": [
    "#\n",
    "# Tweak these values\n",
    "#\n",
    "\n",
    "# Chunking size\n",
    "chunk_size = 500\n",
    "chunk_overlap = 100\n",
    "\n",
    "# Type of article\n",
    "article_type = \"transcript of the earnings call\"\n",
    "article_name = \"MSFT_EC_2Q25\"\n",
    "article_file = \"msft/MSFT_FY2Q25__1__m4a_Good_Tape_2025-03-19.txt\"\n",
    "\n",
    "# Query scopes\n",
    "scope = \"Microsoft financial and operational reports\"\n",
    "\n",
    "# LLM models\n",
    "# llm_model_name = \"gpt-4\"\n",
    "# llm_model_name = \"gpt-4.5\"\n",
    "llm_model_name = \"llama-3\"\n",
    "# llm_model_name = \"gemini-2\"\n",
    "\n",
    "# Generation temperature\n",
    "temperature = 0.3\n"
   ],
   "metadata": {
    "collapsed": false
   }
  },
  {
   "cell_type": "code",
   "execution_count": 5,
   "outputs": [],
   "source": [
    "#\n",
    "# Select an embedding model for vector database.  Here I use LLaMA Index.\n",
    "#\n",
    "\n",
    "from llama_index.embeddings.openai import OpenAIEmbedding\n",
    "\n",
    "# Initialize the OpenAI embedding model\n",
    "# embed_model = OpenAIEmbedding(model=\"text-embedding-3-small\")\n",
    "embed_model = OpenAIEmbedding(model=\"text-embedding-ada-002\")\n",
    "\n",
    "# Testing\n",
    "# text = \"OpenAI's new embedding models at works\"\n",
    "# print(embed_model.get_text_embedding(text))"
   ],
   "metadata": {
    "collapsed": false
   }
  },
  {
   "cell_type": "code",
   "execution_count": 6,
   "outputs": [],
   "source": [
    "# These are steps in this notebook that we want to force refreshing.\n",
    "# Many of the steps are time-consuming, so I save their results in the data directory.\n",
    "# If the saved results exists, I will reload them instead of recalculating them.\n",
    "# Setting any of the steps to True forces the code to recalculate the result for that step.\n",
    "steps = {\n",
    "    \"chunking\": False,                       # Input the article and do chunking\n",
    "    \"extract_values\": False,                 # Extract values from the chunks\n",
    "    \"table_embedding\": False,                 # Embed table rows\n",
    "}\n",
    "\n",
    "def refresh(what:str):\n",
    "    return what in steps and steps[what]"
   ],
   "metadata": {
    "collapsed": false
   }
  },
  {
   "cell_type": "code",
   "execution_count": 7,
   "outputs": [
    {
     "name": "stdout",
     "output_type": "stream",
     "text": [
      "Refresh the following steps:\n"
     ]
    }
   ],
   "source": [
    "step_dependencies = {\n",
    "    \"extract_values\": [\"chunking\"],\n",
    "}\n",
    "\n",
    "more_to_resolve = True\n",
    "while more_to_resolve:\n",
    "    more_to_resolve = False\n",
    "    for step in step_dependencies:\n",
    "        if not steps[step] and any([steps[s] for s in step_dependencies[step]]):\n",
    "            steps[step] = True\n",
    "            more_to_resolve = True\n",
    "\n",
    "print(\"Refresh the following steps:\")\n",
    "for s in steps:\n",
    "    if steps[s]:\n",
    "        print(f\"- {s}\")"
   ],
   "metadata": {
    "collapsed": false
   }
  },
  {
   "cell_type": "markdown",
   "source": [
    "## Reading and Chunking\n",
    "\n",
    "Read the transcript and chunk it."
   ],
   "metadata": {
    "collapsed": false
   }
  },
  {
   "cell_type": "code",
   "execution_count": 8,
   "outputs": [],
   "source": [
    "from llama_index.core.node_parser import SentenceSplitter\n",
    "\n",
    "article_path = os.path.join(data_root, ec_dir, article_file)\n",
    "chunk_path = os.path.join(data_root, working_dir, f\"{article_name}_info_chunks.parquet\")\n",
    "\n",
    "if refresh(\"chunking\") or not os.path.exists(chunk_path):\n",
    "\n",
    "    # Input\n",
    "    with open(article_path, \"r\", encoding=\"utf-8\") as tfd:\n",
    "        transcript_content = tfd.read()\n",
    "\n",
    "    # Initialize the SentenceSplitter\n",
    "    sentence_splitter = SentenceSplitter(chunk_size=chunk_size, chunk_overlap=chunk_overlap)\n",
    "\n",
    "    # Split the text into chunks\n",
    "    chunks = sentence_splitter.split_text(transcript_content)\n",
    "\n",
    "    # Put into Pandas\n",
    "    chunk_ids = [f\"{article_name}_{i:04d}\" for i in range(len(chunks))]\n",
    "    chunk_df = pd.DataFrame(zip(chunk_ids, chunks), columns=[\"chunk_id\", \"content\"])\n",
    "    chunk_df = chunk_df.set_index(\"chunk_id\")\n",
    "\n",
    "    # Save the results\n",
    "    chunk_df.to_parquet(chunk_path)\n",
    "else:\n",
    "    chunk_df = pd.read_parquet(chunk_path)"
   ],
   "metadata": {
    "collapsed": false
   }
  },
  {
   "cell_type": "code",
   "execution_count": 9,
   "outputs": [
    {
     "data": {
      "text/plain": "                                                             content\nchunk_id                                                            \nMSFT_EC_2Q25_0000  MSFT_FY2Q25 (1).m4a\\n\\noperator assistance, pl...\nMSFT_EC_2Q25_0001  If you ask a question, it will be included in ...\nMSFT_EC_2Q25_0002  From now on, it's a more\\ncontinuous cycle gov...\nMSFT_EC_2Q25_0003  Now on to AI platform and tools. As we shared ...\nMSFT_EC_2Q25_0004  When you look at customers who purchased Copil...\nMSFT_EC_2Q25_0005  And we are leaning into this. With Dynamics 36...\nMSFT_EC_2Q25_0006  Now on to our consumer businesses, starting wi...\nMSFT_EC_2Q25_0007  All Up Game Pass set a new quarterly record fo...\nMSFT_EC_2Q25_0008  Microsoft Cloud gross margin percentage was 70...\nMSFT_EC_2Q25_0009  M365 consumer cloud revenue increased 8%, slig...\nMSFT_EC_2Q25_0010  Enterprise and partner\\nservices revenue decre...\nMSFT_EC_2Q25_0011  Capital expenditures, including finance leases...\nMSFT_EC_2Q25_0012  In commercial bookings, with a relatively flat...\nMSFT_EC_2Q25_0013  Revenue will continue to be driven by Azure, w...\nMSFT_EC_2Q25_0014  And in gaming, we expect revenue growth to be ...\nMSFT_EC_2Q25_0015  As a reminder, our long-lived infrastructure i...\nMSFT_EC_2Q25_0016  For participants using speaker equipment, it m...\nMSFT_EC_2Q25_0017  And I think we are going to make some adjustme...\nMSFT_EC_2Q25_0018  In general, the only thing that's changed is r...\nMSFT_EC_2Q25_0019  Our estimates are the co-pilot was much bigger...\nMSFT_EC_2Q25_0020  And so that's what you see. And then to that, ...\nMSFT_EC_2Q25_0021  I think you might frame your strategic decisio...\nMSFT_EC_2Q25_0022  You want to continuously upgrade the fleet, mo...\nMSFT_EC_2Q25_0023  And then you'll see the pivot to more CPU and ...\nMSFT_EC_2Q25_0024  So you can see the benefits of inference optim...\nMSFT_EC_2Q25_0025  So we are also investing significantly in all ...\nMSFT_EC_2Q25_0026  And so that's what we're seeing. It starts may...\nMSFT_EC_2Q25_0027  Our core motions\\nare things like, to your poi...",
      "text/html": "<div>\n<style scoped>\n    .dataframe tbody tr th:only-of-type {\n        vertical-align: middle;\n    }\n\n    .dataframe tbody tr th {\n        vertical-align: top;\n    }\n\n    .dataframe thead th {\n        text-align: right;\n    }\n</style>\n<table border=\"1\" class=\"dataframe\">\n  <thead>\n    <tr style=\"text-align: right;\">\n      <th></th>\n      <th>content</th>\n    </tr>\n    <tr>\n      <th>chunk_id</th>\n      <th></th>\n    </tr>\n  </thead>\n  <tbody>\n    <tr>\n      <th>MSFT_EC_2Q25_0000</th>\n      <td>MSFT_FY2Q25 (1).m4a\\n\\noperator assistance, pl...</td>\n    </tr>\n    <tr>\n      <th>MSFT_EC_2Q25_0001</th>\n      <td>If you ask a question, it will be included in ...</td>\n    </tr>\n    <tr>\n      <th>MSFT_EC_2Q25_0002</th>\n      <td>From now on, it's a more\\ncontinuous cycle gov...</td>\n    </tr>\n    <tr>\n      <th>MSFT_EC_2Q25_0003</th>\n      <td>Now on to AI platform and tools. As we shared ...</td>\n    </tr>\n    <tr>\n      <th>MSFT_EC_2Q25_0004</th>\n      <td>When you look at customers who purchased Copil...</td>\n    </tr>\n    <tr>\n      <th>MSFT_EC_2Q25_0005</th>\n      <td>And we are leaning into this. With Dynamics 36...</td>\n    </tr>\n    <tr>\n      <th>MSFT_EC_2Q25_0006</th>\n      <td>Now on to our consumer businesses, starting wi...</td>\n    </tr>\n    <tr>\n      <th>MSFT_EC_2Q25_0007</th>\n      <td>All Up Game Pass set a new quarterly record fo...</td>\n    </tr>\n    <tr>\n      <th>MSFT_EC_2Q25_0008</th>\n      <td>Microsoft Cloud gross margin percentage was 70...</td>\n    </tr>\n    <tr>\n      <th>MSFT_EC_2Q25_0009</th>\n      <td>M365 consumer cloud revenue increased 8%, slig...</td>\n    </tr>\n    <tr>\n      <th>MSFT_EC_2Q25_0010</th>\n      <td>Enterprise and partner\\nservices revenue decre...</td>\n    </tr>\n    <tr>\n      <th>MSFT_EC_2Q25_0011</th>\n      <td>Capital expenditures, including finance leases...</td>\n    </tr>\n    <tr>\n      <th>MSFT_EC_2Q25_0012</th>\n      <td>In commercial bookings, with a relatively flat...</td>\n    </tr>\n    <tr>\n      <th>MSFT_EC_2Q25_0013</th>\n      <td>Revenue will continue to be driven by Azure, w...</td>\n    </tr>\n    <tr>\n      <th>MSFT_EC_2Q25_0014</th>\n      <td>And in gaming, we expect revenue growth to be ...</td>\n    </tr>\n    <tr>\n      <th>MSFT_EC_2Q25_0015</th>\n      <td>As a reminder, our long-lived infrastructure i...</td>\n    </tr>\n    <tr>\n      <th>MSFT_EC_2Q25_0016</th>\n      <td>For participants using speaker equipment, it m...</td>\n    </tr>\n    <tr>\n      <th>MSFT_EC_2Q25_0017</th>\n      <td>And I think we are going to make some adjustme...</td>\n    </tr>\n    <tr>\n      <th>MSFT_EC_2Q25_0018</th>\n      <td>In general, the only thing that's changed is r...</td>\n    </tr>\n    <tr>\n      <th>MSFT_EC_2Q25_0019</th>\n      <td>Our estimates are the co-pilot was much bigger...</td>\n    </tr>\n    <tr>\n      <th>MSFT_EC_2Q25_0020</th>\n      <td>And so that's what you see. And then to that, ...</td>\n    </tr>\n    <tr>\n      <th>MSFT_EC_2Q25_0021</th>\n      <td>I think you might frame your strategic decisio...</td>\n    </tr>\n    <tr>\n      <th>MSFT_EC_2Q25_0022</th>\n      <td>You want to continuously upgrade the fleet, mo...</td>\n    </tr>\n    <tr>\n      <th>MSFT_EC_2Q25_0023</th>\n      <td>And then you'll see the pivot to more CPU and ...</td>\n    </tr>\n    <tr>\n      <th>MSFT_EC_2Q25_0024</th>\n      <td>So you can see the benefits of inference optim...</td>\n    </tr>\n    <tr>\n      <th>MSFT_EC_2Q25_0025</th>\n      <td>So we are also investing significantly in all ...</td>\n    </tr>\n    <tr>\n      <th>MSFT_EC_2Q25_0026</th>\n      <td>And so that's what we're seeing. It starts may...</td>\n    </tr>\n    <tr>\n      <th>MSFT_EC_2Q25_0027</th>\n      <td>Our core motions\\nare things like, to your poi...</td>\n    </tr>\n  </tbody>\n</table>\n</div>"
     },
     "execution_count": 9,
     "metadata": {},
     "output_type": "execute_result"
    }
   ],
   "source": [
    "chunk_df"
   ],
   "metadata": {
    "collapsed": false
   }
  },
  {
   "cell_type": "markdown",
   "source": [
    "## Extract Values\n",
    "\n",
    "Ask LLM to get values into structured format"
   ],
   "metadata": {
    "collapsed": false
   }
  },
  {
   "cell_type": "code",
   "execution_count": 10,
   "outputs": [],
   "source": [
    "import bots\n",
    "\n",
    "llm = bots.of(llm_model_name)"
   ],
   "metadata": {
    "collapsed": false
   }
  },
  {
   "cell_type": "code",
   "execution_count": 11,
   "outputs": [],
   "source": [
    "import re\n",
    "import json\n",
    "import time\n",
    "from typing import List\n",
    "\n",
    "\n",
    "def extract_values(df: pd.DataFrame, chunk_id: str) -> List[dict]:\n",
    "    \"\"\" Extract information elements that contains a value \"\"\"\n",
    "\n",
    "    instruction = \"\"\"\n",
    "    The text below is extracted from a {article_type}.\n",
    "    You are to extract a list of items and their values.  List only within the scope of {scope}.\n",
    "    Use JSON format with the following fields:\n",
    "    - entity: (e.g., IBM total, AWS division)\n",
    "    - item: (e.g., revenue, net income, gross profit margin)\n",
    "    - value: (e.g., $1,000,000, 75%) (use negative value for down trend)\n",
    "    - unit: (e.g., USD, ea, %)\n",
    "    - comments: (optional. for any supporting information, such as the contributing factor affecting the value)\n",
    "    Output only the list.\n",
    "    ===\n",
    "    {text}\n",
    "    \"\"\"\n",
    "\n",
    "    max_tries = 5\n",
    "    text = df.loc[chunk_id][\"content\"]\n",
    "    attempts = 0\n",
    "\n",
    "    while attempts < max_tries:\n",
    "        try:\n",
    "            values = llm.react(\n",
    "                instruction,\n",
    "                arguments={\n",
    "                    \"article_type\": article_type,\n",
    "                    \"scope\": scope,\n",
    "                    \"text\": text,\n",
    "                },\n",
    "                temperature=temperature\n",
    "            )[\"content\"]\n",
    "\n",
    "            values = re.sub(r\"^(['\\\"`]+)(.*?)(\\1)$\", r\"\\2\", values, flags=re.DOTALL)\n",
    "            values = json.loads(values)\n",
    "            values = [{**d, \"chunk_id\": chunk_id} for d in values]\n",
    "\n",
    "            return values\n",
    "\n",
    "        except (ValueError, TimeoutError) as e:\n",
    "            pause = 5 * (attempts + 1)\n",
    "            print(f\"{e}. Retry in {pause} seconds...\")\n",
    "            time.sleep(pause)\n",
    "            attempts += 1\n",
    "\n",
    "        time.sleep(2)   # To avoid HuggingFace throttling frequent access\n",
    "\n",
    "# Testing\n",
    "# extracted = extract_values(chunk_df, \"MSFT_EC_2Q25_0001\")\n",
    "# print(extracted)"
   ],
   "metadata": {
    "collapsed": false
   }
  },
  {
   "cell_type": "code",
   "execution_count": 12,
   "outputs": [
    {
     "data": {
      "text/plain": "     index                     entity                     item value  \\\n0        0            Microsoft Cloud                  revenue    40   \n1        1               Microsoft AI  annual revenue run rate    13   \n2        2               AI inference   price performance gain     2   \n3        3                   AI model   price performance gain    10   \n4        4            Microsoft Azure     data center capacity     2   \n..     ...                        ...                      ...   ...   \n177    177       Microsoft commercial             RPO increase    39   \n178    178       Microsoft commercial          bookings growth    75   \n179    179            Microsoft Azure              commitments   NaN   \n180    180  Microsoft commercial core      motions performance   NaN   \n181    181               Microsoft E5    quarterly performance   NaN   \n\n            unit                                           comments  \\\n0    billion USD                              up 21% year over year   \n1    billion USD                             up 175% year over year   \n2          times                      for every hardware generation   \n3          times  for every model generation due to software opt...   \n4          times                    doubled in the last three years   \n..           ...                                                ...   \n177  billion USD                                sequential increase   \n178            %                      constant currency, sequential   \n179          NaN           OpenAI commitments, ongoing relationship   \n180          NaN             good performance, renewals and add-ons   \n181          NaN                                      good momentum   \n\n              chunk_id    company             context  \n0    MSFT_EC_2Q25_0001  Microsoft  2Q25 Earnings Call  \n1    MSFT_EC_2Q25_0001  Microsoft  2Q25 Earnings Call  \n2    MSFT_EC_2Q25_0001  Microsoft  2Q25 Earnings Call  \n3    MSFT_EC_2Q25_0001  Microsoft  2Q25 Earnings Call  \n4    MSFT_EC_2Q25_0002  Microsoft  2Q25 Earnings Call  \n..                 ...        ...                 ...  \n177  MSFT_EC_2Q25_0026  Microsoft  2Q25 Earnings Call  \n178  MSFT_EC_2Q25_0026  Microsoft  2Q25 Earnings Call  \n179  MSFT_EC_2Q25_0026  Microsoft  2Q25 Earnings Call  \n180  MSFT_EC_2Q25_0026  Microsoft  2Q25 Earnings Call  \n181  MSFT_EC_2Q25_0026  Microsoft  2Q25 Earnings Call  \n\n[182 rows x 9 columns]",
      "text/html": "<div>\n<style scoped>\n    .dataframe tbody tr th:only-of-type {\n        vertical-align: middle;\n    }\n\n    .dataframe tbody tr th {\n        vertical-align: top;\n    }\n\n    .dataframe thead th {\n        text-align: right;\n    }\n</style>\n<table border=\"1\" class=\"dataframe\">\n  <thead>\n    <tr style=\"text-align: right;\">\n      <th></th>\n      <th>index</th>\n      <th>entity</th>\n      <th>item</th>\n      <th>value</th>\n      <th>unit</th>\n      <th>comments</th>\n      <th>chunk_id</th>\n      <th>company</th>\n      <th>context</th>\n    </tr>\n  </thead>\n  <tbody>\n    <tr>\n      <th>0</th>\n      <td>0</td>\n      <td>Microsoft Cloud</td>\n      <td>revenue</td>\n      <td>40</td>\n      <td>billion USD</td>\n      <td>up 21% year over year</td>\n      <td>MSFT_EC_2Q25_0001</td>\n      <td>Microsoft</td>\n      <td>2Q25 Earnings Call</td>\n    </tr>\n    <tr>\n      <th>1</th>\n      <td>1</td>\n      <td>Microsoft AI</td>\n      <td>annual revenue run rate</td>\n      <td>13</td>\n      <td>billion USD</td>\n      <td>up 175% year over year</td>\n      <td>MSFT_EC_2Q25_0001</td>\n      <td>Microsoft</td>\n      <td>2Q25 Earnings Call</td>\n    </tr>\n    <tr>\n      <th>2</th>\n      <td>2</td>\n      <td>AI inference</td>\n      <td>price performance gain</td>\n      <td>2</td>\n      <td>times</td>\n      <td>for every hardware generation</td>\n      <td>MSFT_EC_2Q25_0001</td>\n      <td>Microsoft</td>\n      <td>2Q25 Earnings Call</td>\n    </tr>\n    <tr>\n      <th>3</th>\n      <td>3</td>\n      <td>AI model</td>\n      <td>price performance gain</td>\n      <td>10</td>\n      <td>times</td>\n      <td>for every model generation due to software opt...</td>\n      <td>MSFT_EC_2Q25_0001</td>\n      <td>Microsoft</td>\n      <td>2Q25 Earnings Call</td>\n    </tr>\n    <tr>\n      <th>4</th>\n      <td>4</td>\n      <td>Microsoft Azure</td>\n      <td>data center capacity</td>\n      <td>2</td>\n      <td>times</td>\n      <td>doubled in the last three years</td>\n      <td>MSFT_EC_2Q25_0002</td>\n      <td>Microsoft</td>\n      <td>2Q25 Earnings Call</td>\n    </tr>\n    <tr>\n      <th>...</th>\n      <td>...</td>\n      <td>...</td>\n      <td>...</td>\n      <td>...</td>\n      <td>...</td>\n      <td>...</td>\n      <td>...</td>\n      <td>...</td>\n      <td>...</td>\n    </tr>\n    <tr>\n      <th>177</th>\n      <td>177</td>\n      <td>Microsoft commercial</td>\n      <td>RPO increase</td>\n      <td>39</td>\n      <td>billion USD</td>\n      <td>sequential increase</td>\n      <td>MSFT_EC_2Q25_0026</td>\n      <td>Microsoft</td>\n      <td>2Q25 Earnings Call</td>\n    </tr>\n    <tr>\n      <th>178</th>\n      <td>178</td>\n      <td>Microsoft commercial</td>\n      <td>bookings growth</td>\n      <td>75</td>\n      <td>%</td>\n      <td>constant currency, sequential</td>\n      <td>MSFT_EC_2Q25_0026</td>\n      <td>Microsoft</td>\n      <td>2Q25 Earnings Call</td>\n    </tr>\n    <tr>\n      <th>179</th>\n      <td>179</td>\n      <td>Microsoft Azure</td>\n      <td>commitments</td>\n      <td>NaN</td>\n      <td>NaN</td>\n      <td>OpenAI commitments, ongoing relationship</td>\n      <td>MSFT_EC_2Q25_0026</td>\n      <td>Microsoft</td>\n      <td>2Q25 Earnings Call</td>\n    </tr>\n    <tr>\n      <th>180</th>\n      <td>180</td>\n      <td>Microsoft commercial core</td>\n      <td>motions performance</td>\n      <td>NaN</td>\n      <td>NaN</td>\n      <td>good performance, renewals and add-ons</td>\n      <td>MSFT_EC_2Q25_0026</td>\n      <td>Microsoft</td>\n      <td>2Q25 Earnings Call</td>\n    </tr>\n    <tr>\n      <th>181</th>\n      <td>181</td>\n      <td>Microsoft E5</td>\n      <td>quarterly performance</td>\n      <td>NaN</td>\n      <td>NaN</td>\n      <td>good momentum</td>\n      <td>MSFT_EC_2Q25_0026</td>\n      <td>Microsoft</td>\n      <td>2Q25 Earnings Call</td>\n    </tr>\n  </tbody>\n</table>\n<p>182 rows × 9 columns</p>\n</div>"
     },
     "execution_count": 12,
     "metadata": {},
     "output_type": "execute_result"
    }
   ],
   "source": [
    "values_path = os.path.join(data_root, working_dir, f\"{article_name}_values.tsv\")\n",
    "\n",
    "if not os.path.exists(values_path) or refresh(\"query_generation\"):\n",
    "    values_df = pd.DataFrame(columns=[\"entity\", \"item\", \"value\", \"unit\", \"comments\", \"chunk_id\"])\n",
    "else:\n",
    "    values_df = pd.read_table(values_path).reset_index()\n",
    "\n",
    "values_df"
   ],
   "metadata": {
    "collapsed": false
   }
  },
  {
   "cell_type": "code",
   "execution_count": 13,
   "outputs": [],
   "source": [
    "values_df = pd.DataFrame(columns=[\"entity\", \"item\", \"value\", \"unit\", \"comments\", \"chunk_id\"])"
   ],
   "metadata": {
    "collapsed": false
   }
  },
  {
   "cell_type": "code",
   "execution_count": 14,
   "outputs": [],
   "source": [
    "\n",
    "from util.Scaler import Scaler\n",
    "from tqdm.notebook import tqdm\n",
    "\n",
    "if refresh(\"extract_values\") or not os.path.exists(values_path):\n",
    "    done_chunks = set(values_df[\"chunk_id\"])\n",
    "    existing_chunks = set(chunk_df.index)\n",
    "    need_generating = list(existing_chunks - done_chunks)\n",
    "    need_generating.sort()\n",
    "\n",
    "    print(f\"Generating for {len(need_generating)} chunks: {need_generating}\")\n",
    "\n",
    "    with tqdm(need_generating, desc=\"Extracting Values\") as pbar:\n",
    "        for cid in need_generating:\n",
    "            pbar.set_postfix_str(cid)\n",
    "            values = extract_values(chunk_df, cid)\n",
    "\n",
    "            for v in values:\n",
    "                # Normalize the amount\n",
    "                v[\"value\"], v[\"unit\"] = Scaler.normalize(v[\"value\"], v[\"unit\"])\n",
    "\n",
    "                # Ensure all column exists\n",
    "                for col in values_df.columns:\n",
    "                    if col not in v:\n",
    "                        v[col] = None\n",
    "\n",
    "                # Create a mask for checking if the value combination exists\n",
    "                mask = (values_df[\"entity\"] == v[\"entity\"]) & (values_df[\"item\"] == v[\"item\"])\n",
    "                matching_rows = values_df[mask]\n",
    "\n",
    "                if len(matching_rows):\n",
    "                    # Check if any matching row has same value and unit\n",
    "                    value_unit_match = (matching_rows['value'] == v['value']) & \\\n",
    "                                       (matching_rows['unit'] == v['unit'])\n",
    "\n",
    "                    if value_unit_match.any():\n",
    "                        # Get index of the matching row\n",
    "                        match_idx = matching_rows[value_unit_match].index[0]\n",
    "\n",
    "                        # Append the new comment to existing comment\n",
    "                        existing_comment = values_df.at[match_idx, 'comments']\n",
    "                        new_comment = v['comments']\n",
    "\n",
    "                        if pd.isna(existing_comment):\n",
    "                            values_df.at[match_idx, 'comments'] = new_comment\n",
    "                        else:\n",
    "                            values_df.at[match_idx, 'comments'] = f\"{existing_comment}; {new_comment}\"\n",
    "\n",
    "                        existing_cid = values_df.at[match_idx, 'chunk_id']\n",
    "                        new_cid = v['chunk_id']\n",
    "                        values_df.at[match_idx, 'chunk_id'] = f\"{existing_cid}, {new_cid}\"\n",
    "\n",
    "                    else:\n",
    "                        # If no matching value and unit, add as new row\n",
    "                        values_df = pd.concat([values_df, pd.DataFrame([v])], ignore_index=True)\n",
    "\n",
    "                else:\n",
    "                    # The entity-item does not exist, add the new row\n",
    "                    values_df = pd.concat([values_df, pd.DataFrame([v])], ignore_index=True)\n",
    "\n",
    "            values_df[\"company\"] = \"Microsoft\"\n",
    "            values_df[\"context\"] = \"2Q25 Earnings Call\"\n",
    "\n",
    "            # Save progress so far\n",
    "            values_df.to_csv(values_path, sep=\"\\t\", index=False)\n",
    "            pbar.update()\n",
    "\n",
    "else:\n",
    "    values_df = pd.read_table(values_path)\n"
   ],
   "metadata": {
    "collapsed": false
   }
  },
  {
   "cell_type": "code",
   "execution_count": 15,
   "outputs": [],
   "source": [
    "values_df[\"company\"] = \"Microsoft\"\n",
    "values_df[\"context\"] = \"2Q25 Earnings Call\"\n",
    "\n",
    "# Save progress so far\n",
    "values_df.to_csv(values_path, sep=\"\\t\", index=False)\n"
   ],
   "metadata": {
    "collapsed": false
   }
  },
  {
   "cell_type": "code",
   "execution_count": 16,
   "outputs": [
    {
     "data": {
      "text/plain": "                        entity                     item value         unit  \\\n0              Microsoft Cloud                  revenue    40  billion USD   \n1                 Microsoft AI  annual revenue run rate    13  billion USD   \n2                 AI inference   price performance gain     2        times   \n3                     AI model   price performance gain    10        times   \n4              Microsoft Azure     data center capacity     2        times   \n..                         ...                      ...   ...          ...   \n177       Microsoft commercial             RPO increase    39  billion USD   \n178       Microsoft commercial          bookings growth    75            %   \n179            Microsoft Azure              commitments   NaN          NaN   \n180  Microsoft commercial core      motions performance   NaN          NaN   \n181               Microsoft E5    quarterly performance   NaN          NaN   \n\n                                              comments           chunk_id  \\\n0                                up 21% year over year  MSFT_EC_2Q25_0001   \n1                               up 175% year over year  MSFT_EC_2Q25_0001   \n2                        for every hardware generation  MSFT_EC_2Q25_0001   \n3    for every model generation due to software opt...  MSFT_EC_2Q25_0001   \n4                      doubled in the last three years  MSFT_EC_2Q25_0002   \n..                                                 ...                ...   \n177                                sequential increase  MSFT_EC_2Q25_0026   \n178                      constant currency, sequential  MSFT_EC_2Q25_0026   \n179           OpenAI commitments, ongoing relationship  MSFT_EC_2Q25_0026   \n180             good performance, renewals and add-ons  MSFT_EC_2Q25_0026   \n181                                      good momentum  MSFT_EC_2Q25_0026   \n\n       company             context  \n0    Microsoft  2Q25 Earnings Call  \n1    Microsoft  2Q25 Earnings Call  \n2    Microsoft  2Q25 Earnings Call  \n3    Microsoft  2Q25 Earnings Call  \n4    Microsoft  2Q25 Earnings Call  \n..         ...                 ...  \n177  Microsoft  2Q25 Earnings Call  \n178  Microsoft  2Q25 Earnings Call  \n179  Microsoft  2Q25 Earnings Call  \n180  Microsoft  2Q25 Earnings Call  \n181  Microsoft  2Q25 Earnings Call  \n\n[182 rows x 8 columns]",
      "text/html": "<div>\n<style scoped>\n    .dataframe tbody tr th:only-of-type {\n        vertical-align: middle;\n    }\n\n    .dataframe tbody tr th {\n        vertical-align: top;\n    }\n\n    .dataframe thead th {\n        text-align: right;\n    }\n</style>\n<table border=\"1\" class=\"dataframe\">\n  <thead>\n    <tr style=\"text-align: right;\">\n      <th></th>\n      <th>entity</th>\n      <th>item</th>\n      <th>value</th>\n      <th>unit</th>\n      <th>comments</th>\n      <th>chunk_id</th>\n      <th>company</th>\n      <th>context</th>\n    </tr>\n  </thead>\n  <tbody>\n    <tr>\n      <th>0</th>\n      <td>Microsoft Cloud</td>\n      <td>revenue</td>\n      <td>40</td>\n      <td>billion USD</td>\n      <td>up 21% year over year</td>\n      <td>MSFT_EC_2Q25_0001</td>\n      <td>Microsoft</td>\n      <td>2Q25 Earnings Call</td>\n    </tr>\n    <tr>\n      <th>1</th>\n      <td>Microsoft AI</td>\n      <td>annual revenue run rate</td>\n      <td>13</td>\n      <td>billion USD</td>\n      <td>up 175% year over year</td>\n      <td>MSFT_EC_2Q25_0001</td>\n      <td>Microsoft</td>\n      <td>2Q25 Earnings Call</td>\n    </tr>\n    <tr>\n      <th>2</th>\n      <td>AI inference</td>\n      <td>price performance gain</td>\n      <td>2</td>\n      <td>times</td>\n      <td>for every hardware generation</td>\n      <td>MSFT_EC_2Q25_0001</td>\n      <td>Microsoft</td>\n      <td>2Q25 Earnings Call</td>\n    </tr>\n    <tr>\n      <th>3</th>\n      <td>AI model</td>\n      <td>price performance gain</td>\n      <td>10</td>\n      <td>times</td>\n      <td>for every model generation due to software opt...</td>\n      <td>MSFT_EC_2Q25_0001</td>\n      <td>Microsoft</td>\n      <td>2Q25 Earnings Call</td>\n    </tr>\n    <tr>\n      <th>4</th>\n      <td>Microsoft Azure</td>\n      <td>data center capacity</td>\n      <td>2</td>\n      <td>times</td>\n      <td>doubled in the last three years</td>\n      <td>MSFT_EC_2Q25_0002</td>\n      <td>Microsoft</td>\n      <td>2Q25 Earnings Call</td>\n    </tr>\n    <tr>\n      <th>...</th>\n      <td>...</td>\n      <td>...</td>\n      <td>...</td>\n      <td>...</td>\n      <td>...</td>\n      <td>...</td>\n      <td>...</td>\n      <td>...</td>\n    </tr>\n    <tr>\n      <th>177</th>\n      <td>Microsoft commercial</td>\n      <td>RPO increase</td>\n      <td>39</td>\n      <td>billion USD</td>\n      <td>sequential increase</td>\n      <td>MSFT_EC_2Q25_0026</td>\n      <td>Microsoft</td>\n      <td>2Q25 Earnings Call</td>\n    </tr>\n    <tr>\n      <th>178</th>\n      <td>Microsoft commercial</td>\n      <td>bookings growth</td>\n      <td>75</td>\n      <td>%</td>\n      <td>constant currency, sequential</td>\n      <td>MSFT_EC_2Q25_0026</td>\n      <td>Microsoft</td>\n      <td>2Q25 Earnings Call</td>\n    </tr>\n    <tr>\n      <th>179</th>\n      <td>Microsoft Azure</td>\n      <td>commitments</td>\n      <td>NaN</td>\n      <td>NaN</td>\n      <td>OpenAI commitments, ongoing relationship</td>\n      <td>MSFT_EC_2Q25_0026</td>\n      <td>Microsoft</td>\n      <td>2Q25 Earnings Call</td>\n    </tr>\n    <tr>\n      <th>180</th>\n      <td>Microsoft commercial core</td>\n      <td>motions performance</td>\n      <td>NaN</td>\n      <td>NaN</td>\n      <td>good performance, renewals and add-ons</td>\n      <td>MSFT_EC_2Q25_0026</td>\n      <td>Microsoft</td>\n      <td>2Q25 Earnings Call</td>\n    </tr>\n    <tr>\n      <th>181</th>\n      <td>Microsoft E5</td>\n      <td>quarterly performance</td>\n      <td>NaN</td>\n      <td>NaN</td>\n      <td>good momentum</td>\n      <td>MSFT_EC_2Q25_0026</td>\n      <td>Microsoft</td>\n      <td>2Q25 Earnings Call</td>\n    </tr>\n  </tbody>\n</table>\n<p>182 rows × 8 columns</p>\n</div>"
     },
     "execution_count": 16,
     "metadata": {},
     "output_type": "execute_result"
    }
   ],
   "source": [
    "values_df"
   ],
   "metadata": {
    "collapsed": false
   }
  },
  {
   "cell_type": "markdown",
   "source": [
    "## Index Table Rows\n"
   ],
   "metadata": {
    "collapsed": false
   }
  },
  {
   "cell_type": "code",
   "execution_count": 17,
   "outputs": [],
   "source": [
    "from util.TableIndexer import TableIndexer\n",
    "\n",
    "value_index_path = os.path.join(data_root, index_dir, f\"{article_name}_values\")\n",
    "\n",
    "if True or refresh(\"table_embedding\") or not os.path.exists(value_index_path):\n",
    "    indexer = TableIndexer()\n",
    "    indexer.insert(values_df, metadata_fields=[\"chunk_id\"])\n",
    "\n",
    "    indexer.save(value_index_path)\n",
    "\n",
    "else:\n",
    "    indexer = TableIndexer.load(value_index_path)"
   ],
   "metadata": {
    "collapsed": false
   }
  },
  {
   "cell_type": "code",
   "execution_count": 34,
   "outputs": [],
   "source": [
    "# These values in the MSFT-FY2Q25-法說會memo.txt but not in MSFT_FY2Q25__1__m4a_Good_Tape_2025-03-19.txt\n",
    "# print(indexer.query(\"What is Microsoft total FY2Q25營收季增? (cite chunk_id in [])\")) # (6.2% not found in document)\n",
    "# print(indexer.query(\"What is Microsoft total FY2Q25營收年增? (cite chunk_id in [])\")) # (12.3 not found in document)\n",
    "# print(indexer.query(\"What is Microsoft total FY2Q25營收優於財測中值? (cite chunk_id in [])\")) # No value (not found in EC)\n",
    "# print(indexer.query(\"What is Microsoft total FY2Q25營收市場預期? (cite chunk_id in [])\")) # Wrong value (not found in EC)\n",
    "# print(indexer.query(\"What is Microsoft total FY2Q25毛利率? (cite chunk_id in [])\")) # Wrong value (not found in EC)\n"
   ],
   "metadata": {
    "collapsed": false
   }
  },
  {
   "cell_type": "code",
   "execution_count": 42,
   "outputs": [],
   "source": [
    "def ask(question: str):\n",
    "    print(f\"Q: {question}\")\n",
    "    question += \" (cite chunk_id in [])\"\n",
    "    print(f\"A: {indexer.query(question, top_k=10)}\")\n",
    "    print()"
   ],
   "metadata": {
    "collapsed": false
   }
  },
  {
   "cell_type": "code",
   "execution_count": 43,
   "outputs": [
    {
     "name": "stdout",
     "output_type": "stream",
     "text": [
      "Q: What is Microsoft revenue of 2Q25?\n",
      "A: Microsoft revenue of 2Q25 is 69.6 billion USD [MSFT_EC_2Q25_0007].\n",
      "\n",
      "Q: What is Microsoft total FY2Q25營收?\n",
      "A: Microsoft total FY2Q25 revenue is 69.6 billion USD [MSFT_EC_2Q25_0007].\n",
      "\n",
      "Q: Microsoft の 2025 年第 2 四半期の総収益はいくらですか?\n",
      "A: Microsoftの2025年第2四半期の総収益は69.6十億米ドルです [MSFT_EC_2Q25_0007]。\n",
      "\n",
      "Q: What is Microsoft FY2Q25營收?\n",
      "A: Microsoft FY2Q25 revenue is 69.6 billion USD [MSFT_EC_2Q25_0007].\n",
      "\n",
      "Q: What is Microsoft total FY2Q25 gross margin?\n",
      "A: Microsoft total FY2Q25 gross margin is 13% [MSFT_EC_2Q25_0007].\n",
      "\n",
      "Q: What is Azure revenue growth?\n",
      "A: Azure revenue growth is 31% [MSFT_EC_2Q25_0012].\n",
      "\n",
      "Q: 智慧雲端營收年增%\n",
      "A: 智慧雲端營收年增為19% [MSFT_EC_2Q25_0009]。\n",
      "\n",
      "Q: 智慧雲端營收\n",
      "A: 智慧雲端營收為 25.5 億美元，增長了 19% [MSFT_EC_2Q25_0009]。\n",
      "\n",
      "Q: 智慧雲端營收 USD forecast\n",
      "A: 智慧雲端營收 USD 預測為 25.9 到 26.2 百萬美元 [MSFT_EC_2Q25_0012]。\n",
      "\n"
     ]
    }
   ],
   "source": [
    "ask(\"What is Microsoft revenue of 2Q25?\")\n",
    "ask(\"What is Microsoft total FY2Q25營收?\")\n",
    "ask(\"Microsoft の 2025 年第 2 四半期の総収益はいくらですか?\")\n",
    "ask(\"What is Microsoft FY2Q25營收?\")\n",
    "ask(\"What is Microsoft total FY2Q25 gross margin?\")\n",
    "ask(\"What is Azure revenue growth?\")\n",
    "ask(\"智慧雲端營收年增%\")\n",
    "ask(\"智慧雲端營收\")\n",
    "ask(\"智慧雲端營收 USD forecast\")\n"
   ],
   "metadata": {
    "collapsed": false
   }
  },
  {
   "cell_type": "markdown",
   "source": [
    "## Create an Agent"
   ],
   "metadata": {
    "collapsed": false
   }
  }
 ],
 "metadata": {
  "kernelspec": {
   "name": "python311",
   "language": "python",
   "display_name": "Python 3.11"
  },
  "language_info": {
   "codemirror_mode": {
    "name": "ipython",
    "version": 2
   },
   "file_extension": ".py",
   "mimetype": "text/x-python",
   "name": "python",
   "nbconvert_exporter": "python",
   "pygments_lexer": "ipython2",
   "version": "2.7.6"
  }
 },
 "nbformat": 4,
 "nbformat_minor": 0
}
